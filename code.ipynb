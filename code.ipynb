{
 "cells": [
  {
   "cell_type": "code",
   "execution_count": 133,
   "metadata": {},
   "outputs": [],
   "source": [
    "import pandas as pd \n",
    "import numpy as np \n",
    "import matplotlib.pyplot as plt \n",
    "import seaborn as sns\n",
    "from sklearn.model_selection import train_test_split\n",
    "from sklearn.linear_model import LogisticRegression\n",
    "from sklearn.metrics import accuracy_score, classification_report\n"
   ]
  },
  {
   "cell_type": "code",
   "execution_count": 67,
   "metadata": {},
   "outputs": [
    {
     "data": {
      "text/html": [
       "<div>\n",
       "<style scoped>\n",
       "    .dataframe tbody tr th:only-of-type {\n",
       "        vertical-align: middle;\n",
       "    }\n",
       "\n",
       "    .dataframe tbody tr th {\n",
       "        vertical-align: top;\n",
       "    }\n",
       "\n",
       "    .dataframe thead th {\n",
       "        text-align: right;\n",
       "    }\n",
       "</style>\n",
       "<table border=\"1\" class=\"dataframe\">\n",
       "  <thead>\n",
       "    <tr style=\"text-align: right;\">\n",
       "      <th></th>\n",
       "      <th>id</th>\n",
       "      <th>country_name</th>\n",
       "      <th>league_name</th>\n",
       "      <th>season</th>\n",
       "      <th>stage</th>\n",
       "      <th>date</th>\n",
       "      <th>home_team</th>\n",
       "      <th>away_team</th>\n",
       "      <th>home_team_goal</th>\n",
       "      <th>away_team_goal</th>\n",
       "      <th>B365H</th>\n",
       "      <th>B365D</th>\n",
       "      <th>B365A</th>\n",
       "      <th>BSH</th>\n",
       "      <th>BSD</th>\n",
       "      <th>BSA</th>\n",
       "      <th>diff_goals</th>\n",
       "      <th>target</th>\n",
       "    </tr>\n",
       "  </thead>\n",
       "  <tbody>\n",
       "    <tr>\n",
       "      <th>0</th>\n",
       "      <td>24559</td>\n",
       "      <td>Switzerland</td>\n",
       "      <td>Switzerland Super League</td>\n",
       "      <td>2008/2009</td>\n",
       "      <td>1</td>\n",
       "      <td>2008-07-18 00:00:00</td>\n",
       "      <td>BSC Young Boys</td>\n",
       "      <td>FC Basel</td>\n",
       "      <td>1</td>\n",
       "      <td>2</td>\n",
       "      <td>NaN</td>\n",
       "      <td>NaN</td>\n",
       "      <td>NaN</td>\n",
       "      <td>NaN</td>\n",
       "      <td>NaN</td>\n",
       "      <td>NaN</td>\n",
       "      <td>-1</td>\n",
       "      <td>1</td>\n",
       "    </tr>\n",
       "    <tr>\n",
       "      <th>1</th>\n",
       "      <td>24560</td>\n",
       "      <td>Switzerland</td>\n",
       "      <td>Switzerland Super League</td>\n",
       "      <td>2008/2009</td>\n",
       "      <td>1</td>\n",
       "      <td>2008-07-19 00:00:00</td>\n",
       "      <td>FC Aarau</td>\n",
       "      <td>FC Sion</td>\n",
       "      <td>3</td>\n",
       "      <td>1</td>\n",
       "      <td>NaN</td>\n",
       "      <td>NaN</td>\n",
       "      <td>NaN</td>\n",
       "      <td>NaN</td>\n",
       "      <td>NaN</td>\n",
       "      <td>NaN</td>\n",
       "      <td>2</td>\n",
       "      <td>1</td>\n",
       "    </tr>\n",
       "    <tr>\n",
       "      <th>2</th>\n",
       "      <td>24561</td>\n",
       "      <td>Switzerland</td>\n",
       "      <td>Switzerland Super League</td>\n",
       "      <td>2008/2009</td>\n",
       "      <td>1</td>\n",
       "      <td>2008-07-20 00:00:00</td>\n",
       "      <td>FC Luzern</td>\n",
       "      <td>FC Vaduz</td>\n",
       "      <td>1</td>\n",
       "      <td>2</td>\n",
       "      <td>NaN</td>\n",
       "      <td>NaN</td>\n",
       "      <td>NaN</td>\n",
       "      <td>NaN</td>\n",
       "      <td>NaN</td>\n",
       "      <td>NaN</td>\n",
       "      <td>-1</td>\n",
       "      <td>1</td>\n",
       "    </tr>\n",
       "    <tr>\n",
       "      <th>3</th>\n",
       "      <td>24562</td>\n",
       "      <td>Switzerland</td>\n",
       "      <td>Switzerland Super League</td>\n",
       "      <td>2008/2009</td>\n",
       "      <td>1</td>\n",
       "      <td>2008-07-20 00:00:00</td>\n",
       "      <td>Neuchâtel Xamax</td>\n",
       "      <td>FC Zürich</td>\n",
       "      <td>1</td>\n",
       "      <td>2</td>\n",
       "      <td>NaN</td>\n",
       "      <td>NaN</td>\n",
       "      <td>NaN</td>\n",
       "      <td>NaN</td>\n",
       "      <td>NaN</td>\n",
       "      <td>NaN</td>\n",
       "      <td>-1</td>\n",
       "      <td>1</td>\n",
       "    </tr>\n",
       "    <tr>\n",
       "      <th>4</th>\n",
       "      <td>24613</td>\n",
       "      <td>Switzerland</td>\n",
       "      <td>Switzerland Super League</td>\n",
       "      <td>2008/2009</td>\n",
       "      <td>2</td>\n",
       "      <td>2008-07-23 00:00:00</td>\n",
       "      <td>FC Basel</td>\n",
       "      <td>Grasshopper Club Zürich</td>\n",
       "      <td>1</td>\n",
       "      <td>0</td>\n",
       "      <td>NaN</td>\n",
       "      <td>NaN</td>\n",
       "      <td>NaN</td>\n",
       "      <td>NaN</td>\n",
       "      <td>NaN</td>\n",
       "      <td>NaN</td>\n",
       "      <td>1</td>\n",
       "      <td>1</td>\n",
       "    </tr>\n",
       "  </tbody>\n",
       "</table>\n",
       "</div>"
      ],
      "text/plain": [
       "      id country_name               league_name     season  stage  \\\n",
       "0  24559  Switzerland  Switzerland Super League  2008/2009      1   \n",
       "1  24560  Switzerland  Switzerland Super League  2008/2009      1   \n",
       "2  24561  Switzerland  Switzerland Super League  2008/2009      1   \n",
       "3  24562  Switzerland  Switzerland Super League  2008/2009      1   \n",
       "4  24613  Switzerland  Switzerland Super League  2008/2009      2   \n",
       "\n",
       "                  date        home_team                away_team  \\\n",
       "0  2008-07-18 00:00:00   BSC Young Boys                 FC Basel   \n",
       "1  2008-07-19 00:00:00         FC Aarau                  FC Sion   \n",
       "2  2008-07-20 00:00:00        FC Luzern                 FC Vaduz   \n",
       "3  2008-07-20 00:00:00  Neuchâtel Xamax                FC Zürich   \n",
       "4  2008-07-23 00:00:00         FC Basel  Grasshopper Club Zürich   \n",
       "\n",
       "   home_team_goal  away_team_goal  B365H  B365D  B365A  BSH  BSD  BSA  \\\n",
       "0               1               2    NaN    NaN    NaN  NaN  NaN  NaN   \n",
       "1               3               1    NaN    NaN    NaN  NaN  NaN  NaN   \n",
       "2               1               2    NaN    NaN    NaN  NaN  NaN  NaN   \n",
       "3               1               2    NaN    NaN    NaN  NaN  NaN  NaN   \n",
       "4               1               0    NaN    NaN    NaN  NaN  NaN  NaN   \n",
       "\n",
       "   diff_goals  target  \n",
       "0          -1       1  \n",
       "1           2       1  \n",
       "2          -1       1  \n",
       "3          -1       1  \n",
       "4           1       1  "
      ]
     },
     "execution_count": 67,
     "metadata": {},
     "output_type": "execute_result"
    }
   ],
   "source": [
    "data = pd.read_csv(\"datasets.csv\")\n",
    "\n",
    "data.head()"
   ]
  },
  {
   "cell_type": "code",
   "execution_count": 68,
   "metadata": {},
   "outputs": [
    {
     "data": {
      "text/plain": [
       "id                  int64\n",
       "country_name       object\n",
       "league_name        object\n",
       "season             object\n",
       "stage               int64\n",
       "date               object\n",
       "home_team          object\n",
       "away_team          object\n",
       "home_team_goal      int64\n",
       "away_team_goal      int64\n",
       "B365H             float64\n",
       "B365D             float64\n",
       "B365A             float64\n",
       "BSH               float64\n",
       "BSD               float64\n",
       "BSA               float64\n",
       "diff_goals          int64\n",
       "target              int64\n",
       "dtype: object"
      ]
     },
     "execution_count": 68,
     "metadata": {},
     "output_type": "execute_result"
    }
   ],
   "source": [
    "data.dtypes"
   ]
  },
  {
   "cell_type": "code",
   "execution_count": 69,
   "metadata": {},
   "outputs": [
    {
     "name": "stdout",
     "output_type": "stream",
     "text": [
      "<class 'pandas.core.frame.DataFrame'>\n",
      "RangeIndex: 25979 entries, 0 to 25978\n",
      "Data columns (total 18 columns):\n",
      " #   Column          Non-Null Count  Dtype  \n",
      "---  ------          --------------  -----  \n",
      " 0   id              25979 non-null  int64  \n",
      " 1   country_name    25979 non-null  object \n",
      " 2   league_name     25979 non-null  object \n",
      " 3   season          25979 non-null  object \n",
      " 4   stage           25979 non-null  int64  \n",
      " 5   date            25979 non-null  object \n",
      " 6   home_team       25979 non-null  object \n",
      " 7   away_team       25979 non-null  object \n",
      " 8   home_team_goal  25979 non-null  int64  \n",
      " 9   away_team_goal  25979 non-null  int64  \n",
      " 10  B365H           22592 non-null  float64\n",
      " 11  B365D           22592 non-null  float64\n",
      " 12  B365A           22592 non-null  float64\n",
      " 13  BSH             14161 non-null  float64\n",
      " 14  BSD             14161 non-null  float64\n",
      " 15  BSA             14161 non-null  float64\n",
      " 16  diff_goals      25979 non-null  int64  \n",
      " 17  target          25979 non-null  int64  \n",
      "dtypes: float64(6), int64(6), object(6)\n",
      "memory usage: 3.6+ MB\n"
     ]
    }
   ],
   "source": [
    "data.info()"
   ]
  },
  {
   "cell_type": "code",
   "execution_count": 70,
   "metadata": {},
   "outputs": [
    {
     "data": {
      "text/plain": [
       "id                0.000000\n",
       "country_name      0.000000\n",
       "league_name       0.000000\n",
       "season            0.000000\n",
       "stage             0.000000\n",
       "date              0.000000\n",
       "home_team         0.000000\n",
       "away_team         0.000000\n",
       "home_team_goal    0.000000\n",
       "away_team_goal    0.000000\n",
       "B365H             0.130375\n",
       "B365D             0.130375\n",
       "B365A             0.130375\n",
       "BSH               0.454906\n",
       "BSD               0.454906\n",
       "BSA               0.454906\n",
       "diff_goals        0.000000\n",
       "target            0.000000\n",
       "dtype: float64"
      ]
     },
     "execution_count": 70,
     "metadata": {},
     "output_type": "execute_result"
    }
   ],
   "source": [
    "data.isnull().mean()"
   ]
  },
  {
   "cell_type": "code",
   "execution_count": 71,
   "metadata": {},
   "outputs": [
    {
     "data": {
      "text/plain": [
       "<Axes: >"
      ]
     },
     "execution_count": 71,
     "metadata": {},
     "output_type": "execute_result"
    },
    {
     "data": {
      "image/png": "[encoded data removed]",
      "text/plain": [
       "<Figure size 800x600 with 1 Axes>"
      ]
     },
     "metadata": {},
     "output_type": "display_data"
    }
   ],
   "source": [
    "data.B365A.hist()"
   ]
  },
  {
   "cell_type": "code",
   "execution_count": 72,
   "metadata": {},
   "outputs": [
    {
     "data": {
      "text/plain": [
       "<Axes: >"
      ]
     },
     "execution_count": 72,
     "metadata": {},
     "output_type": "execute_result"
    },
    {
     "data": {
      "image/png": "[encoded data removed]",
      "text/plain": [
       "<Figure size 800x600 with 1 Axes>"
      ]
     },
     "metadata": {},
     "output_type": "display_data"
    }
   ],
   "source": [
    "data.B365D.hist()"
   ]
  },
  {
   "cell_type": "code",
   "execution_count": 73,
   "metadata": {},
   "outputs": [
    {
     "data": {
      "text/plain": [
       "<Axes: >"
      ]
     },
     "execution_count": 73,
     "metadata": {},
     "output_type": "execute_result"
    },
    {
     "data": {
      "image/png": "[encoded data removed]",
      "text/plain": [
       "<Figure size 800x600 with 1 Axes>"
      ]
     },
     "metadata": {},
     "output_type": "display_data"
    }
   ],
   "source": [
    "data.B365H.hist()"
   ]
  },
  {
   "cell_type": "code",
   "execution_count": 74,
   "metadata": {},
   "outputs": [
    {
     "data": {
      "text/plain": [
       "<Axes: >"
      ]
     },
     "execution_count": 74,
     "metadata": {},
     "output_type": "execute_result"
    },
    {
     "data": {
      "image/png": "[encoded data removed]",
      "text/plain": [
       "<Figure size 800x600 with 1 Axes>"
      ]
     },
     "metadata": {},
     "output_type": "display_data"
    }
   ],
   "source": [
    "data.BSA.hist()"
   ]
  },
  {
   "cell_type": "code",
   "execution_count": 75,
   "metadata": {},
   "outputs": [
    {
     "data": {
      "text/plain": [
       "<Axes: >"
      ]
     },
     "execution_count": 75,
     "metadata": {},
     "output_type": "execute_result"
    },
    {
     "data": {
      "image/png": "[encoded data removed]",
      "text/plain": [
       "<Figure size 800x600 with 1 Axes>"
      ]
     },
     "metadata": {},
     "output_type": "display_data"
    }
   ],
   "source": [
    "data.BSD.hist()"
   ]
  },
  {
   "cell_type": "code",
   "execution_count": 76,
   "metadata": {},
   "outputs": [
    {
     "data": {
      "text/plain": [
       "<Axes: >"
      ]
     },
     "execution_count": 76,
     "metadata": {},
     "output_type": "execute_result"
    },
    {
     "data": {
      "image/png": "[encoded data removed]",
      "text/plain": [
       "<Figure size 800x600 with 1 Axes>"
      ]
     },
     "metadata": {},
     "output_type": "display_data"
    }
   ],
   "source": [
    "data.BSH.hist()"
   ]
  },
  {
   "cell_type": "code",
   "execution_count": 77,
   "metadata": {},
   "outputs": [],
   "source": [
    "eod_value_B365A = data.B365A.mean() + 3*data.B365A.std()\n",
    "\n",
    "eod_value_B365H = data.B365H.mean() + 3*data.B365H.std()\n",
    "\n",
    "eod_value_B365D = data.B365D.mean() + 3*data.B365D.std()\n",
    "\n",
    "eod_value_BSH = data.BSH.mean() + 3*data.BSH.std()\n",
    "\n",
    "eod_value_BSD = data.BSD.mean() + 3*data.BSD.std()\n",
    "\n",
    "eod_value_BSA = data.BSA.mean() + 3*data.BSA.std()"
   ]
  },
  {
   "cell_type": "code",
   "execution_count": 78,
   "metadata": {},
   "outputs": [
    {
     "data": {
      "text/html": [
       "<div>\n",
       "<style scoped>\n",
       "    .dataframe tbody tr th:only-of-type {\n",
       "        vertical-align: middle;\n",
       "    }\n",
       "\n",
       "    .dataframe tbody tr th {\n",
       "        vertical-align: top;\n",
       "    }\n",
       "\n",
       "    .dataframe thead th {\n",
       "        text-align: right;\n",
       "    }\n",
       "</style>\n",
       "<table border=\"1\" class=\"dataframe\">\n",
       "  <thead>\n",
       "    <tr style=\"text-align: right;\">\n",
       "      <th></th>\n",
       "      <th>id</th>\n",
       "      <th>country_name</th>\n",
       "      <th>league_name</th>\n",
       "      <th>season</th>\n",
       "      <th>stage</th>\n",
       "      <th>date</th>\n",
       "      <th>home_team</th>\n",
       "      <th>away_team</th>\n",
       "      <th>home_team_goal</th>\n",
       "      <th>away_team_goal</th>\n",
       "      <th>B365H</th>\n",
       "      <th>B365D</th>\n",
       "      <th>B365A</th>\n",
       "      <th>BSH</th>\n",
       "      <th>BSD</th>\n",
       "      <th>BSA</th>\n",
       "      <th>diff_goals</th>\n",
       "      <th>target</th>\n",
       "    </tr>\n",
       "  </thead>\n",
       "  <tbody>\n",
       "    <tr>\n",
       "      <th>0</th>\n",
       "      <td>24559</td>\n",
       "      <td>Switzerland</td>\n",
       "      <td>Switzerland Super League</td>\n",
       "      <td>2008/2009</td>\n",
       "      <td>1</td>\n",
       "      <td>2008-07-18 00:00:00</td>\n",
       "      <td>BSC Young Boys</td>\n",
       "      <td>FC Basel</td>\n",
       "      <td>1</td>\n",
       "      <td>2</td>\n",
       "      <td>8.012206</td>\n",
       "      <td>7.194491</td>\n",
       "      <td>15.852533</td>\n",
       "      <td>7.021272</td>\n",
       "      <td>6.265558</td>\n",
       "      <td>13.975105</td>\n",
       "      <td>-1</td>\n",
       "      <td>1</td>\n",
       "    </tr>\n",
       "    <tr>\n",
       "      <th>1</th>\n",
       "      <td>24560</td>\n",
       "      <td>Switzerland</td>\n",
       "      <td>Switzerland Super League</td>\n",
       "      <td>2008/2009</td>\n",
       "      <td>1</td>\n",
       "      <td>2008-07-19 00:00:00</td>\n",
       "      <td>FC Aarau</td>\n",
       "      <td>FC Sion</td>\n",
       "      <td>3</td>\n",
       "      <td>1</td>\n",
       "      <td>8.012206</td>\n",
       "      <td>7.194491</td>\n",
       "      <td>15.852533</td>\n",
       "      <td>7.021272</td>\n",
       "      <td>6.265558</td>\n",
       "      <td>13.975105</td>\n",
       "      <td>2</td>\n",
       "      <td>1</td>\n",
       "    </tr>\n",
       "    <tr>\n",
       "      <th>2</th>\n",
       "      <td>24561</td>\n",
       "      <td>Switzerland</td>\n",
       "      <td>Switzerland Super League</td>\n",
       "      <td>2008/2009</td>\n",
       "      <td>1</td>\n",
       "      <td>2008-07-20 00:00:00</td>\n",
       "      <td>FC Luzern</td>\n",
       "      <td>FC Vaduz</td>\n",
       "      <td>1</td>\n",
       "      <td>2</td>\n",
       "      <td>8.012206</td>\n",
       "      <td>7.194491</td>\n",
       "      <td>15.852533</td>\n",
       "      <td>7.021272</td>\n",
       "      <td>6.265558</td>\n",
       "      <td>13.975105</td>\n",
       "      <td>-1</td>\n",
       "      <td>1</td>\n",
       "    </tr>\n",
       "    <tr>\n",
       "      <th>3</th>\n",
       "      <td>24562</td>\n",
       "      <td>Switzerland</td>\n",
       "      <td>Switzerland Super League</td>\n",
       "      <td>2008/2009</td>\n",
       "      <td>1</td>\n",
       "      <td>2008-07-20 00:00:00</td>\n",
       "      <td>Neuchâtel Xamax</td>\n",
       "      <td>FC Zürich</td>\n",
       "      <td>1</td>\n",
       "      <td>2</td>\n",
       "      <td>8.012206</td>\n",
       "      <td>7.194491</td>\n",
       "      <td>15.852533</td>\n",
       "      <td>7.021272</td>\n",
       "      <td>6.265558</td>\n",
       "      <td>13.975105</td>\n",
       "      <td>-1</td>\n",
       "      <td>1</td>\n",
       "    </tr>\n",
       "    <tr>\n",
       "      <th>4</th>\n",
       "      <td>24613</td>\n",
       "      <td>Switzerland</td>\n",
       "      <td>Switzerland Super League</td>\n",
       "      <td>2008/2009</td>\n",
       "      <td>2</td>\n",
       "      <td>2008-07-23 00:00:00</td>\n",
       "      <td>FC Basel</td>\n",
       "      <td>Grasshopper Club Zürich</td>\n",
       "      <td>1</td>\n",
       "      <td>0</td>\n",
       "      <td>8.012206</td>\n",
       "      <td>7.194491</td>\n",
       "      <td>15.852533</td>\n",
       "      <td>7.021272</td>\n",
       "      <td>6.265558</td>\n",
       "      <td>13.975105</td>\n",
       "      <td>1</td>\n",
       "      <td>1</td>\n",
       "    </tr>\n",
       "    <tr>\n",
       "      <th>...</th>\n",
       "      <td>...</td>\n",
       "      <td>...</td>\n",
       "      <td>...</td>\n",
       "      <td>...</td>\n",
       "      <td>...</td>\n",
       "      <td>...</td>\n",
       "      <td>...</td>\n",
       "      <td>...</td>\n",
       "      <td>...</td>\n",
       "      <td>...</td>\n",
       "      <td>...</td>\n",
       "      <td>...</td>\n",
       "      <td>...</td>\n",
       "      <td>...</td>\n",
       "      <td>...</td>\n",
       "      <td>...</td>\n",
       "      <td>...</td>\n",
       "      <td>...</td>\n",
       "    </tr>\n",
       "    <tr>\n",
       "      <th>95</th>\n",
       "      <td>4883</td>\n",
       "      <td>France</td>\n",
       "      <td>France Ligue 1</td>\n",
       "      <td>2008/2009</td>\n",
       "      <td>2</td>\n",
       "      <td>2008-08-17 00:00:00</td>\n",
       "      <td>Olympique de Marseille</td>\n",
       "      <td>AJ Auxerre</td>\n",
       "      <td>4</td>\n",
       "      <td>0</td>\n",
       "      <td>1.570000</td>\n",
       "      <td>3.600000</td>\n",
       "      <td>6.500000</td>\n",
       "      <td>1.570000</td>\n",
       "      <td>3.300000</td>\n",
       "      <td>6.000000</td>\n",
       "      <td>4</td>\n",
       "      <td>1</td>\n",
       "    </tr>\n",
       "    <tr>\n",
       "      <th>96</th>\n",
       "      <td>7813</td>\n",
       "      <td>Germany</td>\n",
       "      <td>Germany 1. Bundesliga</td>\n",
       "      <td>2008/2009</td>\n",
       "      <td>1</td>\n",
       "      <td>2008-08-17 00:00:00</td>\n",
       "      <td>Eintracht Frankfurt</td>\n",
       "      <td>Hertha BSC Berlin</td>\n",
       "      <td>0</td>\n",
       "      <td>2</td>\n",
       "      <td>2.350000</td>\n",
       "      <td>3.300000</td>\n",
       "      <td>3.000000</td>\n",
       "      <td>2.250000</td>\n",
       "      <td>3.250000</td>\n",
       "      <td>2.880000</td>\n",
       "      <td>-2</td>\n",
       "      <td>1</td>\n",
       "    </tr>\n",
       "    <tr>\n",
       "      <th>97</th>\n",
       "      <td>7816</td>\n",
       "      <td>Germany</td>\n",
       "      <td>Germany 1. Bundesliga</td>\n",
       "      <td>2008/2009</td>\n",
       "      <td>1</td>\n",
       "      <td>2008-08-17 00:00:00</td>\n",
       "      <td>Borussia Mönchengladbach</td>\n",
       "      <td>VfB Stuttgart</td>\n",
       "      <td>1</td>\n",
       "      <td>3</td>\n",
       "      <td>2.750000</td>\n",
       "      <td>3.300000</td>\n",
       "      <td>2.500000</td>\n",
       "      <td>2.620000</td>\n",
       "      <td>3.100000</td>\n",
       "      <td>2.500000</td>\n",
       "      <td>-2</td>\n",
       "      <td>1</td>\n",
       "    </tr>\n",
       "    <tr>\n",
       "      <th>98</th>\n",
       "      <td>15812</td>\n",
       "      <td>Poland</td>\n",
       "      <td>Poland Ekstraklasa</td>\n",
       "      <td>2008/2009</td>\n",
       "      <td>2</td>\n",
       "      <td>2008-08-17 00:00:00</td>\n",
       "      <td>Odra Wodzisław</td>\n",
       "      <td>Legia Warszawa</td>\n",
       "      <td>2</td>\n",
       "      <td>0</td>\n",
       "      <td>8.012206</td>\n",
       "      <td>7.194491</td>\n",
       "      <td>15.852533</td>\n",
       "      <td>7.021272</td>\n",
       "      <td>6.265558</td>\n",
       "      <td>13.975105</td>\n",
       "      <td>2</td>\n",
       "      <td>1</td>\n",
       "    </tr>\n",
       "    <tr>\n",
       "      <th>99</th>\n",
       "      <td>15814</td>\n",
       "      <td>Poland</td>\n",
       "      <td>Poland Ekstraklasa</td>\n",
       "      <td>2008/2009</td>\n",
       "      <td>2</td>\n",
       "      <td>2008-08-17 00:00:00</td>\n",
       "      <td>Jagiellonia Białystok</td>\n",
       "      <td>Lech Poznań</td>\n",
       "      <td>0</td>\n",
       "      <td>3</td>\n",
       "      <td>8.012206</td>\n",
       "      <td>7.194491</td>\n",
       "      <td>15.852533</td>\n",
       "      <td>7.021272</td>\n",
       "      <td>6.265558</td>\n",
       "      <td>13.975105</td>\n",
       "      <td>-3</td>\n",
       "      <td>1</td>\n",
       "    </tr>\n",
       "  </tbody>\n",
       "</table>\n",
       "<p>100 rows × 18 columns</p>\n",
       "</div>"
      ],
      "text/plain": [
       "       id country_name               league_name     season  stage  \\\n",
       "0   24559  Switzerland  Switzerland Super League  2008/2009      1   \n",
       "1   24560  Switzerland  Switzerland Super League  2008/2009      1   \n",
       "2   24561  Switzerland  Switzerland Super League  2008/2009      1   \n",
       "3   24562  Switzerland  Switzerland Super League  2008/2009      1   \n",
       "4   24613  Switzerland  Switzerland Super League  2008/2009      2   \n",
       "..    ...          ...                       ...        ...    ...   \n",
       "95   4883       France            France Ligue 1  2008/2009      2   \n",
       "96   7813      Germany     Germany 1. Bundesliga  2008/2009      1   \n",
       "97   7816      Germany     Germany 1. Bundesliga  2008/2009      1   \n",
       "98  15812       Poland        Poland Ekstraklasa  2008/2009      2   \n",
       "99  15814       Poland        Poland Ekstraklasa  2008/2009      2   \n",
       "\n",
       "                   date                 home_team                away_team  \\\n",
       "0   2008-07-18 00:00:00            BSC Young Boys                 FC Basel   \n",
       "1   2008-07-19 00:00:00                  FC Aarau                  FC Sion   \n",
       "2   2008-07-20 00:00:00                 FC Luzern                 FC Vaduz   \n",
       "3   2008-07-20 00:00:00           Neuchâtel Xamax                FC Zürich   \n",
       "4   2008-07-23 00:00:00                  FC Basel  Grasshopper Club Zürich   \n",
       "..                  ...                       ...                      ...   \n",
       "95  2008-08-17 00:00:00    Olympique de Marseille               AJ Auxerre   \n",
       "96  2008-08-17 00:00:00       Eintracht Frankfurt        Hertha BSC Berlin   \n",
       "97  2008-08-17 00:00:00  Borussia Mönchengladbach            VfB Stuttgart   \n",
       "98  2008-08-17 00:00:00            Odra Wodzisław           Legia Warszawa   \n",
       "99  2008-08-17 00:00:00     Jagiellonia Białystok              Lech Poznań   \n",
       "\n",
       "    home_team_goal  away_team_goal     B365H     B365D      B365A       BSH  \\\n",
       "0                1               2  8.012206  7.194491  15.852533  7.021272   \n",
       "1                3               1  8.012206  7.194491  15.852533  7.021272   \n",
       "2                1               2  8.012206  7.194491  15.852533  7.021272   \n",
       "3                1               2  8.012206  7.194491  15.852533  7.021272   \n",
       "4                1               0  8.012206  7.194491  15.852533  7.021272   \n",
       "..             ...             ...       ...       ...        ...       ...   \n",
       "95               4               0  1.570000  3.600000   6.500000  1.570000   \n",
       "96               0               2  2.350000  3.300000   3.000000  2.250000   \n",
       "97               1               3  2.750000  3.300000   2.500000  2.620000   \n",
       "98               2               0  8.012206  7.194491  15.852533  7.021272   \n",
       "99               0               3  8.012206  7.194491  15.852533  7.021272   \n",
       "\n",
       "         BSD        BSA  diff_goals  target  \n",
       "0   6.265558  13.975105          -1       1  \n",
       "1   6.265558  13.975105           2       1  \n",
       "2   6.265558  13.975105          -1       1  \n",
       "3   6.265558  13.975105          -1       1  \n",
       "4   6.265558  13.975105           1       1  \n",
       "..       ...        ...         ...     ...  \n",
       "95  3.300000   6.000000           4       1  \n",
       "96  3.250000   2.880000          -2       1  \n",
       "97  3.100000   2.500000          -2       1  \n",
       "98  6.265558  13.975105           2       1  \n",
       "99  6.265558  13.975105          -3       1  \n",
       "\n",
       "[100 rows x 18 columns]"
      ]
     },
     "execution_count": 78,
     "metadata": {},
     "output_type": "execute_result"
    }
   ],
   "source": [
    "data['B365A'] = data.B365A.fillna(eod_value_B365A)\n",
    "\n",
    "data['B365D'] = data.B365D.fillna(eod_value_B365D)\n",
    "\n",
    "data['B365H'] = data.B365H.fillna(eod_value_B365H)\n",
    "\n",
    "data['BSA'] = data.BSA.fillna(eod_value_BSA)\n",
    "\n",
    "data['BSD'] = data.BSD.fillna(eod_value_BSD)\n",
    "\n",
    "data['BSH'] = data.BSH.fillna(eod_value_BSH)\n",
    "\n",
    "data.head(100)"
   ]
  },
  {
   "cell_type": "code",
   "execution_count": 79,
   "metadata": {},
   "outputs": [
    {
     "data": {
      "text/plain": [
       "<Axes: ylabel='Density'>"
      ]
     },
     "execution_count": 79,
     "metadata": {},
     "output_type": "execute_result"
    },
    {
     "data": {
      "image/png": "[encoded data removed]",
      "text/plain": [
       "<Figure size 800x600 with 1 Axes>"
      ]
     },
     "metadata": {},
     "output_type": "display_data"
    }
   ],
   "source": [
    "plt.rcParams[\"figure.figsize\"] = [8,6]\n",
    "\n",
    "fig = plt.figure()\n",
    "ax = fig.add_subplot(111)\n",
    "\n",
    "data['B365A'].plot(kind='kde', ax=ax)"
   ]
  },
  {
   "cell_type": "code",
   "execution_count": 80,
   "metadata": {},
   "outputs": [
    {
     "data": {
      "text/plain": [
       "<Axes: ylabel='Density'>"
      ]
     },
     "execution_count": 80,
     "metadata": {},
     "output_type": "execute_result"
    },
    {
     "data": {
      "image/png": "[encoded data removed]",
      "text/plain": [
       "<Figure size 800x600 with 1 Axes>"
      ]
     },
     "metadata": {},
     "output_type": "display_data"
    }
   ],
   "source": [
    "\n",
    "plt.rcParams[\"figure.figsize\"] = [8,6]\n",
    "\n",
    "fig = plt.figure()\n",
    "ax = fig.add_subplot(111)\n",
    "\n",
    "data['B365H'].plot(kind='kde', ax=ax)"
   ]
  },
  {
   "cell_type": "code",
   "execution_count": 81,
   "metadata": {},
   "outputs": [
    {
     "data": {
      "text/plain": [
       "<Axes: ylabel='Density'>"
      ]
     },
     "execution_count": 81,
     "metadata": {},
     "output_type": "execute_result"
    },
    {
     "data": {
      "image/png": "[encoded data removed]",
      "text/plain": [
       "<Figure size 800x600 with 1 Axes>"
      ]
     },
     "metadata": {},
     "output_type": "display_data"
    }
   ],
   "source": [
    "\n",
    "plt.rcParams[\"figure.figsize\"] = [8,6]\n",
    "\n",
    "fig = plt.figure()\n",
    "ax = fig.add_subplot(111)\n",
    "\n",
    "data['B365D'].plot(kind='kde', ax=ax)"
   ]
  },
  {
   "cell_type": "code",
   "execution_count": 82,
   "metadata": {},
   "outputs": [
    {
     "data": {
      "text/plain": [
       "<Axes: ylabel='Density'>"
      ]
     },
     "execution_count": 82,
     "metadata": {},
     "output_type": "execute_result"
    },
    {
     "data": {
      "image/png": "[encoded data removed]",
      "text/plain": [
       "<Figure size 800x600 with 1 Axes>"
      ]
     },
     "metadata": {},
     "output_type": "display_data"
    }
   ],
   "source": [
    "\n",
    "plt.rcParams[\"figure.figsize\"] = [8,6]\n",
    "\n",
    "fig = plt.figure()\n",
    "ax = fig.add_subplot(111)\n",
    "\n",
    "data['BSH'].plot(kind='kde', ax=ax)"
   ]
  },
  {
   "cell_type": "code",
   "execution_count": 83,
   "metadata": {},
   "outputs": [
    {
     "data": {
      "text/plain": [
       "<Axes: ylabel='Density'>"
      ]
     },
     "execution_count": 83,
     "metadata": {},
     "output_type": "execute_result"
    },
    {
     "data": {
      "image/png": "[encoded data removed]",
      "text/plain": [
       "<Figure size 800x600 with 1 Axes>"
      ]
     },
     "metadata": {},
     "output_type": "display_data"
    }
   ],
   "source": [
    "\n",
    "plt.rcParams[\"figure.figsize\"] = [8,6]\n",
    "\n",
    "fig = plt.figure()\n",
    "ax = fig.add_subplot(111)\n",
    "\n",
    "data['BSD'].plot(kind='kde', ax=ax)"
   ]
  },
  {
   "cell_type": "code",
   "execution_count": 84,
   "metadata": {},
   "outputs": [
    {
     "data": {
      "text/plain": [
       "<Axes: ylabel='Density'>"
      ]
     },
     "execution_count": 84,
     "metadata": {},
     "output_type": "execute_result"
    },
    {
     "data": {
      "image/png": "[encoded data removed]",
      "text/plain": [
       "<Figure size 800x600 with 1 Axes>"
      ]
     },
     "metadata": {},
     "output_type": "display_data"
    }
   ],
   "source": [
    "\n",
    "plt.rcParams[\"figure.figsize\"] = [8,6]\n",
    "\n",
    "fig = plt.figure()\n",
    "ax = fig.add_subplot(111)\n",
    "\n",
    "data['BSA'].plot(kind='kde', ax=ax)"
   ]
  },
  {
   "cell_type": "code",
   "execution_count": 85,
   "metadata": {},
   "outputs": [
    {
     "data": {
      "text/plain": [
       "id                0.0\n",
       "country_name      0.0\n",
       "league_name       0.0\n",
       "season            0.0\n",
       "stage             0.0\n",
       "date              0.0\n",
       "home_team         0.0\n",
       "away_team         0.0\n",
       "home_team_goal    0.0\n",
       "away_team_goal    0.0\n",
       "B365H             0.0\n",
       "B365D             0.0\n",
       "B365A             0.0\n",
       "BSH               0.0\n",
       "BSD               0.0\n",
       "BSA               0.0\n",
       "diff_goals        0.0\n",
       "target            0.0\n",
       "dtype: float64"
      ]
     },
     "execution_count": 85,
     "metadata": {},
     "output_type": "execute_result"
    }
   ],
   "source": [
    "data.isnull().mean()"
   ]
  },
  {
   "cell_type": "code",
   "execution_count": 86,
   "metadata": {},
   "outputs": [
    {
     "name": "stdout",
     "output_type": "stream",
     "text": [
      "['Switzerland' 'Poland' 'France' 'Scotland' 'Germany' 'Belgium' 'England'\n",
      " 'Portugal' 'Netherlands' 'Italy' 'Spain']\n",
      "['Switzerland Super League' 'Poland Ekstraklasa' 'France Ligue 1'\n",
      " 'Scotland Premier League' 'Germany 1. Bundesliga'\n",
      " 'Belgium Jupiler League' 'England Premier League'\n",
      " 'Portugal Liga ZON Sagres' 'Netherlands Eredivisie' 'Italy Serie A'\n",
      " 'Spain LIGA BBVA']\n"
     ]
    }
   ],
   "source": [
    "print(data['country_name'].unique())\n",
    "print(data['league_name'].unique())"
   ]
  },
  {
   "cell_type": "code",
   "execution_count": 87,
   "metadata": {},
   "outputs": [
    {
     "data": {
      "text/html": [
       "<div>\n",
       "<style scoped>\n",
       "    .dataframe tbody tr th:only-of-type {\n",
       "        vertical-align: middle;\n",
       "    }\n",
       "\n",
       "    .dataframe tbody tr th {\n",
       "        vertical-align: top;\n",
       "    }\n",
       "\n",
       "    .dataframe thead th {\n",
       "        text-align: right;\n",
       "    }\n",
       "</style>\n",
       "<table border=\"1\" class=\"dataframe\">\n",
       "  <thead>\n",
       "    <tr style=\"text-align: right;\">\n",
       "      <th></th>\n",
       "      <th>id</th>\n",
       "      <th>country_name</th>\n",
       "      <th>league_name</th>\n",
       "      <th>season</th>\n",
       "      <th>stage</th>\n",
       "      <th>date</th>\n",
       "      <th>home_team</th>\n",
       "      <th>away_team</th>\n",
       "      <th>home_team_goal</th>\n",
       "      <th>away_team_goal</th>\n",
       "      <th>B365H</th>\n",
       "      <th>B365D</th>\n",
       "      <th>B365A</th>\n",
       "      <th>BSH</th>\n",
       "      <th>BSD</th>\n",
       "      <th>BSA</th>\n",
       "      <th>diff_goals</th>\n",
       "      <th>target</th>\n",
       "    </tr>\n",
       "  </thead>\n",
       "  <tbody>\n",
       "    <tr>\n",
       "      <th>0</th>\n",
       "      <td>24559</td>\n",
       "      <td>10</td>\n",
       "      <td>Switzerland Super League</td>\n",
       "      <td>2008/2009</td>\n",
       "      <td>1</td>\n",
       "      <td>2008-07-18 00:00:00</td>\n",
       "      <td>BSC Young Boys</td>\n",
       "      <td>FC Basel</td>\n",
       "      <td>1</td>\n",
       "      <td>2</td>\n",
       "      <td>8.012206</td>\n",
       "      <td>7.194491</td>\n",
       "      <td>15.852533</td>\n",
       "      <td>7.021272</td>\n",
       "      <td>6.265558</td>\n",
       "      <td>13.975105</td>\n",
       "      <td>-1</td>\n",
       "      <td>1</td>\n",
       "    </tr>\n",
       "    <tr>\n",
       "      <th>1</th>\n",
       "      <td>24560</td>\n",
       "      <td>10</td>\n",
       "      <td>Switzerland Super League</td>\n",
       "      <td>2008/2009</td>\n",
       "      <td>1</td>\n",
       "      <td>2008-07-19 00:00:00</td>\n",
       "      <td>FC Aarau</td>\n",
       "      <td>FC Sion</td>\n",
       "      <td>3</td>\n",
       "      <td>1</td>\n",
       "      <td>8.012206</td>\n",
       "      <td>7.194491</td>\n",
       "      <td>15.852533</td>\n",
       "      <td>7.021272</td>\n",
       "      <td>6.265558</td>\n",
       "      <td>13.975105</td>\n",
       "      <td>2</td>\n",
       "      <td>1</td>\n",
       "    </tr>\n",
       "    <tr>\n",
       "      <th>2</th>\n",
       "      <td>24561</td>\n",
       "      <td>10</td>\n",
       "      <td>Switzerland Super League</td>\n",
       "      <td>2008/2009</td>\n",
       "      <td>1</td>\n",
       "      <td>2008-07-20 00:00:00</td>\n",
       "      <td>FC Luzern</td>\n",
       "      <td>FC Vaduz</td>\n",
       "      <td>1</td>\n",
       "      <td>2</td>\n",
       "      <td>8.012206</td>\n",
       "      <td>7.194491</td>\n",
       "      <td>15.852533</td>\n",
       "      <td>7.021272</td>\n",
       "      <td>6.265558</td>\n",
       "      <td>13.975105</td>\n",
       "      <td>-1</td>\n",
       "      <td>1</td>\n",
       "    </tr>\n",
       "    <tr>\n",
       "      <th>3</th>\n",
       "      <td>24562</td>\n",
       "      <td>10</td>\n",
       "      <td>Switzerland Super League</td>\n",
       "      <td>2008/2009</td>\n",
       "      <td>1</td>\n",
       "      <td>2008-07-20 00:00:00</td>\n",
       "      <td>Neuchâtel Xamax</td>\n",
       "      <td>FC Zürich</td>\n",
       "      <td>1</td>\n",
       "      <td>2</td>\n",
       "      <td>8.012206</td>\n",
       "      <td>7.194491</td>\n",
       "      <td>15.852533</td>\n",
       "      <td>7.021272</td>\n",
       "      <td>6.265558</td>\n",
       "      <td>13.975105</td>\n",
       "      <td>-1</td>\n",
       "      <td>1</td>\n",
       "    </tr>\n",
       "    <tr>\n",
       "      <th>4</th>\n",
       "      <td>24613</td>\n",
       "      <td>10</td>\n",
       "      <td>Switzerland Super League</td>\n",
       "      <td>2008/2009</td>\n",
       "      <td>2</td>\n",
       "      <td>2008-07-23 00:00:00</td>\n",
       "      <td>FC Basel</td>\n",
       "      <td>Grasshopper Club Zürich</td>\n",
       "      <td>1</td>\n",
       "      <td>0</td>\n",
       "      <td>8.012206</td>\n",
       "      <td>7.194491</td>\n",
       "      <td>15.852533</td>\n",
       "      <td>7.021272</td>\n",
       "      <td>6.265558</td>\n",
       "      <td>13.975105</td>\n",
       "      <td>1</td>\n",
       "      <td>1</td>\n",
       "    </tr>\n",
       "    <tr>\n",
       "      <th>...</th>\n",
       "      <td>...</td>\n",
       "      <td>...</td>\n",
       "      <td>...</td>\n",
       "      <td>...</td>\n",
       "      <td>...</td>\n",
       "      <td>...</td>\n",
       "      <td>...</td>\n",
       "      <td>...</td>\n",
       "      <td>...</td>\n",
       "      <td>...</td>\n",
       "      <td>...</td>\n",
       "      <td>...</td>\n",
       "      <td>...</td>\n",
       "      <td>...</td>\n",
       "      <td>...</td>\n",
       "      <td>...</td>\n",
       "      <td>...</td>\n",
       "      <td>...</td>\n",
       "    </tr>\n",
       "    <tr>\n",
       "      <th>95</th>\n",
       "      <td>4883</td>\n",
       "      <td>2</td>\n",
       "      <td>France Ligue 1</td>\n",
       "      <td>2008/2009</td>\n",
       "      <td>2</td>\n",
       "      <td>2008-08-17 00:00:00</td>\n",
       "      <td>Olympique de Marseille</td>\n",
       "      <td>AJ Auxerre</td>\n",
       "      <td>4</td>\n",
       "      <td>0</td>\n",
       "      <td>1.570000</td>\n",
       "      <td>3.600000</td>\n",
       "      <td>6.500000</td>\n",
       "      <td>1.570000</td>\n",
       "      <td>3.300000</td>\n",
       "      <td>6.000000</td>\n",
       "      <td>4</td>\n",
       "      <td>1</td>\n",
       "    </tr>\n",
       "    <tr>\n",
       "      <th>96</th>\n",
       "      <td>7813</td>\n",
       "      <td>3</td>\n",
       "      <td>Germany 1. Bundesliga</td>\n",
       "      <td>2008/2009</td>\n",
       "      <td>1</td>\n",
       "      <td>2008-08-17 00:00:00</td>\n",
       "      <td>Eintracht Frankfurt</td>\n",
       "      <td>Hertha BSC Berlin</td>\n",
       "      <td>0</td>\n",
       "      <td>2</td>\n",
       "      <td>2.350000</td>\n",
       "      <td>3.300000</td>\n",
       "      <td>3.000000</td>\n",
       "      <td>2.250000</td>\n",
       "      <td>3.250000</td>\n",
       "      <td>2.880000</td>\n",
       "      <td>-2</td>\n",
       "      <td>1</td>\n",
       "    </tr>\n",
       "    <tr>\n",
       "      <th>97</th>\n",
       "      <td>7816</td>\n",
       "      <td>3</td>\n",
       "      <td>Germany 1. Bundesliga</td>\n",
       "      <td>2008/2009</td>\n",
       "      <td>1</td>\n",
       "      <td>2008-08-17 00:00:00</td>\n",
       "      <td>Borussia Mönchengladbach</td>\n",
       "      <td>VfB Stuttgart</td>\n",
       "      <td>1</td>\n",
       "      <td>3</td>\n",
       "      <td>2.750000</td>\n",
       "      <td>3.300000</td>\n",
       "      <td>2.500000</td>\n",
       "      <td>2.620000</td>\n",
       "      <td>3.100000</td>\n",
       "      <td>2.500000</td>\n",
       "      <td>-2</td>\n",
       "      <td>1</td>\n",
       "    </tr>\n",
       "    <tr>\n",
       "      <th>98</th>\n",
       "      <td>15812</td>\n",
       "      <td>6</td>\n",
       "      <td>Poland Ekstraklasa</td>\n",
       "      <td>2008/2009</td>\n",
       "      <td>2</td>\n",
       "      <td>2008-08-17 00:00:00</td>\n",
       "      <td>Odra Wodzisław</td>\n",
       "      <td>Legia Warszawa</td>\n",
       "      <td>2</td>\n",
       "      <td>0</td>\n",
       "      <td>8.012206</td>\n",
       "      <td>7.194491</td>\n",
       "      <td>15.852533</td>\n",
       "      <td>7.021272</td>\n",
       "      <td>6.265558</td>\n",
       "      <td>13.975105</td>\n",
       "      <td>2</td>\n",
       "      <td>1</td>\n",
       "    </tr>\n",
       "    <tr>\n",
       "      <th>99</th>\n",
       "      <td>15814</td>\n",
       "      <td>6</td>\n",
       "      <td>Poland Ekstraklasa</td>\n",
       "      <td>2008/2009</td>\n",
       "      <td>2</td>\n",
       "      <td>2008-08-17 00:00:00</td>\n",
       "      <td>Jagiellonia Białystok</td>\n",
       "      <td>Lech Poznań</td>\n",
       "      <td>0</td>\n",
       "      <td>3</td>\n",
       "      <td>8.012206</td>\n",
       "      <td>7.194491</td>\n",
       "      <td>15.852533</td>\n",
       "      <td>7.021272</td>\n",
       "      <td>6.265558</td>\n",
       "      <td>13.975105</td>\n",
       "      <td>-3</td>\n",
       "      <td>1</td>\n",
       "    </tr>\n",
       "  </tbody>\n",
       "</table>\n",
       "<p>100 rows × 18 columns</p>\n",
       "</div>"
      ],
      "text/plain": [
       "       id  country_name               league_name     season  stage  \\\n",
       "0   24559            10  Switzerland Super League  2008/2009      1   \n",
       "1   24560            10  Switzerland Super League  2008/2009      1   \n",
       "2   24561            10  Switzerland Super League  2008/2009      1   \n",
       "3   24562            10  Switzerland Super League  2008/2009      1   \n",
       "4   24613            10  Switzerland Super League  2008/2009      2   \n",
       "..    ...           ...                       ...        ...    ...   \n",
       "95   4883             2            France Ligue 1  2008/2009      2   \n",
       "96   7813             3     Germany 1. Bundesliga  2008/2009      1   \n",
       "97   7816             3     Germany 1. Bundesliga  2008/2009      1   \n",
       "98  15812             6        Poland Ekstraklasa  2008/2009      2   \n",
       "99  15814             6        Poland Ekstraklasa  2008/2009      2   \n",
       "\n",
       "                   date                 home_team                away_team  \\\n",
       "0   2008-07-18 00:00:00            BSC Young Boys                 FC Basel   \n",
       "1   2008-07-19 00:00:00                  FC Aarau                  FC Sion   \n",
       "2   2008-07-20 00:00:00                 FC Luzern                 FC Vaduz   \n",
       "3   2008-07-20 00:00:00           Neuchâtel Xamax                FC Zürich   \n",
       "4   2008-07-23 00:00:00                  FC Basel  Grasshopper Club Zürich   \n",
       "..                  ...                       ...                      ...   \n",
       "95  2008-08-17 00:00:00    Olympique de Marseille               AJ Auxerre   \n",
       "96  2008-08-17 00:00:00       Eintracht Frankfurt        Hertha BSC Berlin   \n",
       "97  2008-08-17 00:00:00  Borussia Mönchengladbach            VfB Stuttgart   \n",
       "98  2008-08-17 00:00:00            Odra Wodzisław           Legia Warszawa   \n",
       "99  2008-08-17 00:00:00     Jagiellonia Białystok              Lech Poznań   \n",
       "\n",
       "    home_team_goal  away_team_goal     B365H     B365D      B365A       BSH  \\\n",
       "0                1               2  8.012206  7.194491  15.852533  7.021272   \n",
       "1                3               1  8.012206  7.194491  15.852533  7.021272   \n",
       "2                1               2  8.012206  7.194491  15.852533  7.021272   \n",
       "3                1               2  8.012206  7.194491  15.852533  7.021272   \n",
       "4                1               0  8.012206  7.194491  15.852533  7.021272   \n",
       "..             ...             ...       ...       ...        ...       ...   \n",
       "95               4               0  1.570000  3.600000   6.500000  1.570000   \n",
       "96               0               2  2.350000  3.300000   3.000000  2.250000   \n",
       "97               1               3  2.750000  3.300000   2.500000  2.620000   \n",
       "98               2               0  8.012206  7.194491  15.852533  7.021272   \n",
       "99               0               3  8.012206  7.194491  15.852533  7.021272   \n",
       "\n",
       "         BSD        BSA  diff_goals  target  \n",
       "0   6.265558  13.975105          -1       1  \n",
       "1   6.265558  13.975105           2       1  \n",
       "2   6.265558  13.975105          -1       1  \n",
       "3   6.265558  13.975105          -1       1  \n",
       "4   6.265558  13.975105           1       1  \n",
       "..       ...        ...         ...     ...  \n",
       "95  3.300000   6.000000           4       1  \n",
       "96  3.250000   2.880000          -2       1  \n",
       "97  3.100000   2.500000          -2       1  \n",
       "98  6.265558  13.975105           2       1  \n",
       "99  6.265558  13.975105          -3       1  \n",
       "\n",
       "[100 rows x 18 columns]"
      ]
     },
     "execution_count": 87,
     "metadata": {},
     "output_type": "execute_result"
    }
   ],
   "source": [
    "from sklearn.preprocessing import LabelEncoder\n",
    "\n",
    "le = LabelEncoder()\n",
    "\n",
    "le.fit(data['country_name'])\n",
    "data['country_name'] = le.transform(data['country_name'])\n",
    "\n",
    "data.head(100)"
   ]
  },
  {
   "cell_type": "code",
   "execution_count": 88,
   "metadata": {},
   "outputs": [
    {
     "data": {
      "text/html": [
       "<div>\n",
       "<style scoped>\n",
       "    .dataframe tbody tr th:only-of-type {\n",
       "        vertical-align: middle;\n",
       "    }\n",
       "\n",
       "    .dataframe tbody tr th {\n",
       "        vertical-align: top;\n",
       "    }\n",
       "\n",
       "    .dataframe thead th {\n",
       "        text-align: right;\n",
       "    }\n",
       "</style>\n",
       "<table border=\"1\" class=\"dataframe\">\n",
       "  <thead>\n",
       "    <tr style=\"text-align: right;\">\n",
       "      <th></th>\n",
       "      <th>id</th>\n",
       "      <th>country_name</th>\n",
       "      <th>league_name</th>\n",
       "      <th>season</th>\n",
       "      <th>stage</th>\n",
       "      <th>date</th>\n",
       "      <th>home_team</th>\n",
       "      <th>away_team</th>\n",
       "      <th>home_team_goal</th>\n",
       "      <th>away_team_goal</th>\n",
       "      <th>B365H</th>\n",
       "      <th>B365D</th>\n",
       "      <th>B365A</th>\n",
       "      <th>BSH</th>\n",
       "      <th>BSD</th>\n",
       "      <th>BSA</th>\n",
       "      <th>diff_goals</th>\n",
       "      <th>target</th>\n",
       "    </tr>\n",
       "  </thead>\n",
       "  <tbody>\n",
       "    <tr>\n",
       "      <th>0</th>\n",
       "      <td>24559</td>\n",
       "      <td>10</td>\n",
       "      <td>10</td>\n",
       "      <td>2008/2009</td>\n",
       "      <td>1</td>\n",
       "      <td>2008-07-18 00:00:00</td>\n",
       "      <td>BSC Young Boys</td>\n",
       "      <td>FC Basel</td>\n",
       "      <td>1</td>\n",
       "      <td>2</td>\n",
       "      <td>8.012206</td>\n",
       "      <td>7.194491</td>\n",
       "      <td>15.852533</td>\n",
       "      <td>7.021272</td>\n",
       "      <td>6.265558</td>\n",
       "      <td>13.975105</td>\n",
       "      <td>-1</td>\n",
       "      <td>1</td>\n",
       "    </tr>\n",
       "    <tr>\n",
       "      <th>1</th>\n",
       "      <td>24560</td>\n",
       "      <td>10</td>\n",
       "      <td>10</td>\n",
       "      <td>2008/2009</td>\n",
       "      <td>1</td>\n",
       "      <td>2008-07-19 00:00:00</td>\n",
       "      <td>FC Aarau</td>\n",
       "      <td>FC Sion</td>\n",
       "      <td>3</td>\n",
       "      <td>1</td>\n",
       "      <td>8.012206</td>\n",
       "      <td>7.194491</td>\n",
       "      <td>15.852533</td>\n",
       "      <td>7.021272</td>\n",
       "      <td>6.265558</td>\n",
       "      <td>13.975105</td>\n",
       "      <td>2</td>\n",
       "      <td>1</td>\n",
       "    </tr>\n",
       "    <tr>\n",
       "      <th>2</th>\n",
       "      <td>24561</td>\n",
       "      <td>10</td>\n",
       "      <td>10</td>\n",
       "      <td>2008/2009</td>\n",
       "      <td>1</td>\n",
       "      <td>2008-07-20 00:00:00</td>\n",
       "      <td>FC Luzern</td>\n",
       "      <td>FC Vaduz</td>\n",
       "      <td>1</td>\n",
       "      <td>2</td>\n",
       "      <td>8.012206</td>\n",
       "      <td>7.194491</td>\n",
       "      <td>15.852533</td>\n",
       "      <td>7.021272</td>\n",
       "      <td>6.265558</td>\n",
       "      <td>13.975105</td>\n",
       "      <td>-1</td>\n",
       "      <td>1</td>\n",
       "    </tr>\n",
       "    <tr>\n",
       "      <th>3</th>\n",
       "      <td>24562</td>\n",
       "      <td>10</td>\n",
       "      <td>10</td>\n",
       "      <td>2008/2009</td>\n",
       "      <td>1</td>\n",
       "      <td>2008-07-20 00:00:00</td>\n",
       "      <td>Neuchâtel Xamax</td>\n",
       "      <td>FC Zürich</td>\n",
       "      <td>1</td>\n",
       "      <td>2</td>\n",
       "      <td>8.012206</td>\n",
       "      <td>7.194491</td>\n",
       "      <td>15.852533</td>\n",
       "      <td>7.021272</td>\n",
       "      <td>6.265558</td>\n",
       "      <td>13.975105</td>\n",
       "      <td>-1</td>\n",
       "      <td>1</td>\n",
       "    </tr>\n",
       "    <tr>\n",
       "      <th>4</th>\n",
       "      <td>24613</td>\n",
       "      <td>10</td>\n",
       "      <td>10</td>\n",
       "      <td>2008/2009</td>\n",
       "      <td>2</td>\n",
       "      <td>2008-07-23 00:00:00</td>\n",
       "      <td>FC Basel</td>\n",
       "      <td>Grasshopper Club Zürich</td>\n",
       "      <td>1</td>\n",
       "      <td>0</td>\n",
       "      <td>8.012206</td>\n",
       "      <td>7.194491</td>\n",
       "      <td>15.852533</td>\n",
       "      <td>7.021272</td>\n",
       "      <td>6.265558</td>\n",
       "      <td>13.975105</td>\n",
       "      <td>1</td>\n",
       "      <td>1</td>\n",
       "    </tr>\n",
       "    <tr>\n",
       "      <th>...</th>\n",
       "      <td>...</td>\n",
       "      <td>...</td>\n",
       "      <td>...</td>\n",
       "      <td>...</td>\n",
       "      <td>...</td>\n",
       "      <td>...</td>\n",
       "      <td>...</td>\n",
       "      <td>...</td>\n",
       "      <td>...</td>\n",
       "      <td>...</td>\n",
       "      <td>...</td>\n",
       "      <td>...</td>\n",
       "      <td>...</td>\n",
       "      <td>...</td>\n",
       "      <td>...</td>\n",
       "      <td>...</td>\n",
       "      <td>...</td>\n",
       "      <td>...</td>\n",
       "    </tr>\n",
       "    <tr>\n",
       "      <th>95</th>\n",
       "      <td>4883</td>\n",
       "      <td>2</td>\n",
       "      <td>2</td>\n",
       "      <td>2008/2009</td>\n",
       "      <td>2</td>\n",
       "      <td>2008-08-17 00:00:00</td>\n",
       "      <td>Olympique de Marseille</td>\n",
       "      <td>AJ Auxerre</td>\n",
       "      <td>4</td>\n",
       "      <td>0</td>\n",
       "      <td>1.570000</td>\n",
       "      <td>3.600000</td>\n",
       "      <td>6.500000</td>\n",
       "      <td>1.570000</td>\n",
       "      <td>3.300000</td>\n",
       "      <td>6.000000</td>\n",
       "      <td>4</td>\n",
       "      <td>1</td>\n",
       "    </tr>\n",
       "    <tr>\n",
       "      <th>96</th>\n",
       "      <td>7813</td>\n",
       "      <td>3</td>\n",
       "      <td>3</td>\n",
       "      <td>2008/2009</td>\n",
       "      <td>1</td>\n",
       "      <td>2008-08-17 00:00:00</td>\n",
       "      <td>Eintracht Frankfurt</td>\n",
       "      <td>Hertha BSC Berlin</td>\n",
       "      <td>0</td>\n",
       "      <td>2</td>\n",
       "      <td>2.350000</td>\n",
       "      <td>3.300000</td>\n",
       "      <td>3.000000</td>\n",
       "      <td>2.250000</td>\n",
       "      <td>3.250000</td>\n",
       "      <td>2.880000</td>\n",
       "      <td>-2</td>\n",
       "      <td>1</td>\n",
       "    </tr>\n",
       "    <tr>\n",
       "      <th>97</th>\n",
       "      <td>7816</td>\n",
       "      <td>3</td>\n",
       "      <td>3</td>\n",
       "      <td>2008/2009</td>\n",
       "      <td>1</td>\n",
       "      <td>2008-08-17 00:00:00</td>\n",
       "      <td>Borussia Mönchengladbach</td>\n",
       "      <td>VfB Stuttgart</td>\n",
       "      <td>1</td>\n",
       "      <td>3</td>\n",
       "      <td>2.750000</td>\n",
       "      <td>3.300000</td>\n",
       "      <td>2.500000</td>\n",
       "      <td>2.620000</td>\n",
       "      <td>3.100000</td>\n",
       "      <td>2.500000</td>\n",
       "      <td>-2</td>\n",
       "      <td>1</td>\n",
       "    </tr>\n",
       "    <tr>\n",
       "      <th>98</th>\n",
       "      <td>15812</td>\n",
       "      <td>6</td>\n",
       "      <td>6</td>\n",
       "      <td>2008/2009</td>\n",
       "      <td>2</td>\n",
       "      <td>2008-08-17 00:00:00</td>\n",
       "      <td>Odra Wodzisław</td>\n",
       "      <td>Legia Warszawa</td>\n",
       "      <td>2</td>\n",
       "      <td>0</td>\n",
       "      <td>8.012206</td>\n",
       "      <td>7.194491</td>\n",
       "      <td>15.852533</td>\n",
       "      <td>7.021272</td>\n",
       "      <td>6.265558</td>\n",
       "      <td>13.975105</td>\n",
       "      <td>2</td>\n",
       "      <td>1</td>\n",
       "    </tr>\n",
       "    <tr>\n",
       "      <th>99</th>\n",
       "      <td>15814</td>\n",
       "      <td>6</td>\n",
       "      <td>6</td>\n",
       "      <td>2008/2009</td>\n",
       "      <td>2</td>\n",
       "      <td>2008-08-17 00:00:00</td>\n",
       "      <td>Jagiellonia Białystok</td>\n",
       "      <td>Lech Poznań</td>\n",
       "      <td>0</td>\n",
       "      <td>3</td>\n",
       "      <td>8.012206</td>\n",
       "      <td>7.194491</td>\n",
       "      <td>15.852533</td>\n",
       "      <td>7.021272</td>\n",
       "      <td>6.265558</td>\n",
       "      <td>13.975105</td>\n",
       "      <td>-3</td>\n",
       "      <td>1</td>\n",
       "    </tr>\n",
       "  </tbody>\n",
       "</table>\n",
       "<p>100 rows × 18 columns</p>\n",
       "</div>"
      ],
      "text/plain": [
       "       id  country_name  league_name     season  stage                 date  \\\n",
       "0   24559            10           10  2008/2009      1  2008-07-18 00:00:00   \n",
       "1   24560            10           10  2008/2009      1  2008-07-19 00:00:00   \n",
       "2   24561            10           10  2008/2009      1  2008-07-20 00:00:00   \n",
       "3   24562            10           10  2008/2009      1  2008-07-20 00:00:00   \n",
       "4   24613            10           10  2008/2009      2  2008-07-23 00:00:00   \n",
       "..    ...           ...          ...        ...    ...                  ...   \n",
       "95   4883             2            2  2008/2009      2  2008-08-17 00:00:00   \n",
       "96   7813             3            3  2008/2009      1  2008-08-17 00:00:00   \n",
       "97   7816             3            3  2008/2009      1  2008-08-17 00:00:00   \n",
       "98  15812             6            6  2008/2009      2  2008-08-17 00:00:00   \n",
       "99  15814             6            6  2008/2009      2  2008-08-17 00:00:00   \n",
       "\n",
       "                   home_team                away_team  home_team_goal  \\\n",
       "0             BSC Young Boys                 FC Basel               1   \n",
       "1                   FC Aarau                  FC Sion               3   \n",
       "2                  FC Luzern                 FC Vaduz               1   \n",
       "3            Neuchâtel Xamax                FC Zürich               1   \n",
       "4                   FC Basel  Grasshopper Club Zürich               1   \n",
       "..                       ...                      ...             ...   \n",
       "95    Olympique de Marseille               AJ Auxerre               4   \n",
       "96       Eintracht Frankfurt        Hertha BSC Berlin               0   \n",
       "97  Borussia Mönchengladbach            VfB Stuttgart               1   \n",
       "98            Odra Wodzisław           Legia Warszawa               2   \n",
       "99     Jagiellonia Białystok              Lech Poznań               0   \n",
       "\n",
       "    away_team_goal     B365H     B365D      B365A       BSH       BSD  \\\n",
       "0                2  8.012206  7.194491  15.852533  7.021272  6.265558   \n",
       "1                1  8.012206  7.194491  15.852533  7.021272  6.265558   \n",
       "2                2  8.012206  7.194491  15.852533  7.021272  6.265558   \n",
       "3                2  8.012206  7.194491  15.852533  7.021272  6.265558   \n",
       "4                0  8.012206  7.194491  15.852533  7.021272  6.265558   \n",
       "..             ...       ...       ...        ...       ...       ...   \n",
       "95               0  1.570000  3.600000   6.500000  1.570000  3.300000   \n",
       "96               2  2.350000  3.300000   3.000000  2.250000  3.250000   \n",
       "97               3  2.750000  3.300000   2.500000  2.620000  3.100000   \n",
       "98               0  8.012206  7.194491  15.852533  7.021272  6.265558   \n",
       "99               3  8.012206  7.194491  15.852533  7.021272  6.265558   \n",
       "\n",
       "          BSA  diff_goals  target  \n",
       "0   13.975105          -1       1  \n",
       "1   13.975105           2       1  \n",
       "2   13.975105          -1       1  \n",
       "3   13.975105          -1       1  \n",
       "4   13.975105           1       1  \n",
       "..        ...         ...     ...  \n",
       "95   6.000000           4       1  \n",
       "96   2.880000          -2       1  \n",
       "97   2.500000          -2       1  \n",
       "98  13.975105           2       1  \n",
       "99  13.975105          -3       1  \n",
       "\n",
       "[100 rows x 18 columns]"
      ]
     },
     "execution_count": 88,
     "metadata": {},
     "output_type": "execute_result"
    }
   ],
   "source": [
    "le.fit(data['league_name'])\n",
    "data['league_name'] = le.transform(data['league_name'])\n",
    "\n",
    "data.head(100)"
   ]
  },
  {
   "cell_type": "code",
   "execution_count": 89,
   "metadata": {},
   "outputs": [
    {
     "data": {
      "text/html": [
       "<div>\n",
       "<style scoped>\n",
       "    .dataframe tbody tr th:only-of-type {\n",
       "        vertical-align: middle;\n",
       "    }\n",
       "\n",
       "    .dataframe tbody tr th {\n",
       "        vertical-align: top;\n",
       "    }\n",
       "\n",
       "    .dataframe thead th {\n",
       "        text-align: right;\n",
       "    }\n",
       "</style>\n",
       "<table border=\"1\" class=\"dataframe\">\n",
       "  <thead>\n",
       "    <tr style=\"text-align: right;\">\n",
       "      <th></th>\n",
       "      <th>id</th>\n",
       "      <th>country_name</th>\n",
       "      <th>league_name</th>\n",
       "      <th>season</th>\n",
       "      <th>stage</th>\n",
       "      <th>date</th>\n",
       "      <th>home_team</th>\n",
       "      <th>away_team</th>\n",
       "      <th>home_team_goal</th>\n",
       "      <th>away_team_goal</th>\n",
       "      <th>B365H</th>\n",
       "      <th>B365D</th>\n",
       "      <th>B365A</th>\n",
       "      <th>BSH</th>\n",
       "      <th>BSD</th>\n",
       "      <th>BSA</th>\n",
       "      <th>diff_goals</th>\n",
       "      <th>target</th>\n",
       "    </tr>\n",
       "  </thead>\n",
       "  <tbody>\n",
       "    <tr>\n",
       "      <th>0</th>\n",
       "      <td>24559</td>\n",
       "      <td>10</td>\n",
       "      <td>10</td>\n",
       "      <td>2008/2009</td>\n",
       "      <td>1</td>\n",
       "      <td>2008-07-18 00:00:00</td>\n",
       "      <td>24</td>\n",
       "      <td>76</td>\n",
       "      <td>1</td>\n",
       "      <td>2</td>\n",
       "      <td>8.012206</td>\n",
       "      <td>7.194491</td>\n",
       "      <td>15.852533</td>\n",
       "      <td>7.021272</td>\n",
       "      <td>6.265558</td>\n",
       "      <td>13.975105</td>\n",
       "      <td>-1</td>\n",
       "      <td>1</td>\n",
       "    </tr>\n",
       "    <tr>\n",
       "      <th>1</th>\n",
       "      <td>24560</td>\n",
       "      <td>10</td>\n",
       "      <td>10</td>\n",
       "      <td>2008/2009</td>\n",
       "      <td>1</td>\n",
       "      <td>2008-07-19 00:00:00</td>\n",
       "      <td>72</td>\n",
       "      <td>91</td>\n",
       "      <td>3</td>\n",
       "      <td>1</td>\n",
       "      <td>8.012206</td>\n",
       "      <td>7.194491</td>\n",
       "      <td>15.852533</td>\n",
       "      <td>7.021272</td>\n",
       "      <td>6.265558</td>\n",
       "      <td>13.975105</td>\n",
       "      <td>2</td>\n",
       "      <td>1</td>\n",
       "    </tr>\n",
       "    <tr>\n",
       "      <th>2</th>\n",
       "      <td>24561</td>\n",
       "      <td>10</td>\n",
       "      <td>10</td>\n",
       "      <td>2008/2009</td>\n",
       "      <td>1</td>\n",
       "      <td>2008-07-20 00:00:00</td>\n",
       "      <td>84</td>\n",
       "      <td>98</td>\n",
       "      <td>1</td>\n",
       "      <td>2</td>\n",
       "      <td>8.012206</td>\n",
       "      <td>7.194491</td>\n",
       "      <td>15.852533</td>\n",
       "      <td>7.021272</td>\n",
       "      <td>6.265558</td>\n",
       "      <td>13.975105</td>\n",
       "      <td>-1</td>\n",
       "      <td>1</td>\n",
       "    </tr>\n",
       "    <tr>\n",
       "      <th>3</th>\n",
       "      <td>24562</td>\n",
       "      <td>10</td>\n",
       "      <td>10</td>\n",
       "      <td>2008/2009</td>\n",
       "      <td>1</td>\n",
       "      <td>2008-07-20 00:00:00</td>\n",
       "      <td>173</td>\n",
       "      <td>100</td>\n",
       "      <td>1</td>\n",
       "      <td>2</td>\n",
       "      <td>8.012206</td>\n",
       "      <td>7.194491</td>\n",
       "      <td>15.852533</td>\n",
       "      <td>7.021272</td>\n",
       "      <td>6.265558</td>\n",
       "      <td>13.975105</td>\n",
       "      <td>-1</td>\n",
       "      <td>1</td>\n",
       "    </tr>\n",
       "    <tr>\n",
       "      <th>4</th>\n",
       "      <td>24613</td>\n",
       "      <td>10</td>\n",
       "      <td>10</td>\n",
       "      <td>2008/2009</td>\n",
       "      <td>2</td>\n",
       "      <td>2008-07-23 00:00:00</td>\n",
       "      <td>76</td>\n",
       "      <td>117</td>\n",
       "      <td>1</td>\n",
       "      <td>0</td>\n",
       "      <td>8.012206</td>\n",
       "      <td>7.194491</td>\n",
       "      <td>15.852533</td>\n",
       "      <td>7.021272</td>\n",
       "      <td>6.265558</td>\n",
       "      <td>13.975105</td>\n",
       "      <td>1</td>\n",
       "      <td>1</td>\n",
       "    </tr>\n",
       "    <tr>\n",
       "      <th>...</th>\n",
       "      <td>...</td>\n",
       "      <td>...</td>\n",
       "      <td>...</td>\n",
       "      <td>...</td>\n",
       "      <td>...</td>\n",
       "      <td>...</td>\n",
       "      <td>...</td>\n",
       "      <td>...</td>\n",
       "      <td>...</td>\n",
       "      <td>...</td>\n",
       "      <td>...</td>\n",
       "      <td>...</td>\n",
       "      <td>...</td>\n",
       "      <td>...</td>\n",
       "      <td>...</td>\n",
       "      <td>...</td>\n",
       "      <td>...</td>\n",
       "      <td>...</td>\n",
       "    </tr>\n",
       "    <tr>\n",
       "      <th>95</th>\n",
       "      <td>4883</td>\n",
       "      <td>2</td>\n",
       "      <td>2</td>\n",
       "      <td>2008/2009</td>\n",
       "      <td>2</td>\n",
       "      <td>2008-08-17 00:00:00</td>\n",
       "      <td>180</td>\n",
       "      <td>8</td>\n",
       "      <td>4</td>\n",
       "      <td>0</td>\n",
       "      <td>1.570000</td>\n",
       "      <td>3.600000</td>\n",
       "      <td>6.500000</td>\n",
       "      <td>1.570000</td>\n",
       "      <td>3.300000</td>\n",
       "      <td>6.000000</td>\n",
       "      <td>4</td>\n",
       "      <td>1</td>\n",
       "    </tr>\n",
       "    <tr>\n",
       "      <th>96</th>\n",
       "      <td>7813</td>\n",
       "      <td>3</td>\n",
       "      <td>3</td>\n",
       "      <td>2008/2009</td>\n",
       "      <td>1</td>\n",
       "      <td>2008-08-17 00:00:00</td>\n",
       "      <td>65</td>\n",
       "      <td>126</td>\n",
       "      <td>0</td>\n",
       "      <td>2</td>\n",
       "      <td>2.350000</td>\n",
       "      <td>3.300000</td>\n",
       "      <td>3.000000</td>\n",
       "      <td>2.250000</td>\n",
       "      <td>3.250000</td>\n",
       "      <td>2.880000</td>\n",
       "      <td>-2</td>\n",
       "      <td>1</td>\n",
       "    </tr>\n",
       "    <tr>\n",
       "      <th>97</th>\n",
       "      <td>7816</td>\n",
       "      <td>3</td>\n",
       "      <td>3</td>\n",
       "      <td>2008/2009</td>\n",
       "      <td>1</td>\n",
       "      <td>2008-08-17 00:00:00</td>\n",
       "      <td>35</td>\n",
       "      <td>275</td>\n",
       "      <td>1</td>\n",
       "      <td>3</td>\n",
       "      <td>2.750000</td>\n",
       "      <td>3.300000</td>\n",
       "      <td>2.500000</td>\n",
       "      <td>2.620000</td>\n",
       "      <td>3.100000</td>\n",
       "      <td>2.500000</td>\n",
       "      <td>-2</td>\n",
       "      <td>1</td>\n",
       "    </tr>\n",
       "    <tr>\n",
       "      <th>98</th>\n",
       "      <td>15812</td>\n",
       "      <td>6</td>\n",
       "      <td>6</td>\n",
       "      <td>2008/2009</td>\n",
       "      <td>2</td>\n",
       "      <td>2008-08-17 00:00:00</td>\n",
       "      <td>178</td>\n",
       "      <td>153</td>\n",
       "      <td>2</td>\n",
       "      <td>0</td>\n",
       "      <td>8.012206</td>\n",
       "      <td>7.194491</td>\n",
       "      <td>15.852533</td>\n",
       "      <td>7.021272</td>\n",
       "      <td>6.265558</td>\n",
       "      <td>13.975105</td>\n",
       "      <td>2</td>\n",
       "      <td>1</td>\n",
       "    </tr>\n",
       "    <tr>\n",
       "      <th>99</th>\n",
       "      <td>15814</td>\n",
       "      <td>6</td>\n",
       "      <td>6</td>\n",
       "      <td>2008/2009</td>\n",
       "      <td>2</td>\n",
       "      <td>2008-08-17 00:00:00</td>\n",
       "      <td>132</td>\n",
       "      <td>151</td>\n",
       "      <td>0</td>\n",
       "      <td>3</td>\n",
       "      <td>8.012206</td>\n",
       "      <td>7.194491</td>\n",
       "      <td>15.852533</td>\n",
       "      <td>7.021272</td>\n",
       "      <td>6.265558</td>\n",
       "      <td>13.975105</td>\n",
       "      <td>-3</td>\n",
       "      <td>1</td>\n",
       "    </tr>\n",
       "  </tbody>\n",
       "</table>\n",
       "<p>100 rows × 18 columns</p>\n",
       "</div>"
      ],
      "text/plain": [
       "       id  country_name  league_name     season  stage                 date  \\\n",
       "0   24559            10           10  2008/2009      1  2008-07-18 00:00:00   \n",
       "1   24560            10           10  2008/2009      1  2008-07-19 00:00:00   \n",
       "2   24561            10           10  2008/2009      1  2008-07-20 00:00:00   \n",
       "3   24562            10           10  2008/2009      1  2008-07-20 00:00:00   \n",
       "4   24613            10           10  2008/2009      2  2008-07-23 00:00:00   \n",
       "..    ...           ...          ...        ...    ...                  ...   \n",
       "95   4883             2            2  2008/2009      2  2008-08-17 00:00:00   \n",
       "96   7813             3            3  2008/2009      1  2008-08-17 00:00:00   \n",
       "97   7816             3            3  2008/2009      1  2008-08-17 00:00:00   \n",
       "98  15812             6            6  2008/2009      2  2008-08-17 00:00:00   \n",
       "99  15814             6            6  2008/2009      2  2008-08-17 00:00:00   \n",
       "\n",
       "    home_team  away_team  home_team_goal  away_team_goal     B365H     B365D  \\\n",
       "0          24         76               1               2  8.012206  7.194491   \n",
       "1          72         91               3               1  8.012206  7.194491   \n",
       "2          84         98               1               2  8.012206  7.194491   \n",
       "3         173        100               1               2  8.012206  7.194491   \n",
       "4          76        117               1               0  8.012206  7.194491   \n",
       "..        ...        ...             ...             ...       ...       ...   \n",
       "95        180          8               4               0  1.570000  3.600000   \n",
       "96         65        126               0               2  2.350000  3.300000   \n",
       "97         35        275               1               3  2.750000  3.300000   \n",
       "98        178        153               2               0  8.012206  7.194491   \n",
       "99        132        151               0               3  8.012206  7.194491   \n",
       "\n",
       "        B365A       BSH       BSD        BSA  diff_goals  target  \n",
       "0   15.852533  7.021272  6.265558  13.975105          -1       1  \n",
       "1   15.852533  7.021272  6.265558  13.975105           2       1  \n",
       "2   15.852533  7.021272  6.265558  13.975105          -1       1  \n",
       "3   15.852533  7.021272  6.265558  13.975105          -1       1  \n",
       "4   15.852533  7.021272  6.265558  13.975105           1       1  \n",
       "..        ...       ...       ...        ...         ...     ...  \n",
       "95   6.500000  1.570000  3.300000   6.000000           4       1  \n",
       "96   3.000000  2.250000  3.250000   2.880000          -2       1  \n",
       "97   2.500000  2.620000  3.100000   2.500000          -2       1  \n",
       "98  15.852533  7.021272  6.265558  13.975105           2       1  \n",
       "99  15.852533  7.021272  6.265558  13.975105          -3       1  \n",
       "\n",
       "[100 rows x 18 columns]"
      ]
     },
     "execution_count": 89,
     "metadata": {},
     "output_type": "execute_result"
    }
   ],
   "source": [
    "le.fit(data['home_team'])\n",
    "data['home_team'] = le.transform(data['home_team'])\n",
    "\n",
    "le.fit(data['away_team'])\n",
    "data['away_team'] = le.transform(data['away_team'])\n",
    "\n",
    "data.head(100)"
   ]
  },
  {
   "cell_type": "code",
   "execution_count": 90,
   "metadata": {},
   "outputs": [
    {
     "data": {
      "text/plain": [
       "<Axes: ylabel='B365H'>"
      ]
     },
     "execution_count": 90,
     "metadata": {},
     "output_type": "execute_result"
    },
    {
     "data": {
      "image/png": "[encoded data removed]",
      "text/plain": [
       "<Figure size 800x600 with 1 Axes>"
      ]
     },
     "metadata": {},
     "output_type": "display_data"
    }
   ],
   "source": [
    "sns.boxplot( y='B365H', data=data)"
   ]
  },
  {
   "cell_type": "code",
   "execution_count": 91,
   "metadata": {},
   "outputs": [
    {
     "name": "stdout",
     "output_type": "stream",
     "text": [
      "-1.0250000000000004\n",
      "6.375\n"
     ]
    }
   ],
   "source": [
    "IQR1 = data[\"B365H\"].quantile(0.75) - data[\"B365H\"].quantile(0.25)\n",
    "\n",
    "lower_B365H_limit = data[\"B365H\"].quantile(0.25) - (IQR1 * 1.5)\n",
    "upper_B365H_limit = data[\"B365H\"].quantile(0.75) + (IQR1 * 1.5)\n",
    "\n",
    "print(lower_B365H_limit)\n",
    "print(upper_B365H_limit)"
   ]
  },
  {
   "cell_type": "code",
   "execution_count": 92,
   "metadata": {},
   "outputs": [],
   "source": [
    "data[\"B365H\"]= np.where(data[\"B365H\"] > upper_B365H_limit, upper_B365H_limit,\n",
    "            np.where(data[\"B365H\"] < lower_B365H_limit, lower_B365H_limit, data[\"B365H\"]))\n",
    "\n"
   ]
  },
  {
   "cell_type": "code",
   "execution_count": 93,
   "metadata": {},
   "outputs": [
    {
     "data": {
      "text/plain": [
       "<Axes: ylabel='B365H'>"
      ]
     },
     "execution_count": 93,
     "metadata": {},
     "output_type": "execute_result"
    },
    {
     "data": {
      "image/png": "[encoded data removed]",
      "text/plain": [
       "<Figure size 800x600 with 1 Axes>"
      ]
     },
     "metadata": {},
     "output_type": "display_data"
    }
   ],
   "source": [
    "sns.boxplot( y='B365H', data=data)"
   ]
  },
  {
   "cell_type": "code",
   "execution_count": 94,
   "metadata": {},
   "outputs": [
    {
     "data": {
      "text/plain": [
       "<Axes: ylabel='B365A'>"
      ]
     },
     "execution_count": 94,
     "metadata": {},
     "output_type": "execute_result"
    },
    {
     "data": {
      "image/png": "[encoded data removed]",
      "text/plain": [
       "<Figure size 800x600 with 1 Axes>"
      ]
     },
     "metadata": {},
     "output_type": "display_data"
    }
   ],
   "source": [
    "sns.boxplot( y='B365A', data=data)"
   ]
  },
  {
   "cell_type": "code",
   "execution_count": 95,
   "metadata": {},
   "outputs": [
    {
     "name": "stdout",
     "output_type": "stream",
     "text": [
      "-4.499999999999999\n",
      "14.7\n"
     ]
    }
   ],
   "source": [
    "IQR2 = data[\"B365A\"].quantile(0.75) - data[\"B365A\"].quantile(0.25)\n",
    "\n",
    "lower_B365A_limit = data[\"B365A\"].quantile(0.25) - (IQR2 * 1.5)\n",
    "upper_B365A_limit = data[\"B365A\"].quantile(0.75) + (IQR2 * 1.5)\n",
    "\n",
    "print(lower_B365A_limit)\n",
    "print(upper_B365A_limit)"
   ]
  },
  {
   "cell_type": "code",
   "execution_count": 96,
   "metadata": {},
   "outputs": [],
   "source": [
    "data[\"B365A\"]= np.where(data[\"B365A\"] > upper_B365A_limit, upper_B365A_limit,\n",
    "            np.where(data[\"B365A\"] < lower_B365A_limit, lower_B365A_limit, data[\"B365A\"]))\n",
    "\n"
   ]
  },
  {
   "cell_type": "code",
   "execution_count": 97,
   "metadata": {},
   "outputs": [
    {
     "data": {
      "text/plain": [
       "<Axes: ylabel='B365A'>"
      ]
     },
     "execution_count": 97,
     "metadata": {},
     "output_type": "execute_result"
    },
    {
     "data": {
      "image/png": "[encoded data removed]",
      "text/plain": [
       "<Figure size 800x600 with 1 Axes>"
      ]
     },
     "metadata": {},
     "output_type": "display_data"
    }
   ],
   "source": [
    "sns.boxplot( y='B365A', data=data)"
   ]
  },
  {
   "cell_type": "code",
   "execution_count": 98,
   "metadata": {},
   "outputs": [
    {
     "data": {
      "text/plain": [
       "<Axes: ylabel='B365D'>"
      ]
     },
     "execution_count": 98,
     "metadata": {},
     "output_type": "execute_result"
    },
    {
     "data": {
      "image/png": "[encoded data removed]",
      "text/plain": [
       "<Figure size 800x600 with 1 Axes>"
      ]
     },
     "metadata": {},
     "output_type": "display_data"
    }
   ],
   "source": [
    "sns.boxplot( y='B365D', data=data)"
   ]
  },
  {
   "cell_type": "code",
   "execution_count": 99,
   "metadata": {},
   "outputs": [
    {
     "name": "stdout",
     "output_type": "stream",
     "text": [
      "1.4999999999999996\n",
      "6.300000000000001\n"
     ]
    }
   ],
   "source": [
    "IQR3 = data[\"B365D\"].quantile(0.75) - data[\"B365D\"].quantile(0.25)\n",
    "\n",
    "lower_B365D_limit = data[\"B365D\"].quantile(0.25) - (IQR3 * 1.5)\n",
    "upper_B365D_limit = data[\"B365D\"].quantile(0.75) + (IQR3 * 1.5)\n",
    "\n",
    "print(lower_B365D_limit)\n",
    "print(upper_B365D_limit)"
   ]
  },
  {
   "cell_type": "code",
   "execution_count": 100,
   "metadata": {},
   "outputs": [],
   "source": [
    "data[\"B365D\"]= np.where(data[\"B365D\"] > upper_B365D_limit, upper_B365D_limit,\n",
    "            np.where(data[\"B365D\"] < lower_B365D_limit, lower_B365D_limit, data[\"B365D\"]))\n",
    "\n"
   ]
  },
  {
   "cell_type": "code",
   "execution_count": 101,
   "metadata": {},
   "outputs": [
    {
     "data": {
      "text/plain": [
       "<Axes: ylabel='B365D'>"
      ]
     },
     "execution_count": 101,
     "metadata": {},
     "output_type": "execute_result"
    },
    {
     "data": {
      "image/png": "[encoded data removed]",
      "text/plain": [
       "<Figure size 800x600 with 1 Axes>"
      ]
     },
     "metadata": {},
     "output_type": "display_data"
    }
   ],
   "source": [
    "sns.boxplot( y='B365D', data=data)"
   ]
  },
  {
   "cell_type": "code",
   "execution_count": 102,
   "metadata": {},
   "outputs": [
    {
     "data": {
      "text/plain": [
       "<Axes: ylabel='BSH'>"
      ]
     },
     "execution_count": 102,
     "metadata": {},
     "output_type": "execute_result"
    },
    {
     "data": {
      "image/png": "[encoded data removed]",
      "text/plain": [
       "<Figure size 800x600 with 1 Axes>"
      ]
     },
     "metadata": {},
     "output_type": "display_data"
    }
   ],
   "source": [
    "sns.boxplot( y='BSH', data=data)"
   ]
  },
  {
   "cell_type": "code",
   "execution_count": 103,
   "metadata": {},
   "outputs": [
    {
     "name": "stdout",
     "output_type": "stream",
     "text": [
      "-5.406907655601594\n",
      "14.478179426002656\n"
     ]
    }
   ],
   "source": [
    "IQR4 = data[\"BSH\"].quantile(0.75) - data[\"BSH\"].quantile(0.25)\n",
    "\n",
    "lower_BSH_limit = data[\"BSH\"].quantile(0.25) - (IQR4 * 1.5)\n",
    "upper_BSH_limit = data[\"BSH\"].quantile(0.75) + (IQR4 * 1.5)\n",
    "\n",
    "print(lower_BSH_limit)\n",
    "print(upper_BSH_limit)"
   ]
  },
  {
   "cell_type": "code",
   "execution_count": 104,
   "metadata": {},
   "outputs": [],
   "source": [
    "data[\"BSH\"]= np.where(data[\"BSH\"] > upper_BSH_limit, upper_BSH_limit,\n",
    "            np.where(data[\"BSH\"] < lower_BSH_limit, lower_BSH_limit, data[\"BSH\"]))\n",
    "\n"
   ]
  },
  {
   "cell_type": "code",
   "execution_count": 105,
   "metadata": {},
   "outputs": [
    {
     "data": {
      "text/plain": [
       "<Axes: ylabel='BSH'>"
      ]
     },
     "execution_count": 105,
     "metadata": {},
     "output_type": "execute_result"
    },
    {
     "data": {
      "image/png": "[encoded data removed]",
      "text/plain": [
       "<Figure size 800x600 with 1 Axes>"
      ]
     },
     "metadata": {},
     "output_type": "display_data"
    }
   ],
   "source": [
    "sns.boxplot( y='BSH', data=data)"
   ]
  },
  {
   "cell_type": "code",
   "execution_count": 106,
   "metadata": {},
   "outputs": [
    {
     "data": {
      "text/plain": [
       "<Axes: ylabel='BSD'>"
      ]
     },
     "execution_count": 106,
     "metadata": {},
     "output_type": "execute_result"
    },
    {
     "data": {
      "image/png": "[encoded data removed]",
      "text/plain": [
       "<Figure size 800x600 with 1 Axes>"
      ]
     },
     "metadata": {},
     "output_type": "display_data"
    }
   ],
   "source": [
    "sns.boxplot( y='BSD', data=data)"
   ]
  },
  {
   "cell_type": "code",
   "execution_count": 107,
   "metadata": {},
   "outputs": [
    {
     "name": "stdout",
     "output_type": "stream",
     "text": [
      "-1.148336934552816\n",
      "10.71389489092136\n"
     ]
    }
   ],
   "source": [
    "IQR5 = data[\"BSD\"].quantile(0.75) - data[\"BSD\"].quantile(0.25)\n",
    "\n",
    "lower_BSD_limit = data[\"BSD\"].quantile(0.25) - (IQR5 * 1.5)\n",
    "upper_BSD_limit = data[\"BSD\"].quantile(0.75) + (IQR5 * 1.5)\n",
    "\n",
    "print(lower_BSD_limit)\n",
    "print(upper_BSD_limit)"
   ]
  },
  {
   "cell_type": "code",
   "execution_count": 108,
   "metadata": {},
   "outputs": [],
   "source": [
    "data[\"BSD\"]= np.where(data[\"BSD\"] > upper_BSD_limit, upper_BSD_limit,\n",
    "            np.where(data[\"BSD\"] < lower_BSD_limit, lower_BSD_limit, data[\"BSD\"]))\n",
    "\n"
   ]
  },
  {
   "cell_type": "code",
   "execution_count": 109,
   "metadata": {},
   "outputs": [
    {
     "data": {
      "text/plain": [
       "<Axes: ylabel='BSD'>"
      ]
     },
     "execution_count": 109,
     "metadata": {},
     "output_type": "execute_result"
    },
    {
     "data": {
      "image/png": "[encoded data removed]",
      "text/plain": [
       "<Figure size 800x600 with 1 Axes>"
      ]
     },
     "metadata": {},
     "output_type": "display_data"
    }
   ],
   "source": [
    "sns.boxplot( y='BSD', data=data)"
   ]
  },
  {
   "cell_type": "code",
   "execution_count": 110,
   "metadata": {},
   "outputs": [
    {
     "data": {
      "text/plain": [
       "<Axes: ylabel='BSA'>"
      ]
     },
     "execution_count": 110,
     "metadata": {},
     "output_type": "execute_result"
    },
    {
     "data": {
      "image/png": "[encoded data removed]",
      "text/plain": [
       "<Figure size 800x600 with 1 Axes>"
      ]
     },
     "metadata": {},
     "output_type": "display_data"
    }
   ],
   "source": [
    "sns.boxplot( y='BSA', data=data)"
   ]
  },
  {
   "cell_type": "code",
   "execution_count": 111,
   "metadata": {},
   "outputs": [
    {
     "name": "stdout",
     "output_type": "stream",
     "text": [
      "-12.96265690945459\n",
      "30.137761515757653\n"
     ]
    }
   ],
   "source": [
    "IQR6 = data[\"BSA\"].quantile(0.75) - data[\"BSA\"].quantile(0.25)\n",
    "\n",
    "lower_BSA_limit = data[\"BSA\"].quantile(0.25) - (IQR6 * 1.5)\n",
    "upper_BSA_limit = data[\"BSA\"].quantile(0.75) + (IQR6 * 1.5)\n",
    "\n",
    "print(lower_BSA_limit)\n",
    "print(upper_BSA_limit)"
   ]
  },
  {
   "cell_type": "code",
   "execution_count": 112,
   "metadata": {},
   "outputs": [],
   "source": [
    "data[\"BSA\"]= np.where(data[\"BSA\"] > upper_BSA_limit, upper_BSA_limit,\n",
    "            np.where(data[\"BSA\"] < lower_BSA_limit, lower_BSA_limit, data[\"BSA\"]))\n",
    "\n"
   ]
  },
  {
   "cell_type": "code",
   "execution_count": 113,
   "metadata": {},
   "outputs": [
    {
     "data": {
      "text/plain": [
       "<Axes: ylabel='BSA'>"
      ]
     },
     "execution_count": 113,
     "metadata": {},
     "output_type": "execute_result"
    },
    {
     "data": {
      "image/png": "[encoded data removed]",
      "text/plain": [
       "<Figure size 800x600 with 1 Axes>"
      ]
     },
     "metadata": {},
     "output_type": "display_data"
    }
   ],
   "source": [
    "sns.boxplot( y='BSA', data=data)"
   ]
  },
  {
   "cell_type": "code",
   "execution_count": 114,
   "metadata": {},
   "outputs": [],
   "source": [
    "data['date'] = pd.to_datetime(data['date'])"
   ]
  },
  {
   "cell_type": "code",
   "execution_count": 115,
   "metadata": {},
   "outputs": [],
   "source": [
    "data['hour'] = data['date'].dt.hour\n",
    "data['min'] = data['date'].dt.minute\n",
    "data['second'] = data['date'].dt.second"
   ]
  },
  {
   "cell_type": "code",
   "execution_count": 116,
   "metadata": {},
   "outputs": [],
   "source": [
    "data['date'].dt.isocalendar()\n",
    "data['month'] = data['date'].dt.month\n",
    "data['day_month'] = data['date'].dt.day\n",
    "data['year']= data['date'].dt.year\n",
    "data.drop(columns=['date'], inplace=True)"
   ]
  },
  {
   "cell_type": "code",
   "execution_count": 117,
   "metadata": {},
   "outputs": [
    {
     "data": {
      "text/html": [
       "<div>\n",
       "<style scoped>\n",
       "    .dataframe tbody tr th:only-of-type {\n",
       "        vertical-align: middle;\n",
       "    }\n",
       "\n",
       "    .dataframe tbody tr th {\n",
       "        vertical-align: top;\n",
       "    }\n",
       "\n",
       "    .dataframe thead th {\n",
       "        text-align: right;\n",
       "    }\n",
       "</style>\n",
       "<table border=\"1\" class=\"dataframe\">\n",
       "  <thead>\n",
       "    <tr style=\"text-align: right;\">\n",
       "      <th></th>\n",
       "      <th>id</th>\n",
       "      <th>country_name</th>\n",
       "      <th>league_name</th>\n",
       "      <th>season</th>\n",
       "      <th>stage</th>\n",
       "      <th>home_team</th>\n",
       "      <th>away_team</th>\n",
       "      <th>home_team_goal</th>\n",
       "      <th>away_team_goal</th>\n",
       "      <th>B365H</th>\n",
       "      <th>...</th>\n",
       "      <th>BSD</th>\n",
       "      <th>BSA</th>\n",
       "      <th>diff_goals</th>\n",
       "      <th>target</th>\n",
       "      <th>hour</th>\n",
       "      <th>min</th>\n",
       "      <th>second</th>\n",
       "      <th>month</th>\n",
       "      <th>day_month</th>\n",
       "      <th>year</th>\n",
       "    </tr>\n",
       "  </thead>\n",
       "  <tbody>\n",
       "    <tr>\n",
       "      <th>0</th>\n",
       "      <td>24559</td>\n",
       "      <td>10</td>\n",
       "      <td>10</td>\n",
       "      <td>2008/2009</td>\n",
       "      <td>1</td>\n",
       "      <td>24</td>\n",
       "      <td>76</td>\n",
       "      <td>1</td>\n",
       "      <td>2</td>\n",
       "      <td>6.375</td>\n",
       "      <td>...</td>\n",
       "      <td>6.265558</td>\n",
       "      <td>13.975105</td>\n",
       "      <td>-1</td>\n",
       "      <td>1</td>\n",
       "      <td>0</td>\n",
       "      <td>0</td>\n",
       "      <td>0</td>\n",
       "      <td>7</td>\n",
       "      <td>18</td>\n",
       "      <td>2008</td>\n",
       "    </tr>\n",
       "    <tr>\n",
       "      <th>1</th>\n",
       "      <td>24560</td>\n",
       "      <td>10</td>\n",
       "      <td>10</td>\n",
       "      <td>2008/2009</td>\n",
       "      <td>1</td>\n",
       "      <td>72</td>\n",
       "      <td>91</td>\n",
       "      <td>3</td>\n",
       "      <td>1</td>\n",
       "      <td>6.375</td>\n",
       "      <td>...</td>\n",
       "      <td>6.265558</td>\n",
       "      <td>13.975105</td>\n",
       "      <td>2</td>\n",
       "      <td>1</td>\n",
       "      <td>0</td>\n",
       "      <td>0</td>\n",
       "      <td>0</td>\n",
       "      <td>7</td>\n",
       "      <td>19</td>\n",
       "      <td>2008</td>\n",
       "    </tr>\n",
       "    <tr>\n",
       "      <th>2</th>\n",
       "      <td>24561</td>\n",
       "      <td>10</td>\n",
       "      <td>10</td>\n",
       "      <td>2008/2009</td>\n",
       "      <td>1</td>\n",
       "      <td>84</td>\n",
       "      <td>98</td>\n",
       "      <td>1</td>\n",
       "      <td>2</td>\n",
       "      <td>6.375</td>\n",
       "      <td>...</td>\n",
       "      <td>6.265558</td>\n",
       "      <td>13.975105</td>\n",
       "      <td>-1</td>\n",
       "      <td>1</td>\n",
       "      <td>0</td>\n",
       "      <td>0</td>\n",
       "      <td>0</td>\n",
       "      <td>7</td>\n",
       "      <td>20</td>\n",
       "      <td>2008</td>\n",
       "    </tr>\n",
       "    <tr>\n",
       "      <th>3</th>\n",
       "      <td>24562</td>\n",
       "      <td>10</td>\n",
       "      <td>10</td>\n",
       "      <td>2008/2009</td>\n",
       "      <td>1</td>\n",
       "      <td>173</td>\n",
       "      <td>100</td>\n",
       "      <td>1</td>\n",
       "      <td>2</td>\n",
       "      <td>6.375</td>\n",
       "      <td>...</td>\n",
       "      <td>6.265558</td>\n",
       "      <td>13.975105</td>\n",
       "      <td>-1</td>\n",
       "      <td>1</td>\n",
       "      <td>0</td>\n",
       "      <td>0</td>\n",
       "      <td>0</td>\n",
       "      <td>7</td>\n",
       "      <td>20</td>\n",
       "      <td>2008</td>\n",
       "    </tr>\n",
       "    <tr>\n",
       "      <th>4</th>\n",
       "      <td>24613</td>\n",
       "      <td>10</td>\n",
       "      <td>10</td>\n",
       "      <td>2008/2009</td>\n",
       "      <td>2</td>\n",
       "      <td>76</td>\n",
       "      <td>117</td>\n",
       "      <td>1</td>\n",
       "      <td>0</td>\n",
       "      <td>6.375</td>\n",
       "      <td>...</td>\n",
       "      <td>6.265558</td>\n",
       "      <td>13.975105</td>\n",
       "      <td>1</td>\n",
       "      <td>1</td>\n",
       "      <td>0</td>\n",
       "      <td>0</td>\n",
       "      <td>0</td>\n",
       "      <td>7</td>\n",
       "      <td>23</td>\n",
       "      <td>2008</td>\n",
       "    </tr>\n",
       "  </tbody>\n",
       "</table>\n",
       "<p>5 rows × 23 columns</p>\n",
       "</div>"
      ],
      "text/plain": [
       "      id  country_name  league_name     season  stage  home_team  away_team  \\\n",
       "0  24559            10           10  2008/2009      1         24         76   \n",
       "1  24560            10           10  2008/2009      1         72         91   \n",
       "2  24561            10           10  2008/2009      1         84         98   \n",
       "3  24562            10           10  2008/2009      1        173        100   \n",
       "4  24613            10           10  2008/2009      2         76        117   \n",
       "\n",
       "   home_team_goal  away_team_goal  B365H  ...       BSD        BSA  \\\n",
       "0               1               2  6.375  ...  6.265558  13.975105   \n",
       "1               3               1  6.375  ...  6.265558  13.975105   \n",
       "2               1               2  6.375  ...  6.265558  13.975105   \n",
       "3               1               2  6.375  ...  6.265558  13.975105   \n",
       "4               1               0  6.375  ...  6.265558  13.975105   \n",
       "\n",
       "   diff_goals  target  hour  min  second  month  day_month  year  \n",
       "0          -1       1     0    0       0      7         18  2008  \n",
       "1           2       1     0    0       0      7         19  2008  \n",
       "2          -1       1     0    0       0      7         20  2008  \n",
       "3          -1       1     0    0       0      7         20  2008  \n",
       "4           1       1     0    0       0      7         23  2008  \n",
       "\n",
       "[5 rows x 23 columns]"
      ]
     },
     "execution_count": 117,
     "metadata": {},
     "output_type": "execute_result"
    }
   ],
   "source": [
    "data.head()"
   ]
  },
  {
   "cell_type": "code",
   "execution_count": 118,
   "metadata": {},
   "outputs": [
    {
     "name": "stdout",
     "output_type": "stream",
     "text": [
      "<class 'pandas.core.frame.DataFrame'>\n",
      "RangeIndex: 25979 entries, 0 to 25978\n",
      "Data columns (total 23 columns):\n",
      " #   Column          Non-Null Count  Dtype  \n",
      "---  ------          --------------  -----  \n",
      " 0   id              25979 non-null  int64  \n",
      " 1   country_name    25979 non-null  int32  \n",
      " 2   league_name     25979 non-null  int32  \n",
      " 3   season          25979 non-null  object \n",
      " 4   stage           25979 non-null  int64  \n",
      " 5   home_team       25979 non-null  int32  \n",
      " 6   away_team       25979 non-null  int32  \n",
      " 7   home_team_goal  25979 non-null  int64  \n",
      " 8   away_team_goal  25979 non-null  int64  \n",
      " 9   B365H           25979 non-null  float64\n",
      " 10  B365D           25979 non-null  float64\n",
      " 11  B365A           25979 non-null  float64\n",
      " 12  BSH             25979 non-null  float64\n",
      " 13  BSD             25979 non-null  float64\n",
      " 14  BSA             25979 non-null  float64\n",
      " 15  diff_goals      25979 non-null  int64  \n",
      " 16  target          25979 non-null  int64  \n",
      " 17  hour            25979 non-null  int32  \n",
      " 18  min             25979 non-null  int32  \n",
      " 19  second          25979 non-null  int32  \n",
      " 20  month           25979 non-null  int32  \n",
      " 21  day_month       25979 non-null  int32  \n",
      " 22  year            25979 non-null  int32  \n",
      "dtypes: float64(6), int32(10), int64(6), object(1)\n",
      "memory usage: 3.6+ MB\n"
     ]
    }
   ],
   "source": [
    "data.info()"
   ]
  },
  {
   "cell_type": "code",
   "execution_count": 119,
   "metadata": {},
   "outputs": [],
   "source": [
    "data['season'] = data['season'].astype(str)\n",
    "data[['start', 'end']] = data['season'].str.split('/', expand=True)\n",
    "data['start_season'] = pd.to_numeric(data['start'])\n",
    "data['end_season'] = pd.to_numeric(data['end'])\n",
    "data.drop(columns=['season'], inplace=True)"
   ]
  },
  {
   "cell_type": "code",
   "execution_count": 120,
   "metadata": {},
   "outputs": [
    {
     "name": "stdout",
     "output_type": "stream",
     "text": [
      "<class 'pandas.core.frame.DataFrame'>\n",
      "RangeIndex: 25979 entries, 0 to 25978\n",
      "Data columns (total 26 columns):\n",
      " #   Column          Non-Null Count  Dtype  \n",
      "---  ------          --------------  -----  \n",
      " 0   id              25979 non-null  int64  \n",
      " 1   country_name    25979 non-null  int32  \n",
      " 2   league_name     25979 non-null  int32  \n",
      " 3   stage           25979 non-null  int64  \n",
      " 4   home_team       25979 non-null  int32  \n",
      " 5   away_team       25979 non-null  int32  \n",
      " 6   home_team_goal  25979 non-null  int64  \n",
      " 7   away_team_goal  25979 non-null  int64  \n",
      " 8   B365H           25979 non-null  float64\n",
      " 9   B365D           25979 non-null  float64\n",
      " 10  B365A           25979 non-null  float64\n",
      " 11  BSH             25979 non-null  float64\n",
      " 12  BSD             25979 non-null  float64\n",
      " 13  BSA             25979 non-null  float64\n",
      " 14  diff_goals      25979 non-null  int64  \n",
      " 15  target          25979 non-null  int64  \n",
      " 16  hour            25979 non-null  int32  \n",
      " 17  min             25979 non-null  int32  \n",
      " 18  second          25979 non-null  int32  \n",
      " 19  month           25979 non-null  int32  \n",
      " 20  day_month       25979 non-null  int32  \n",
      " 21  year            25979 non-null  int32  \n",
      " 22  start           25979 non-null  object \n",
      " 23  end             25979 non-null  object \n",
      " 24  start_season    25979 non-null  int64  \n",
      " 25  end_season      25979 non-null  int64  \n",
      "dtypes: float64(6), int32(10), int64(8), object(2)\n",
      "memory usage: 4.2+ MB\n"
     ]
    }
   ],
   "source": [
    "data.info()"
   ]
  },
  {
   "cell_type": "code",
   "execution_count": 121,
   "metadata": {},
   "outputs": [
    {
     "data": {
      "text/plain": [
       "<Axes: xlabel='target', ylabel='count'>"
      ]
     },
     "execution_count": 121,
     "metadata": {},
     "output_type": "execute_result"
    },
    {
     "data": {
      "image/png": "[encoded data removed]",
      "text/plain": [
       "<Figure size 800x600 with 1 Axes>"
      ]
     },
     "metadata": {},
     "output_type": "display_data"
    }
   ],
   "source": [
    "sns.countplot(x='target',data=data)"
   ]
  },
  {
   "cell_type": "code",
   "execution_count": 122,
   "metadata": {},
   "outputs": [
    {
     "name": "stdout",
     "output_type": "stream",
     "text": [
      "(19383, 26)\n",
      "(6596, 26)\n"
     ]
    }
   ],
   "source": [
    "target_true = data[data[\"target\"] == 1]\n",
    "target_false = data[data[\"target\"] == 0]\n",
    "print(target_true.shape)\n",
    "print(target_false.shape)"
   ]
  },
  {
   "cell_type": "code",
   "execution_count": 123,
   "metadata": {},
   "outputs": [
    {
     "data": {
      "text/html": [
       "<div>\n",
       "<style scoped>\n",
       "    .dataframe tbody tr th:only-of-type {\n",
       "        vertical-align: middle;\n",
       "    }\n",
       "\n",
       "    .dataframe tbody tr th {\n",
       "        vertical-align: top;\n",
       "    }\n",
       "\n",
       "    .dataframe thead th {\n",
       "        text-align: right;\n",
       "    }\n",
       "</style>\n",
       "<table border=\"1\" class=\"dataframe\">\n",
       "  <thead>\n",
       "    <tr style=\"text-align: right;\">\n",
       "      <th></th>\n",
       "      <th>id</th>\n",
       "      <th>country_name</th>\n",
       "      <th>league_name</th>\n",
       "      <th>stage</th>\n",
       "      <th>home_team</th>\n",
       "      <th>away_team</th>\n",
       "      <th>home_team_goal</th>\n",
       "      <th>away_team_goal</th>\n",
       "      <th>B365H</th>\n",
       "      <th>B365D</th>\n",
       "      <th>...</th>\n",
       "      <th>hour</th>\n",
       "      <th>min</th>\n",
       "      <th>second</th>\n",
       "      <th>month</th>\n",
       "      <th>day_month</th>\n",
       "      <th>year</th>\n",
       "      <th>start</th>\n",
       "      <th>end</th>\n",
       "      <th>start_season</th>\n",
       "      <th>end_season</th>\n",
       "    </tr>\n",
       "  </thead>\n",
       "  <tbody>\n",
       "    <tr>\n",
       "      <th>0</th>\n",
       "      <td>24559</td>\n",
       "      <td>10</td>\n",
       "      <td>10</td>\n",
       "      <td>1</td>\n",
       "      <td>24</td>\n",
       "      <td>76</td>\n",
       "      <td>1</td>\n",
       "      <td>2</td>\n",
       "      <td>6.375</td>\n",
       "      <td>6.3</td>\n",
       "      <td>...</td>\n",
       "      <td>0</td>\n",
       "      <td>0</td>\n",
       "      <td>0</td>\n",
       "      <td>7</td>\n",
       "      <td>18</td>\n",
       "      <td>2008</td>\n",
       "      <td>2008</td>\n",
       "      <td>2009</td>\n",
       "      <td>2008</td>\n",
       "      <td>2009</td>\n",
       "    </tr>\n",
       "    <tr>\n",
       "      <th>1</th>\n",
       "      <td>24560</td>\n",
       "      <td>10</td>\n",
       "      <td>10</td>\n",
       "      <td>1</td>\n",
       "      <td>72</td>\n",
       "      <td>91</td>\n",
       "      <td>3</td>\n",
       "      <td>1</td>\n",
       "      <td>6.375</td>\n",
       "      <td>6.3</td>\n",
       "      <td>...</td>\n",
       "      <td>0</td>\n",
       "      <td>0</td>\n",
       "      <td>0</td>\n",
       "      <td>7</td>\n",
       "      <td>19</td>\n",
       "      <td>2008</td>\n",
       "      <td>2008</td>\n",
       "      <td>2009</td>\n",
       "      <td>2008</td>\n",
       "      <td>2009</td>\n",
       "    </tr>\n",
       "    <tr>\n",
       "      <th>2</th>\n",
       "      <td>24561</td>\n",
       "      <td>10</td>\n",
       "      <td>10</td>\n",
       "      <td>1</td>\n",
       "      <td>84</td>\n",
       "      <td>98</td>\n",
       "      <td>1</td>\n",
       "      <td>2</td>\n",
       "      <td>6.375</td>\n",
       "      <td>6.3</td>\n",
       "      <td>...</td>\n",
       "      <td>0</td>\n",
       "      <td>0</td>\n",
       "      <td>0</td>\n",
       "      <td>7</td>\n",
       "      <td>20</td>\n",
       "      <td>2008</td>\n",
       "      <td>2008</td>\n",
       "      <td>2009</td>\n",
       "      <td>2008</td>\n",
       "      <td>2009</td>\n",
       "    </tr>\n",
       "    <tr>\n",
       "      <th>3</th>\n",
       "      <td>24562</td>\n",
       "      <td>10</td>\n",
       "      <td>10</td>\n",
       "      <td>1</td>\n",
       "      <td>173</td>\n",
       "      <td>100</td>\n",
       "      <td>1</td>\n",
       "      <td>2</td>\n",
       "      <td>6.375</td>\n",
       "      <td>6.3</td>\n",
       "      <td>...</td>\n",
       "      <td>0</td>\n",
       "      <td>0</td>\n",
       "      <td>0</td>\n",
       "      <td>7</td>\n",
       "      <td>20</td>\n",
       "      <td>2008</td>\n",
       "      <td>2008</td>\n",
       "      <td>2009</td>\n",
       "      <td>2008</td>\n",
       "      <td>2009</td>\n",
       "    </tr>\n",
       "    <tr>\n",
       "      <th>4</th>\n",
       "      <td>24613</td>\n",
       "      <td>10</td>\n",
       "      <td>10</td>\n",
       "      <td>2</td>\n",
       "      <td>76</td>\n",
       "      <td>117</td>\n",
       "      <td>1</td>\n",
       "      <td>0</td>\n",
       "      <td>6.375</td>\n",
       "      <td>6.3</td>\n",
       "      <td>...</td>\n",
       "      <td>0</td>\n",
       "      <td>0</td>\n",
       "      <td>0</td>\n",
       "      <td>7</td>\n",
       "      <td>23</td>\n",
       "      <td>2008</td>\n",
       "      <td>2008</td>\n",
       "      <td>2009</td>\n",
       "      <td>2008</td>\n",
       "      <td>2009</td>\n",
       "    </tr>\n",
       "    <tr>\n",
       "      <th>...</th>\n",
       "      <td>...</td>\n",
       "      <td>...</td>\n",
       "      <td>...</td>\n",
       "      <td>...</td>\n",
       "      <td>...</td>\n",
       "      <td>...</td>\n",
       "      <td>...</td>\n",
       "      <td>...</td>\n",
       "      <td>...</td>\n",
       "      <td>...</td>\n",
       "      <td>...</td>\n",
       "      <td>...</td>\n",
       "      <td>...</td>\n",
       "      <td>...</td>\n",
       "      <td>...</td>\n",
       "      <td>...</td>\n",
       "      <td>...</td>\n",
       "      <td>...</td>\n",
       "      <td>...</td>\n",
       "      <td>...</td>\n",
       "      <td>...</td>\n",
       "    </tr>\n",
       "    <tr>\n",
       "      <th>25973</th>\n",
       "      <td>25944</td>\n",
       "      <td>10</td>\n",
       "      <td>10</td>\n",
       "      <td>35</td>\n",
       "      <td>93</td>\n",
       "      <td>84</td>\n",
       "      <td>1</td>\n",
       "      <td>4</td>\n",
       "      <td>6.375</td>\n",
       "      <td>6.3</td>\n",
       "      <td>...</td>\n",
       "      <td>0</td>\n",
       "      <td>0</td>\n",
       "      <td>0</td>\n",
       "      <td>5</td>\n",
       "      <td>22</td>\n",
       "      <td>2016</td>\n",
       "      <td>2015</td>\n",
       "      <td>2016</td>\n",
       "      <td>2015</td>\n",
       "      <td>2016</td>\n",
       "    </tr>\n",
       "    <tr>\n",
       "      <th>25974</th>\n",
       "      <td>25945</td>\n",
       "      <td>10</td>\n",
       "      <td>10</td>\n",
       "      <td>36</td>\n",
       "      <td>76</td>\n",
       "      <td>117</td>\n",
       "      <td>0</td>\n",
       "      <td>1</td>\n",
       "      <td>6.375</td>\n",
       "      <td>6.3</td>\n",
       "      <td>...</td>\n",
       "      <td>0</td>\n",
       "      <td>0</td>\n",
       "      <td>0</td>\n",
       "      <td>5</td>\n",
       "      <td>25</td>\n",
       "      <td>2016</td>\n",
       "      <td>2015</td>\n",
       "      <td>2016</td>\n",
       "      <td>2015</td>\n",
       "      <td>2016</td>\n",
       "    </tr>\n",
       "    <tr>\n",
       "      <th>25975</th>\n",
       "      <td>25946</td>\n",
       "      <td>10</td>\n",
       "      <td>10</td>\n",
       "      <td>36</td>\n",
       "      <td>160</td>\n",
       "      <td>93</td>\n",
       "      <td>3</td>\n",
       "      <td>0</td>\n",
       "      <td>6.375</td>\n",
       "      <td>6.3</td>\n",
       "      <td>...</td>\n",
       "      <td>0</td>\n",
       "      <td>0</td>\n",
       "      <td>0</td>\n",
       "      <td>5</td>\n",
       "      <td>25</td>\n",
       "      <td>2016</td>\n",
       "      <td>2015</td>\n",
       "      <td>2016</td>\n",
       "      <td>2015</td>\n",
       "      <td>2016</td>\n",
       "    </tr>\n",
       "    <tr>\n",
       "      <th>25977</th>\n",
       "      <td>25948</td>\n",
       "      <td>10</td>\n",
       "      <td>10</td>\n",
       "      <td>36</td>\n",
       "      <td>95</td>\n",
       "      <td>24</td>\n",
       "      <td>0</td>\n",
       "      <td>3</td>\n",
       "      <td>6.375</td>\n",
       "      <td>6.3</td>\n",
       "      <td>...</td>\n",
       "      <td>0</td>\n",
       "      <td>0</td>\n",
       "      <td>0</td>\n",
       "      <td>5</td>\n",
       "      <td>25</td>\n",
       "      <td>2016</td>\n",
       "      <td>2015</td>\n",
       "      <td>2016</td>\n",
       "      <td>2015</td>\n",
       "      <td>2016</td>\n",
       "    </tr>\n",
       "    <tr>\n",
       "      <th>25978</th>\n",
       "      <td>25949</td>\n",
       "      <td>10</td>\n",
       "      <td>10</td>\n",
       "      <td>36</td>\n",
       "      <td>100</td>\n",
       "      <td>98</td>\n",
       "      <td>3</td>\n",
       "      <td>1</td>\n",
       "      <td>6.375</td>\n",
       "      <td>6.3</td>\n",
       "      <td>...</td>\n",
       "      <td>0</td>\n",
       "      <td>0</td>\n",
       "      <td>0</td>\n",
       "      <td>5</td>\n",
       "      <td>25</td>\n",
       "      <td>2016</td>\n",
       "      <td>2015</td>\n",
       "      <td>2016</td>\n",
       "      <td>2015</td>\n",
       "      <td>2016</td>\n",
       "    </tr>\n",
       "  </tbody>\n",
       "</table>\n",
       "<p>19383 rows × 26 columns</p>\n",
       "</div>"
      ],
      "text/plain": [
       "          id  country_name  league_name  stage  home_team  away_team  \\\n",
       "0      24559            10           10      1         24         76   \n",
       "1      24560            10           10      1         72         91   \n",
       "2      24561            10           10      1         84         98   \n",
       "3      24562            10           10      1        173        100   \n",
       "4      24613            10           10      2         76        117   \n",
       "...      ...           ...          ...    ...        ...        ...   \n",
       "25973  25944            10           10     35         93         84   \n",
       "25974  25945            10           10     36         76        117   \n",
       "25975  25946            10           10     36        160         93   \n",
       "25977  25948            10           10     36         95         24   \n",
       "25978  25949            10           10     36        100         98   \n",
       "\n",
       "       home_team_goal  away_team_goal  B365H  B365D  ...  hour  min  second  \\\n",
       "0                   1               2  6.375    6.3  ...     0    0       0   \n",
       "1                   3               1  6.375    6.3  ...     0    0       0   \n",
       "2                   1               2  6.375    6.3  ...     0    0       0   \n",
       "3                   1               2  6.375    6.3  ...     0    0       0   \n",
       "4                   1               0  6.375    6.3  ...     0    0       0   \n",
       "...               ...             ...    ...    ...  ...   ...  ...     ...   \n",
       "25973               1               4  6.375    6.3  ...     0    0       0   \n",
       "25974               0               1  6.375    6.3  ...     0    0       0   \n",
       "25975               3               0  6.375    6.3  ...     0    0       0   \n",
       "25977               0               3  6.375    6.3  ...     0    0       0   \n",
       "25978               3               1  6.375    6.3  ...     0    0       0   \n",
       "\n",
       "       month  day_month  year  start   end  start_season  end_season  \n",
       "0          7         18  2008   2008  2009          2008        2009  \n",
       "1          7         19  2008   2008  2009          2008        2009  \n",
       "2          7         20  2008   2008  2009          2008        2009  \n",
       "3          7         20  2008   2008  2009          2008        2009  \n",
       "4          7         23  2008   2008  2009          2008        2009  \n",
       "...      ...        ...   ...    ...   ...           ...         ...  \n",
       "25973      5         22  2016   2015  2016          2015        2016  \n",
       "25974      5         25  2016   2015  2016          2015        2016  \n",
       "25975      5         25  2016   2015  2016          2015        2016  \n",
       "25977      5         25  2016   2015  2016          2015        2016  \n",
       "25978      5         25  2016   2015  2016          2015        2016  \n",
       "\n",
       "[19383 rows x 26 columns]"
      ]
     },
     "execution_count": 123,
     "metadata": {},
     "output_type": "execute_result"
    }
   ],
   "source": [
    "target_true"
   ]
  },
  {
   "cell_type": "code",
   "execution_count": 124,
   "metadata": {},
   "outputs": [],
   "source": [
    "from sklearn.utils import resample\n",
    "target_falseds = resample(target_false,\n",
    "             replace=True, \n",
    "             n_samples=len(target_true), \n",
    "             random_state=27)"
   ]
  },
  {
   "cell_type": "code",
   "execution_count": 125,
   "metadata": {},
   "outputs": [
    {
     "data": {
      "text/plain": [
       "(19383, 26)"
      ]
     },
     "execution_count": 125,
     "metadata": {},
     "output_type": "execute_result"
    }
   ],
   "source": [
    "target_falseds.shape"
   ]
  },
  {
   "cell_type": "code",
   "execution_count": 126,
   "metadata": {},
   "outputs": [],
   "source": [
    "target_downsampled = pd.concat([target_true, target_falseds])"
   ]
  },
  {
   "cell_type": "code",
   "execution_count": 127,
   "metadata": {},
   "outputs": [
    {
     "data": {
      "text/plain": [
       "<Axes: xlabel='target', ylabel='count'>"
      ]
     },
     "execution_count": 127,
     "metadata": {},
     "output_type": "execute_result"
    },
    {
     "data": {
      "image/png": "[encoded data removed]",
      "text/plain": [
       "<Figure size 800x600 with 1 Axes>"
      ]
     },
     "metadata": {},
     "output_type": "display_data"
    }
   ],
   "source": [
    "sns.countplot(x='target', data=target_downsampled)"
   ]
  },
  {
   "cell_type": "code",
   "execution_count": 132,
   "metadata": {},
   "outputs": [
    {
     "data": {
      "text/html": [
       "<div>\n",
       "<style scoped>\n",
       "    .dataframe tbody tr th:only-of-type {\n",
       "        vertical-align: middle;\n",
       "    }\n",
       "\n",
       "    .dataframe tbody tr th {\n",
       "        vertical-align: top;\n",
       "    }\n",
       "\n",
       "    .dataframe thead th {\n",
       "        text-align: right;\n",
       "    }\n",
       "</style>\n",
       "<table border=\"1\" class=\"dataframe\">\n",
       "  <thead>\n",
       "    <tr style=\"text-align: right;\">\n",
       "      <th></th>\n",
       "      <th>id</th>\n",
       "      <th>country_name</th>\n",
       "      <th>league_name</th>\n",
       "      <th>stage</th>\n",
       "      <th>home_team</th>\n",
       "      <th>away_team</th>\n",
       "      <th>home_team_goal</th>\n",
       "      <th>away_team_goal</th>\n",
       "      <th>B365H</th>\n",
       "      <th>B365D</th>\n",
       "      <th>...</th>\n",
       "      <th>hour</th>\n",
       "      <th>min</th>\n",
       "      <th>second</th>\n",
       "      <th>month</th>\n",
       "      <th>day_month</th>\n",
       "      <th>year</th>\n",
       "      <th>start</th>\n",
       "      <th>end</th>\n",
       "      <th>start_season</th>\n",
       "      <th>end_season</th>\n",
       "    </tr>\n",
       "  </thead>\n",
       "  <tbody>\n",
       "    <tr>\n",
       "      <th>0</th>\n",
       "      <td>24559</td>\n",
       "      <td>10</td>\n",
       "      <td>10</td>\n",
       "      <td>1</td>\n",
       "      <td>24</td>\n",
       "      <td>76</td>\n",
       "      <td>1</td>\n",
       "      <td>2</td>\n",
       "      <td>6.375</td>\n",
       "      <td>6.3</td>\n",
       "      <td>...</td>\n",
       "      <td>0</td>\n",
       "      <td>0</td>\n",
       "      <td>0</td>\n",
       "      <td>7</td>\n",
       "      <td>18</td>\n",
       "      <td>2008</td>\n",
       "      <td>2008</td>\n",
       "      <td>2009</td>\n",
       "      <td>2008</td>\n",
       "      <td>2009</td>\n",
       "    </tr>\n",
       "    <tr>\n",
       "      <th>1</th>\n",
       "      <td>24560</td>\n",
       "      <td>10</td>\n",
       "      <td>10</td>\n",
       "      <td>1</td>\n",
       "      <td>72</td>\n",
       "      <td>91</td>\n",
       "      <td>3</td>\n",
       "      <td>1</td>\n",
       "      <td>6.375</td>\n",
       "      <td>6.3</td>\n",
       "      <td>...</td>\n",
       "      <td>0</td>\n",
       "      <td>0</td>\n",
       "      <td>0</td>\n",
       "      <td>7</td>\n",
       "      <td>19</td>\n",
       "      <td>2008</td>\n",
       "      <td>2008</td>\n",
       "      <td>2009</td>\n",
       "      <td>2008</td>\n",
       "      <td>2009</td>\n",
       "    </tr>\n",
       "    <tr>\n",
       "      <th>2</th>\n",
       "      <td>24561</td>\n",
       "      <td>10</td>\n",
       "      <td>10</td>\n",
       "      <td>1</td>\n",
       "      <td>84</td>\n",
       "      <td>98</td>\n",
       "      <td>1</td>\n",
       "      <td>2</td>\n",
       "      <td>6.375</td>\n",
       "      <td>6.3</td>\n",
       "      <td>...</td>\n",
       "      <td>0</td>\n",
       "      <td>0</td>\n",
       "      <td>0</td>\n",
       "      <td>7</td>\n",
       "      <td>20</td>\n",
       "      <td>2008</td>\n",
       "      <td>2008</td>\n",
       "      <td>2009</td>\n",
       "      <td>2008</td>\n",
       "      <td>2009</td>\n",
       "    </tr>\n",
       "    <tr>\n",
       "      <th>3</th>\n",
       "      <td>24562</td>\n",
       "      <td>10</td>\n",
       "      <td>10</td>\n",
       "      <td>1</td>\n",
       "      <td>173</td>\n",
       "      <td>100</td>\n",
       "      <td>1</td>\n",
       "      <td>2</td>\n",
       "      <td>6.375</td>\n",
       "      <td>6.3</td>\n",
       "      <td>...</td>\n",
       "      <td>0</td>\n",
       "      <td>0</td>\n",
       "      <td>0</td>\n",
       "      <td>7</td>\n",
       "      <td>20</td>\n",
       "      <td>2008</td>\n",
       "      <td>2008</td>\n",
       "      <td>2009</td>\n",
       "      <td>2008</td>\n",
       "      <td>2009</td>\n",
       "    </tr>\n",
       "    <tr>\n",
       "      <th>4</th>\n",
       "      <td>24613</td>\n",
       "      <td>10</td>\n",
       "      <td>10</td>\n",
       "      <td>2</td>\n",
       "      <td>76</td>\n",
       "      <td>117</td>\n",
       "      <td>1</td>\n",
       "      <td>0</td>\n",
       "      <td>6.375</td>\n",
       "      <td>6.3</td>\n",
       "      <td>...</td>\n",
       "      <td>0</td>\n",
       "      <td>0</td>\n",
       "      <td>0</td>\n",
       "      <td>7</td>\n",
       "      <td>23</td>\n",
       "      <td>2008</td>\n",
       "      <td>2008</td>\n",
       "      <td>2009</td>\n",
       "      <td>2008</td>\n",
       "      <td>2009</td>\n",
       "    </tr>\n",
       "    <tr>\n",
       "      <th>...</th>\n",
       "      <td>...</td>\n",
       "      <td>...</td>\n",
       "      <td>...</td>\n",
       "      <td>...</td>\n",
       "      <td>...</td>\n",
       "      <td>...</td>\n",
       "      <td>...</td>\n",
       "      <td>...</td>\n",
       "      <td>...</td>\n",
       "      <td>...</td>\n",
       "      <td>...</td>\n",
       "      <td>...</td>\n",
       "      <td>...</td>\n",
       "      <td>...</td>\n",
       "      <td>...</td>\n",
       "      <td>...</td>\n",
       "      <td>...</td>\n",
       "      <td>...</td>\n",
       "      <td>...</td>\n",
       "      <td>...</td>\n",
       "      <td>...</td>\n",
       "    </tr>\n",
       "    <tr>\n",
       "      <th>25974</th>\n",
       "      <td>25945</td>\n",
       "      <td>10</td>\n",
       "      <td>10</td>\n",
       "      <td>36</td>\n",
       "      <td>76</td>\n",
       "      <td>117</td>\n",
       "      <td>0</td>\n",
       "      <td>1</td>\n",
       "      <td>6.375</td>\n",
       "      <td>6.3</td>\n",
       "      <td>...</td>\n",
       "      <td>0</td>\n",
       "      <td>0</td>\n",
       "      <td>0</td>\n",
       "      <td>5</td>\n",
       "      <td>25</td>\n",
       "      <td>2016</td>\n",
       "      <td>2015</td>\n",
       "      <td>2016</td>\n",
       "      <td>2015</td>\n",
       "      <td>2016</td>\n",
       "    </tr>\n",
       "    <tr>\n",
       "      <th>25975</th>\n",
       "      <td>25946</td>\n",
       "      <td>10</td>\n",
       "      <td>10</td>\n",
       "      <td>36</td>\n",
       "      <td>160</td>\n",
       "      <td>93</td>\n",
       "      <td>3</td>\n",
       "      <td>0</td>\n",
       "      <td>6.375</td>\n",
       "      <td>6.3</td>\n",
       "      <td>...</td>\n",
       "      <td>0</td>\n",
       "      <td>0</td>\n",
       "      <td>0</td>\n",
       "      <td>5</td>\n",
       "      <td>25</td>\n",
       "      <td>2016</td>\n",
       "      <td>2015</td>\n",
       "      <td>2016</td>\n",
       "      <td>2015</td>\n",
       "      <td>2016</td>\n",
       "    </tr>\n",
       "    <tr>\n",
       "      <th>25976</th>\n",
       "      <td>25947</td>\n",
       "      <td>10</td>\n",
       "      <td>10</td>\n",
       "      <td>36</td>\n",
       "      <td>84</td>\n",
       "      <td>91</td>\n",
       "      <td>2</td>\n",
       "      <td>2</td>\n",
       "      <td>6.375</td>\n",
       "      <td>6.3</td>\n",
       "      <td>...</td>\n",
       "      <td>0</td>\n",
       "      <td>0</td>\n",
       "      <td>0</td>\n",
       "      <td>5</td>\n",
       "      <td>25</td>\n",
       "      <td>2016</td>\n",
       "      <td>2015</td>\n",
       "      <td>2016</td>\n",
       "      <td>2015</td>\n",
       "      <td>2016</td>\n",
       "    </tr>\n",
       "    <tr>\n",
       "      <th>25977</th>\n",
       "      <td>25948</td>\n",
       "      <td>10</td>\n",
       "      <td>10</td>\n",
       "      <td>36</td>\n",
       "      <td>95</td>\n",
       "      <td>24</td>\n",
       "      <td>0</td>\n",
       "      <td>3</td>\n",
       "      <td>6.375</td>\n",
       "      <td>6.3</td>\n",
       "      <td>...</td>\n",
       "      <td>0</td>\n",
       "      <td>0</td>\n",
       "      <td>0</td>\n",
       "      <td>5</td>\n",
       "      <td>25</td>\n",
       "      <td>2016</td>\n",
       "      <td>2015</td>\n",
       "      <td>2016</td>\n",
       "      <td>2015</td>\n",
       "      <td>2016</td>\n",
       "    </tr>\n",
       "    <tr>\n",
       "      <th>25978</th>\n",
       "      <td>25949</td>\n",
       "      <td>10</td>\n",
       "      <td>10</td>\n",
       "      <td>36</td>\n",
       "      <td>100</td>\n",
       "      <td>98</td>\n",
       "      <td>3</td>\n",
       "      <td>1</td>\n",
       "      <td>6.375</td>\n",
       "      <td>6.3</td>\n",
       "      <td>...</td>\n",
       "      <td>0</td>\n",
       "      <td>0</td>\n",
       "      <td>0</td>\n",
       "      <td>5</td>\n",
       "      <td>25</td>\n",
       "      <td>2016</td>\n",
       "      <td>2015</td>\n",
       "      <td>2016</td>\n",
       "      <td>2015</td>\n",
       "      <td>2016</td>\n",
       "    </tr>\n",
       "  </tbody>\n",
       "</table>\n",
       "<p>25979 rows × 25 columns</p>\n",
       "</div>"
      ],
      "text/plain": [
       "          id  country_name  league_name  stage  home_team  away_team  \\\n",
       "0      24559            10           10      1         24         76   \n",
       "1      24560            10           10      1         72         91   \n",
       "2      24561            10           10      1         84         98   \n",
       "3      24562            10           10      1        173        100   \n",
       "4      24613            10           10      2         76        117   \n",
       "...      ...           ...          ...    ...        ...        ...   \n",
       "25974  25945            10           10     36         76        117   \n",
       "25975  25946            10           10     36        160         93   \n",
       "25976  25947            10           10     36         84         91   \n",
       "25977  25948            10           10     36         95         24   \n",
       "25978  25949            10           10     36        100         98   \n",
       "\n",
       "       home_team_goal  away_team_goal  B365H  B365D  ...  hour  min  second  \\\n",
       "0                   1               2  6.375    6.3  ...     0    0       0   \n",
       "1                   3               1  6.375    6.3  ...     0    0       0   \n",
       "2                   1               2  6.375    6.3  ...     0    0       0   \n",
       "3                   1               2  6.375    6.3  ...     0    0       0   \n",
       "4                   1               0  6.375    6.3  ...     0    0       0   \n",
       "...               ...             ...    ...    ...  ...   ...  ...     ...   \n",
       "25974               0               1  6.375    6.3  ...     0    0       0   \n",
       "25975               3               0  6.375    6.3  ...     0    0       0   \n",
       "25976               2               2  6.375    6.3  ...     0    0       0   \n",
       "25977               0               3  6.375    6.3  ...     0    0       0   \n",
       "25978               3               1  6.375    6.3  ...     0    0       0   \n",
       "\n",
       "       month  day_month  year  start   end  start_season  end_season  \n",
       "0          7         18  2008   2008  2009          2008        2009  \n",
       "1          7         19  2008   2008  2009          2008        2009  \n",
       "2          7         20  2008   2008  2009          2008        2009  \n",
       "3          7         20  2008   2008  2009          2008        2009  \n",
       "4          7         23  2008   2008  2009          2008        2009  \n",
       "...      ...        ...   ...    ...   ...           ...         ...  \n",
       "25974      5         25  2016   2015  2016          2015        2016  \n",
       "25975      5         25  2016   2015  2016          2015        2016  \n",
       "25976      5         25  2016   2015  2016          2015        2016  \n",
       "25977      5         25  2016   2015  2016          2015        2016  \n",
       "25978      5         25  2016   2015  2016          2015        2016  \n",
       "\n",
       "[25979 rows x 25 columns]"
      ]
     },
     "execution_count": 132,
     "metadata": {},
     "output_type": "execute_result"
    }
   ],
   "source": [
    "X = data.drop('target', axis=1)\n",
    "y = data['target']\n",
    "\n",
    "X_train, X_test, y_train, y_test = train_test_split(X, y, test_size=0.2, random_state=42)\n",
    "X"
   ]
  },
  {
   "cell_type": "code",
   "execution_count": 129,
   "metadata": {},
   "outputs": [],
   "source": [
    "from sklearn.preprocessing import StandardScaler\n",
    "scaler = StandardScaler()\n",
    "X_train_scaled = scaler.fit_transform(X_train)\n",
    "X_test_scaled = scaler.transform(X_test)"
   ]
  },
  {
   "cell_type": "code",
   "execution_count": 130,
   "metadata": {},
   "outputs": [
    {
     "name": "stdout",
     "output_type": "stream",
     "text": [
      "(20783, 25)\n",
      "(5196, 25)\n",
      "(20783,)\n",
      "(5196,)\n"
     ]
    }
   ],
   "source": [
    "print(X_train.shape)\n",
    "print(X_test.shape)\n",
    "print(y_train.shape)\n",
    "print(y_test.shape)"
   ]
  },
  {
   "cell_type": "code",
   "execution_count": 136,
   "metadata": {},
   "outputs": [
    {
     "name": "stdout",
     "output_type": "stream",
     "text": [
      "Accuracy: 0.76\n"
     ]
    }
   ],
   "source": [
    "# Create a logistic regression model\n",
    "model = LogisticRegression(max_iter=1000)\n",
    "\n",
    "# Train the model\n",
    "model.fit(X_train_scaled, y_train)\n",
    "\n",
    "# Make predictions\n",
    "y_pred = model.predict(X_test_scaled)\n",
    "\n",
    "accuracy = accuracy_score(y_test, y_pred)\n",
    "\n",
    "print(f'Accuracy: {accuracy:.2f}')"
   ]
  }
 ],
 "metadata": {
  "kernelspec": {
   "display_name": "Python 3",
   "language": "python",
   "name": "python3"
  },
  "language_info": {
   "codemirror_mode": {
    "name": "ipython",
    "version": 3
   },
   "file_extension": ".py",
   "mimetype": "text/x-python",
   "name": "python",
   "nbconvert_exporter": "python",
   "pygments_lexer": "ipython3",
   "version": "3.12.0"
  }
 },
 "nbformat": 4,
 "nbformat_minor": 2
}
