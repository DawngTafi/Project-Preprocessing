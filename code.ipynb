{
 "cells": [
  {
   "cell_type": "code",
   "execution_count": 81,
   "metadata": {},
   "outputs": [],
   "source": [
    "import pandas as pd \n",
    "import numpy as np \n",
    "import matplotlib.pyplot as plt \n",
    "import seaborn as sns\n",
    "from sklearn.model_selection import train_test_split\n",
    "from sklearn.linear_model import LogisticRegression\n",
    "from sklearn.metrics import accuracy_score, classification_report\n"
   ]
  },
  {
   "cell_type": "code",
   "execution_count": 82,
   "metadata": {},
   "outputs": [
    {
     "data": {
      "text/html": [
       "<div>\n",
       "<style scoped>\n",
       "    .dataframe tbody tr th:only-of-type {\n",
       "        vertical-align: middle;\n",
       "    }\n",
       "\n",
       "    .dataframe tbody tr th {\n",
       "        vertical-align: top;\n",
       "    }\n",
       "\n",
       "    .dataframe thead th {\n",
       "        text-align: right;\n",
       "    }\n",
       "</style>\n",
       "<table border=\"1\" class=\"dataframe\">\n",
       "  <thead>\n",
       "    <tr style=\"text-align: right;\">\n",
       "      <th></th>\n",
       "      <th>country_name</th>\n",
       "      <th>league_name</th>\n",
       "      <th>season</th>\n",
       "      <th>stage</th>\n",
       "      <th>date</th>\n",
       "      <th>home_team</th>\n",
       "      <th>away_team</th>\n",
       "      <th>home_team_goal</th>\n",
       "      <th>away_team_goal</th>\n",
       "      <th>B365H</th>\n",
       "      <th>B365D</th>\n",
       "      <th>B365A</th>\n",
       "      <th>BSH</th>\n",
       "      <th>BSD</th>\n",
       "      <th>BSA</th>\n",
       "      <th>diff_goals</th>\n",
       "      <th>target</th>\n",
       "    </tr>\n",
       "  </thead>\n",
       "  <tbody>\n",
       "    <tr>\n",
       "      <th>0</th>\n",
       "      <td>Switzerland</td>\n",
       "      <td>Switzerland Super League</td>\n",
       "      <td>2008/2009</td>\n",
       "      <td>1</td>\n",
       "      <td>2008-07-18 00:00:00</td>\n",
       "      <td>BSC Young Boys</td>\n",
       "      <td>FC Basel</td>\n",
       "      <td>1</td>\n",
       "      <td>2</td>\n",
       "      <td>NaN</td>\n",
       "      <td>NaN</td>\n",
       "      <td>NaN</td>\n",
       "      <td>NaN</td>\n",
       "      <td>NaN</td>\n",
       "      <td>NaN</td>\n",
       "      <td>-1</td>\n",
       "      <td>1</td>\n",
       "    </tr>\n",
       "    <tr>\n",
       "      <th>1</th>\n",
       "      <td>Switzerland</td>\n",
       "      <td>Switzerland Super League</td>\n",
       "      <td>2008/2009</td>\n",
       "      <td>1</td>\n",
       "      <td>2008-07-19 00:00:00</td>\n",
       "      <td>FC Aarau</td>\n",
       "      <td>FC Sion</td>\n",
       "      <td>3</td>\n",
       "      <td>1</td>\n",
       "      <td>NaN</td>\n",
       "      <td>NaN</td>\n",
       "      <td>NaN</td>\n",
       "      <td>NaN</td>\n",
       "      <td>NaN</td>\n",
       "      <td>NaN</td>\n",
       "      <td>2</td>\n",
       "      <td>1</td>\n",
       "    </tr>\n",
       "    <tr>\n",
       "      <th>2</th>\n",
       "      <td>Switzerland</td>\n",
       "      <td>Switzerland Super League</td>\n",
       "      <td>2008/2009</td>\n",
       "      <td>1</td>\n",
       "      <td>2008-07-20 00:00:00</td>\n",
       "      <td>FC Luzern</td>\n",
       "      <td>FC Vaduz</td>\n",
       "      <td>1</td>\n",
       "      <td>2</td>\n",
       "      <td>NaN</td>\n",
       "      <td>NaN</td>\n",
       "      <td>NaN</td>\n",
       "      <td>NaN</td>\n",
       "      <td>NaN</td>\n",
       "      <td>NaN</td>\n",
       "      <td>-1</td>\n",
       "      <td>1</td>\n",
       "    </tr>\n",
       "    <tr>\n",
       "      <th>3</th>\n",
       "      <td>Switzerland</td>\n",
       "      <td>Switzerland Super League</td>\n",
       "      <td>2008/2009</td>\n",
       "      <td>1</td>\n",
       "      <td>2008-07-20 00:00:00</td>\n",
       "      <td>Neuchâtel Xamax</td>\n",
       "      <td>FC Zürich</td>\n",
       "      <td>1</td>\n",
       "      <td>2</td>\n",
       "      <td>NaN</td>\n",
       "      <td>NaN</td>\n",
       "      <td>NaN</td>\n",
       "      <td>NaN</td>\n",
       "      <td>NaN</td>\n",
       "      <td>NaN</td>\n",
       "      <td>-1</td>\n",
       "      <td>1</td>\n",
       "    </tr>\n",
       "    <tr>\n",
       "      <th>4</th>\n",
       "      <td>Switzerland</td>\n",
       "      <td>Switzerland Super League</td>\n",
       "      <td>2008/2009</td>\n",
       "      <td>2</td>\n",
       "      <td>2008-07-23 00:00:00</td>\n",
       "      <td>FC Basel</td>\n",
       "      <td>Grasshopper Club Zürich</td>\n",
       "      <td>1</td>\n",
       "      <td>0</td>\n",
       "      <td>NaN</td>\n",
       "      <td>NaN</td>\n",
       "      <td>NaN</td>\n",
       "      <td>NaN</td>\n",
       "      <td>NaN</td>\n",
       "      <td>NaN</td>\n",
       "      <td>1</td>\n",
       "      <td>1</td>\n",
       "    </tr>\n",
       "  </tbody>\n",
       "</table>\n",
       "</div>"
      ],
      "text/plain": [
       "  country_name               league_name     season  stage  \\\n",
       "0  Switzerland  Switzerland Super League  2008/2009      1   \n",
       "1  Switzerland  Switzerland Super League  2008/2009      1   \n",
       "2  Switzerland  Switzerland Super League  2008/2009      1   \n",
       "3  Switzerland  Switzerland Super League  2008/2009      1   \n",
       "4  Switzerland  Switzerland Super League  2008/2009      2   \n",
       "\n",
       "                  date        home_team                away_team  \\\n",
       "0  2008-07-18 00:00:00   BSC Young Boys                 FC Basel   \n",
       "1  2008-07-19 00:00:00         FC Aarau                  FC Sion   \n",
       "2  2008-07-20 00:00:00        FC Luzern                 FC Vaduz   \n",
       "3  2008-07-20 00:00:00  Neuchâtel Xamax                FC Zürich   \n",
       "4  2008-07-23 00:00:00         FC Basel  Grasshopper Club Zürich   \n",
       "\n",
       "   home_team_goal  away_team_goal  B365H  B365D  B365A  BSH  BSD  BSA  \\\n",
       "0               1               2    NaN    NaN    NaN  NaN  NaN  NaN   \n",
       "1               3               1    NaN    NaN    NaN  NaN  NaN  NaN   \n",
       "2               1               2    NaN    NaN    NaN  NaN  NaN  NaN   \n",
       "3               1               2    NaN    NaN    NaN  NaN  NaN  NaN   \n",
       "4               1               0    NaN    NaN    NaN  NaN  NaN  NaN   \n",
       "\n",
       "   diff_goals  target  \n",
       "0          -1       1  \n",
       "1           2       1  \n",
       "2          -1       1  \n",
       "3          -1       1  \n",
       "4           1       1  "
      ]
     },
     "execution_count": 82,
     "metadata": {},
     "output_type": "execute_result"
    }
   ],
   "source": [
    "data = pd.read_csv(\"datasets.csv\")\n",
    "data.drop(columns=\"id\", inplace=True)\n",
    "data.head()"
   ]
  },
  {
   "cell_type": "code",
   "execution_count": 83,
   "metadata": {},
   "outputs": [
    {
     "data": {
      "text/plain": [
       "country_name       object\n",
       "league_name        object\n",
       "season             object\n",
       "stage               int64\n",
       "date               object\n",
       "home_team          object\n",
       "away_team          object\n",
       "home_team_goal      int64\n",
       "away_team_goal      int64\n",
       "B365H             float64\n",
       "B365D             float64\n",
       "B365A             float64\n",
       "BSH               float64\n",
       "BSD               float64\n",
       "BSA               float64\n",
       "diff_goals          int64\n",
       "target              int64\n",
       "dtype: object"
      ]
     },
     "execution_count": 83,
     "metadata": {},
     "output_type": "execute_result"
    }
   ],
   "source": [
    "data.dtypes"
   ]
  },
  {
   "cell_type": "code",
   "execution_count": 84,
   "metadata": {},
   "outputs": [
    {
     "name": "stdout",
     "output_type": "stream",
     "text": [
      "<class 'pandas.core.frame.DataFrame'>\n",
      "RangeIndex: 25979 entries, 0 to 25978\n",
      "Data columns (total 17 columns):\n",
      " #   Column          Non-Null Count  Dtype  \n",
      "---  ------          --------------  -----  \n",
      " 0   country_name    25979 non-null  object \n",
      " 1   league_name     25979 non-null  object \n",
      " 2   season          25979 non-null  object \n",
      " 3   stage           25979 non-null  int64  \n",
      " 4   date            25979 non-null  object \n",
      " 5   home_team       25979 non-null  object \n",
      " 6   away_team       25979 non-null  object \n",
      " 7   home_team_goal  25979 non-null  int64  \n",
      " 8   away_team_goal  25979 non-null  int64  \n",
      " 9   B365H           22592 non-null  float64\n",
      " 10  B365D           22592 non-null  float64\n",
      " 11  B365A           22592 non-null  float64\n",
      " 12  BSH             14161 non-null  float64\n",
      " 13  BSD             14161 non-null  float64\n",
      " 14  BSA             14161 non-null  float64\n",
      " 15  diff_goals      25979 non-null  int64  \n",
      " 16  target          25979 non-null  int64  \n",
      "dtypes: float64(6), int64(5), object(6)\n",
      "memory usage: 3.4+ MB\n"
     ]
    }
   ],
   "source": [
    "data.info()"
   ]
  },
  {
   "cell_type": "code",
   "execution_count": 85,
   "metadata": {},
   "outputs": [
    {
     "data": {
      "text/plain": [
       "country_name        11\n",
       "league_name         11\n",
       "season               8\n",
       "stage               38\n",
       "date              1694\n",
       "home_team          296\n",
       "away_team          296\n",
       "home_team_goal      11\n",
       "away_team_goal      10\n",
       "B365H              121\n",
       "B365D               72\n",
       "B365A              115\n",
       "BSH                101\n",
       "BSD                 59\n",
       "BSA                 96\n",
       "diff_goals          20\n",
       "target               2\n",
       "dtype: int64"
      ]
     },
     "execution_count": 85,
     "metadata": {},
     "output_type": "execute_result"
    }
   ],
   "source": [
    "data.nunique()"
   ]
  },
  {
   "cell_type": "code",
   "execution_count": 86,
   "metadata": {},
   "outputs": [
    {
     "data": {
      "text/plain": [
       "0"
      ]
     },
     "execution_count": 86,
     "metadata": {},
     "output_type": "execute_result"
    }
   ],
   "source": [
    "data.duplicated().sum()"
   ]
  },
  {
   "cell_type": "code",
   "execution_count": 87,
   "metadata": {},
   "outputs": [
    {
     "data": {
      "text/plain": [
       "country_name      0.000000\n",
       "league_name       0.000000\n",
       "season            0.000000\n",
       "stage             0.000000\n",
       "date              0.000000\n",
       "home_team         0.000000\n",
       "away_team         0.000000\n",
       "home_team_goal    0.000000\n",
       "away_team_goal    0.000000\n",
       "B365H             0.130375\n",
       "B365D             0.130375\n",
       "B365A             0.130375\n",
       "BSH               0.454906\n",
       "BSD               0.454906\n",
       "BSA               0.454906\n",
       "diff_goals        0.000000\n",
       "target            0.000000\n",
       "dtype: float64"
      ]
     },
     "execution_count": 87,
     "metadata": {},
     "output_type": "execute_result"
    }
   ],
   "source": [
    "data.isnull().mean()"
   ]
  },
  {
   "cell_type": "code",
   "execution_count": 88,
   "metadata": {},
   "outputs": [
    {
     "data": {
      "text/plain": [
       "<Axes: >"
      ]
     },
     "execution_count": 88,
     "metadata": {},
     "output_type": "execute_result"
    },
    {
     "data": {
      "image/png": "[encoded data removed]",
      "text/plain": [
       "<Figure size 640x480 with 1 Axes>"
      ]
     },
     "metadata": {},
     "output_type": "display_data"
    }
   ],
   "source": [
    "data.BSH.hist()"
   ]
  },
  {
   "cell_type": "code",
   "execution_count": 89,
   "metadata": {},
   "outputs": [
    {
     "data": {
      "text/plain": [
       "<Axes: >"
      ]
     },
     "execution_count": 89,
     "metadata": {},
     "output_type": "execute_result"
    },
    {
     "data": {
      "image/png": "[encoded data removed]",
      "text/plain": [
       "<Figure size 640x480 with 1 Axes>"
      ]
     },
     "metadata": {},
     "output_type": "display_data"
    }
   ],
   "source": [
    "data.BSD.hist()"
   ]
  },
  {
   "cell_type": "code",
   "execution_count": 90,
   "metadata": {},
   "outputs": [
    {
     "data": {
      "text/plain": [
       "<Axes: >"
      ]
     },
     "execution_count": 90,
     "metadata": {},
     "output_type": "execute_result"
    },
    {
     "data": {
      "image/png": "[encoded data removed]",
      "text/plain": [
       "<Figure size 640x480 with 1 Axes>"
      ]
     },
     "metadata": {},
     "output_type": "display_data"
    }
   ],
   "source": [
    "data.BSA.hist()"
   ]
  },
  {
   "cell_type": "code",
   "execution_count": 91,
   "metadata": {},
   "outputs": [
    {
     "name": "stdout",
     "output_type": "stream",
     "text": [
      "2.6288177230878187\n",
      "3.8396839589235126\n",
      "4.66222202549575\n",
      "2.497894216510134\n",
      "3.6607421792246306\n",
      "4.405662735682508\n"
     ]
    }
   ],
   "source": [
    "mean_B365H = data.B365H.mean()\n",
    "\n",
    "mean_B365D = data.B365D.mean()\n",
    "\n",
    "mean_B365A = data.B365A.mean()\n",
    "\n",
    "mean_value_BSH = data.BSH.mean() \n",
    "\n",
    "\n",
    "mean_value_BSD = data.BSD.mean()\n",
    "\n",
    "\n",
    "mean_value_BSA = data.BSA.mean()\n",
    "\n",
    "print(mean_B365H)\n",
    "print(mean_B365D)\n",
    "print(mean_B365A)\n",
    "print(mean_value_BSH)\n",
    "print(mean_value_BSD)\n",
    "print(mean_value_BSA)"
   ]
  },
  {
   "cell_type": "code",
   "execution_count": 92,
   "metadata": {},
   "outputs": [
    {
     "data": {
      "text/html": [
       "<div>\n",
       "<style scoped>\n",
       "    .dataframe tbody tr th:only-of-type {\n",
       "        vertical-align: middle;\n",
       "    }\n",
       "\n",
       "    .dataframe tbody tr th {\n",
       "        vertical-align: top;\n",
       "    }\n",
       "\n",
       "    .dataframe thead th {\n",
       "        text-align: right;\n",
       "    }\n",
       "</style>\n",
       "<table border=\"1\" class=\"dataframe\">\n",
       "  <thead>\n",
       "    <tr style=\"text-align: right;\">\n",
       "      <th></th>\n",
       "      <th>country_name</th>\n",
       "      <th>league_name</th>\n",
       "      <th>season</th>\n",
       "      <th>stage</th>\n",
       "      <th>date</th>\n",
       "      <th>home_team</th>\n",
       "      <th>away_team</th>\n",
       "      <th>home_team_goal</th>\n",
       "      <th>away_team_goal</th>\n",
       "      <th>B365H</th>\n",
       "      <th>B365D</th>\n",
       "      <th>B365A</th>\n",
       "      <th>BSH</th>\n",
       "      <th>BSD</th>\n",
       "      <th>BSA</th>\n",
       "      <th>diff_goals</th>\n",
       "      <th>target</th>\n",
       "    </tr>\n",
       "  </thead>\n",
       "  <tbody>\n",
       "    <tr>\n",
       "      <th>0</th>\n",
       "      <td>Switzerland</td>\n",
       "      <td>Switzerland Super League</td>\n",
       "      <td>2008/2009</td>\n",
       "      <td>1</td>\n",
       "      <td>2008-07-18 00:00:00</td>\n",
       "      <td>BSC Young Boys</td>\n",
       "      <td>FC Basel</td>\n",
       "      <td>1</td>\n",
       "      <td>2</td>\n",
       "      <td>2.628818</td>\n",
       "      <td>3.839684</td>\n",
       "      <td>4.662222</td>\n",
       "      <td>2.497894</td>\n",
       "      <td>3.660742</td>\n",
       "      <td>4.405663</td>\n",
       "      <td>-1</td>\n",
       "      <td>1</td>\n",
       "    </tr>\n",
       "    <tr>\n",
       "      <th>1</th>\n",
       "      <td>Switzerland</td>\n",
       "      <td>Switzerland Super League</td>\n",
       "      <td>2008/2009</td>\n",
       "      <td>1</td>\n",
       "      <td>2008-07-19 00:00:00</td>\n",
       "      <td>FC Aarau</td>\n",
       "      <td>FC Sion</td>\n",
       "      <td>3</td>\n",
       "      <td>1</td>\n",
       "      <td>2.628818</td>\n",
       "      <td>3.839684</td>\n",
       "      <td>4.662222</td>\n",
       "      <td>2.497894</td>\n",
       "      <td>3.660742</td>\n",
       "      <td>4.405663</td>\n",
       "      <td>2</td>\n",
       "      <td>1</td>\n",
       "    </tr>\n",
       "    <tr>\n",
       "      <th>2</th>\n",
       "      <td>Switzerland</td>\n",
       "      <td>Switzerland Super League</td>\n",
       "      <td>2008/2009</td>\n",
       "      <td>1</td>\n",
       "      <td>2008-07-20 00:00:00</td>\n",
       "      <td>FC Luzern</td>\n",
       "      <td>FC Vaduz</td>\n",
       "      <td>1</td>\n",
       "      <td>2</td>\n",
       "      <td>2.628818</td>\n",
       "      <td>3.839684</td>\n",
       "      <td>4.662222</td>\n",
       "      <td>2.497894</td>\n",
       "      <td>3.660742</td>\n",
       "      <td>4.405663</td>\n",
       "      <td>-1</td>\n",
       "      <td>1</td>\n",
       "    </tr>\n",
       "    <tr>\n",
       "      <th>3</th>\n",
       "      <td>Switzerland</td>\n",
       "      <td>Switzerland Super League</td>\n",
       "      <td>2008/2009</td>\n",
       "      <td>1</td>\n",
       "      <td>2008-07-20 00:00:00</td>\n",
       "      <td>Neuchâtel Xamax</td>\n",
       "      <td>FC Zürich</td>\n",
       "      <td>1</td>\n",
       "      <td>2</td>\n",
       "      <td>2.628818</td>\n",
       "      <td>3.839684</td>\n",
       "      <td>4.662222</td>\n",
       "      <td>2.497894</td>\n",
       "      <td>3.660742</td>\n",
       "      <td>4.405663</td>\n",
       "      <td>-1</td>\n",
       "      <td>1</td>\n",
       "    </tr>\n",
       "    <tr>\n",
       "      <th>4</th>\n",
       "      <td>Switzerland</td>\n",
       "      <td>Switzerland Super League</td>\n",
       "      <td>2008/2009</td>\n",
       "      <td>2</td>\n",
       "      <td>2008-07-23 00:00:00</td>\n",
       "      <td>FC Basel</td>\n",
       "      <td>Grasshopper Club Zürich</td>\n",
       "      <td>1</td>\n",
       "      <td>0</td>\n",
       "      <td>2.628818</td>\n",
       "      <td>3.839684</td>\n",
       "      <td>4.662222</td>\n",
       "      <td>2.497894</td>\n",
       "      <td>3.660742</td>\n",
       "      <td>4.405663</td>\n",
       "      <td>1</td>\n",
       "      <td>1</td>\n",
       "    </tr>\n",
       "    <tr>\n",
       "      <th>...</th>\n",
       "      <td>...</td>\n",
       "      <td>...</td>\n",
       "      <td>...</td>\n",
       "      <td>...</td>\n",
       "      <td>...</td>\n",
       "      <td>...</td>\n",
       "      <td>...</td>\n",
       "      <td>...</td>\n",
       "      <td>...</td>\n",
       "      <td>...</td>\n",
       "      <td>...</td>\n",
       "      <td>...</td>\n",
       "      <td>...</td>\n",
       "      <td>...</td>\n",
       "      <td>...</td>\n",
       "      <td>...</td>\n",
       "      <td>...</td>\n",
       "    </tr>\n",
       "    <tr>\n",
       "      <th>95</th>\n",
       "      <td>France</td>\n",
       "      <td>France Ligue 1</td>\n",
       "      <td>2008/2009</td>\n",
       "      <td>2</td>\n",
       "      <td>2008-08-17 00:00:00</td>\n",
       "      <td>Olympique de Marseille</td>\n",
       "      <td>AJ Auxerre</td>\n",
       "      <td>4</td>\n",
       "      <td>0</td>\n",
       "      <td>1.570000</td>\n",
       "      <td>3.600000</td>\n",
       "      <td>6.500000</td>\n",
       "      <td>1.570000</td>\n",
       "      <td>3.300000</td>\n",
       "      <td>6.000000</td>\n",
       "      <td>4</td>\n",
       "      <td>1</td>\n",
       "    </tr>\n",
       "    <tr>\n",
       "      <th>96</th>\n",
       "      <td>Germany</td>\n",
       "      <td>Germany 1. Bundesliga</td>\n",
       "      <td>2008/2009</td>\n",
       "      <td>1</td>\n",
       "      <td>2008-08-17 00:00:00</td>\n",
       "      <td>Eintracht Frankfurt</td>\n",
       "      <td>Hertha BSC Berlin</td>\n",
       "      <td>0</td>\n",
       "      <td>2</td>\n",
       "      <td>2.350000</td>\n",
       "      <td>3.300000</td>\n",
       "      <td>3.000000</td>\n",
       "      <td>2.250000</td>\n",
       "      <td>3.250000</td>\n",
       "      <td>2.880000</td>\n",
       "      <td>-2</td>\n",
       "      <td>1</td>\n",
       "    </tr>\n",
       "    <tr>\n",
       "      <th>97</th>\n",
       "      <td>Germany</td>\n",
       "      <td>Germany 1. Bundesliga</td>\n",
       "      <td>2008/2009</td>\n",
       "      <td>1</td>\n",
       "      <td>2008-08-17 00:00:00</td>\n",
       "      <td>Borussia Mönchengladbach</td>\n",
       "      <td>VfB Stuttgart</td>\n",
       "      <td>1</td>\n",
       "      <td>3</td>\n",
       "      <td>2.750000</td>\n",
       "      <td>3.300000</td>\n",
       "      <td>2.500000</td>\n",
       "      <td>2.620000</td>\n",
       "      <td>3.100000</td>\n",
       "      <td>2.500000</td>\n",
       "      <td>-2</td>\n",
       "      <td>1</td>\n",
       "    </tr>\n",
       "    <tr>\n",
       "      <th>98</th>\n",
       "      <td>Poland</td>\n",
       "      <td>Poland Ekstraklasa</td>\n",
       "      <td>2008/2009</td>\n",
       "      <td>2</td>\n",
       "      <td>2008-08-17 00:00:00</td>\n",
       "      <td>Odra Wodzisław</td>\n",
       "      <td>Legia Warszawa</td>\n",
       "      <td>2</td>\n",
       "      <td>0</td>\n",
       "      <td>2.628818</td>\n",
       "      <td>3.839684</td>\n",
       "      <td>4.662222</td>\n",
       "      <td>2.497894</td>\n",
       "      <td>3.660742</td>\n",
       "      <td>4.405663</td>\n",
       "      <td>2</td>\n",
       "      <td>1</td>\n",
       "    </tr>\n",
       "    <tr>\n",
       "      <th>99</th>\n",
       "      <td>Poland</td>\n",
       "      <td>Poland Ekstraklasa</td>\n",
       "      <td>2008/2009</td>\n",
       "      <td>2</td>\n",
       "      <td>2008-08-17 00:00:00</td>\n",
       "      <td>Jagiellonia Białystok</td>\n",
       "      <td>Lech Poznań</td>\n",
       "      <td>0</td>\n",
       "      <td>3</td>\n",
       "      <td>2.628818</td>\n",
       "      <td>3.839684</td>\n",
       "      <td>4.662222</td>\n",
       "      <td>2.497894</td>\n",
       "      <td>3.660742</td>\n",
       "      <td>4.405663</td>\n",
       "      <td>-3</td>\n",
       "      <td>1</td>\n",
       "    </tr>\n",
       "  </tbody>\n",
       "</table>\n",
       "<p>100 rows × 17 columns</p>\n",
       "</div>"
      ],
      "text/plain": [
       "   country_name               league_name     season  stage  \\\n",
       "0   Switzerland  Switzerland Super League  2008/2009      1   \n",
       "1   Switzerland  Switzerland Super League  2008/2009      1   \n",
       "2   Switzerland  Switzerland Super League  2008/2009      1   \n",
       "3   Switzerland  Switzerland Super League  2008/2009      1   \n",
       "4   Switzerland  Switzerland Super League  2008/2009      2   \n",
       "..          ...                       ...        ...    ...   \n",
       "95       France            France Ligue 1  2008/2009      2   \n",
       "96      Germany     Germany 1. Bundesliga  2008/2009      1   \n",
       "97      Germany     Germany 1. Bundesliga  2008/2009      1   \n",
       "98       Poland        Poland Ekstraklasa  2008/2009      2   \n",
       "99       Poland        Poland Ekstraklasa  2008/2009      2   \n",
       "\n",
       "                   date                 home_team                away_team  \\\n",
       "0   2008-07-18 00:00:00            BSC Young Boys                 FC Basel   \n",
       "1   2008-07-19 00:00:00                  FC Aarau                  FC Sion   \n",
       "2   2008-07-20 00:00:00                 FC Luzern                 FC Vaduz   \n",
       "3   2008-07-20 00:00:00           Neuchâtel Xamax                FC Zürich   \n",
       "4   2008-07-23 00:00:00                  FC Basel  Grasshopper Club Zürich   \n",
       "..                  ...                       ...                      ...   \n",
       "95  2008-08-17 00:00:00    Olympique de Marseille               AJ Auxerre   \n",
       "96  2008-08-17 00:00:00       Eintracht Frankfurt        Hertha BSC Berlin   \n",
       "97  2008-08-17 00:00:00  Borussia Mönchengladbach            VfB Stuttgart   \n",
       "98  2008-08-17 00:00:00            Odra Wodzisław           Legia Warszawa   \n",
       "99  2008-08-17 00:00:00     Jagiellonia Białystok              Lech Poznań   \n",
       "\n",
       "    home_team_goal  away_team_goal     B365H     B365D     B365A       BSH  \\\n",
       "0                1               2  2.628818  3.839684  4.662222  2.497894   \n",
       "1                3               1  2.628818  3.839684  4.662222  2.497894   \n",
       "2                1               2  2.628818  3.839684  4.662222  2.497894   \n",
       "3                1               2  2.628818  3.839684  4.662222  2.497894   \n",
       "4                1               0  2.628818  3.839684  4.662222  2.497894   \n",
       "..             ...             ...       ...       ...       ...       ...   \n",
       "95               4               0  1.570000  3.600000  6.500000  1.570000   \n",
       "96               0               2  2.350000  3.300000  3.000000  2.250000   \n",
       "97               1               3  2.750000  3.300000  2.500000  2.620000   \n",
       "98               2               0  2.628818  3.839684  4.662222  2.497894   \n",
       "99               0               3  2.628818  3.839684  4.662222  2.497894   \n",
       "\n",
       "         BSD       BSA  diff_goals  target  \n",
       "0   3.660742  4.405663          -1       1  \n",
       "1   3.660742  4.405663           2       1  \n",
       "2   3.660742  4.405663          -1       1  \n",
       "3   3.660742  4.405663          -1       1  \n",
       "4   3.660742  4.405663           1       1  \n",
       "..       ...       ...         ...     ...  \n",
       "95  3.300000  6.000000           4       1  \n",
       "96  3.250000  2.880000          -2       1  \n",
       "97  3.100000  2.500000          -2       1  \n",
       "98  3.660742  4.405663           2       1  \n",
       "99  3.660742  4.405663          -3       1  \n",
       "\n",
       "[100 rows x 17 columns]"
      ]
     },
     "execution_count": 92,
     "metadata": {},
     "output_type": "execute_result"
    }
   ],
   "source": [
    "data['B365A'] = data.B365A.fillna(mean_B365A)\n",
    "\n",
    "data['B365D'] = data.B365D.fillna(mean_B365D)\n",
    "\n",
    "data['B365H'] = data.B365H.fillna(mean_B365H)\n",
    "\n",
    "data['BSA'] = data.BSA.fillna(mean_value_BSA)\n",
    "\n",
    "data['BSD'] = data.BSD.fillna(mean_value_BSD)\n",
    "\n",
    "data['BSH'] = data.BSH.fillna(mean_value_BSH)\n",
    "\n",
    "data.head(100)"
   ]
  },
  {
   "cell_type": "code",
   "execution_count": 93,
   "metadata": {},
   "outputs": [
    {
     "data": {
      "text/plain": [
       "country_name      0.0\n",
       "league_name       0.0\n",
       "season            0.0\n",
       "stage             0.0\n",
       "date              0.0\n",
       "home_team         0.0\n",
       "away_team         0.0\n",
       "home_team_goal    0.0\n",
       "away_team_goal    0.0\n",
       "B365H             0.0\n",
       "B365D             0.0\n",
       "B365A             0.0\n",
       "BSH               0.0\n",
       "BSD               0.0\n",
       "BSA               0.0\n",
       "diff_goals        0.0\n",
       "target            0.0\n",
       "dtype: float64"
      ]
     },
     "execution_count": 93,
     "metadata": {},
     "output_type": "execute_result"
    }
   ],
   "source": [
    "data.isnull().mean()"
   ]
  },
  {
   "cell_type": "code",
   "execution_count": 94,
   "metadata": {},
   "outputs": [
    {
     "name": "stdout",
     "output_type": "stream",
     "text": [
      "['Switzerland' 'Poland' 'France' 'Scotland' 'Germany' 'Belgium' 'England'\n",
      " 'Portugal' 'Netherlands' 'Italy' 'Spain']\n",
      "['Switzerland Super League' 'Poland Ekstraklasa' 'France Ligue 1'\n",
      " 'Scotland Premier League' 'Germany 1. Bundesliga'\n",
      " 'Belgium Jupiler League' 'England Premier League'\n",
      " 'Portugal Liga ZON Sagres' 'Netherlands Eredivisie' 'Italy Serie A'\n",
      " 'Spain LIGA BBVA']\n"
     ]
    }
   ],
   "source": [
    "print(data['country_name'].unique())\n",
    "print(data['league_name'].unique())"
   ]
  },
  {
   "cell_type": "code",
   "execution_count": 95,
   "metadata": {},
   "outputs": [
    {
     "name": "stdout",
     "output_type": "stream",
     "text": [
      "[10  6  2  8  3  0  1  7  5  4  9]\n"
     ]
    }
   ],
   "source": [
    "from sklearn.preprocessing import LabelEncoder\n",
    "\n",
    "le = LabelEncoder()\n",
    "\n",
    "le.fit(data['country_name'])\n",
    "data['country_name'] = le.transform(data['country_name'])\n",
    "\n",
    "print(data['country_name'].unique())"
   ]
  },
  {
   "cell_type": "code",
   "execution_count": 96,
   "metadata": {},
   "outputs": [
    {
     "name": "stdout",
     "output_type": "stream",
     "text": [
      "[10  6  2  8  3  0  1  7  5  4  9]\n"
     ]
    }
   ],
   "source": [
    "le.fit(data['league_name'])\n",
    "data['league_name'] = le.transform(data['league_name'])\n",
    "\n",
    "print(data['country_name'].unique())"
   ]
  },
  {
   "cell_type": "code",
   "execution_count": 97,
   "metadata": {},
   "outputs": [
    {
     "data": {
      "text/html": [
       "<div>\n",
       "<style scoped>\n",
       "    .dataframe tbody tr th:only-of-type {\n",
       "        vertical-align: middle;\n",
       "    }\n",
       "\n",
       "    .dataframe tbody tr th {\n",
       "        vertical-align: top;\n",
       "    }\n",
       "\n",
       "    .dataframe thead th {\n",
       "        text-align: right;\n",
       "    }\n",
       "</style>\n",
       "<table border=\"1\" class=\"dataframe\">\n",
       "  <thead>\n",
       "    <tr style=\"text-align: right;\">\n",
       "      <th></th>\n",
       "      <th>country_name</th>\n",
       "      <th>league_name</th>\n",
       "      <th>season</th>\n",
       "      <th>stage</th>\n",
       "      <th>date</th>\n",
       "      <th>home_team</th>\n",
       "      <th>away_team</th>\n",
       "      <th>home_team_goal</th>\n",
       "      <th>away_team_goal</th>\n",
       "      <th>B365H</th>\n",
       "      <th>B365D</th>\n",
       "      <th>B365A</th>\n",
       "      <th>BSH</th>\n",
       "      <th>BSD</th>\n",
       "      <th>BSA</th>\n",
       "      <th>diff_goals</th>\n",
       "      <th>target</th>\n",
       "    </tr>\n",
       "  </thead>\n",
       "  <tbody>\n",
       "    <tr>\n",
       "      <th>0</th>\n",
       "      <td>10</td>\n",
       "      <td>10</td>\n",
       "      <td>2008/2009</td>\n",
       "      <td>1</td>\n",
       "      <td>2008-07-18 00:00:00</td>\n",
       "      <td>24</td>\n",
       "      <td>76</td>\n",
       "      <td>1</td>\n",
       "      <td>2</td>\n",
       "      <td>2.628818</td>\n",
       "      <td>3.839684</td>\n",
       "      <td>4.662222</td>\n",
       "      <td>2.497894</td>\n",
       "      <td>3.660742</td>\n",
       "      <td>4.405663</td>\n",
       "      <td>-1</td>\n",
       "      <td>1</td>\n",
       "    </tr>\n",
       "    <tr>\n",
       "      <th>1</th>\n",
       "      <td>10</td>\n",
       "      <td>10</td>\n",
       "      <td>2008/2009</td>\n",
       "      <td>1</td>\n",
       "      <td>2008-07-19 00:00:00</td>\n",
       "      <td>72</td>\n",
       "      <td>91</td>\n",
       "      <td>3</td>\n",
       "      <td>1</td>\n",
       "      <td>2.628818</td>\n",
       "      <td>3.839684</td>\n",
       "      <td>4.662222</td>\n",
       "      <td>2.497894</td>\n",
       "      <td>3.660742</td>\n",
       "      <td>4.405663</td>\n",
       "      <td>2</td>\n",
       "      <td>1</td>\n",
       "    </tr>\n",
       "    <tr>\n",
       "      <th>2</th>\n",
       "      <td>10</td>\n",
       "      <td>10</td>\n",
       "      <td>2008/2009</td>\n",
       "      <td>1</td>\n",
       "      <td>2008-07-20 00:00:00</td>\n",
       "      <td>84</td>\n",
       "      <td>98</td>\n",
       "      <td>1</td>\n",
       "      <td>2</td>\n",
       "      <td>2.628818</td>\n",
       "      <td>3.839684</td>\n",
       "      <td>4.662222</td>\n",
       "      <td>2.497894</td>\n",
       "      <td>3.660742</td>\n",
       "      <td>4.405663</td>\n",
       "      <td>-1</td>\n",
       "      <td>1</td>\n",
       "    </tr>\n",
       "    <tr>\n",
       "      <th>3</th>\n",
       "      <td>10</td>\n",
       "      <td>10</td>\n",
       "      <td>2008/2009</td>\n",
       "      <td>1</td>\n",
       "      <td>2008-07-20 00:00:00</td>\n",
       "      <td>173</td>\n",
       "      <td>100</td>\n",
       "      <td>1</td>\n",
       "      <td>2</td>\n",
       "      <td>2.628818</td>\n",
       "      <td>3.839684</td>\n",
       "      <td>4.662222</td>\n",
       "      <td>2.497894</td>\n",
       "      <td>3.660742</td>\n",
       "      <td>4.405663</td>\n",
       "      <td>-1</td>\n",
       "      <td>1</td>\n",
       "    </tr>\n",
       "    <tr>\n",
       "      <th>4</th>\n",
       "      <td>10</td>\n",
       "      <td>10</td>\n",
       "      <td>2008/2009</td>\n",
       "      <td>2</td>\n",
       "      <td>2008-07-23 00:00:00</td>\n",
       "      <td>76</td>\n",
       "      <td>117</td>\n",
       "      <td>1</td>\n",
       "      <td>0</td>\n",
       "      <td>2.628818</td>\n",
       "      <td>3.839684</td>\n",
       "      <td>4.662222</td>\n",
       "      <td>2.497894</td>\n",
       "      <td>3.660742</td>\n",
       "      <td>4.405663</td>\n",
       "      <td>1</td>\n",
       "      <td>1</td>\n",
       "    </tr>\n",
       "    <tr>\n",
       "      <th>...</th>\n",
       "      <td>...</td>\n",
       "      <td>...</td>\n",
       "      <td>...</td>\n",
       "      <td>...</td>\n",
       "      <td>...</td>\n",
       "      <td>...</td>\n",
       "      <td>...</td>\n",
       "      <td>...</td>\n",
       "      <td>...</td>\n",
       "      <td>...</td>\n",
       "      <td>...</td>\n",
       "      <td>...</td>\n",
       "      <td>...</td>\n",
       "      <td>...</td>\n",
       "      <td>...</td>\n",
       "      <td>...</td>\n",
       "      <td>...</td>\n",
       "    </tr>\n",
       "    <tr>\n",
       "      <th>95</th>\n",
       "      <td>2</td>\n",
       "      <td>2</td>\n",
       "      <td>2008/2009</td>\n",
       "      <td>2</td>\n",
       "      <td>2008-08-17 00:00:00</td>\n",
       "      <td>180</td>\n",
       "      <td>8</td>\n",
       "      <td>4</td>\n",
       "      <td>0</td>\n",
       "      <td>1.570000</td>\n",
       "      <td>3.600000</td>\n",
       "      <td>6.500000</td>\n",
       "      <td>1.570000</td>\n",
       "      <td>3.300000</td>\n",
       "      <td>6.000000</td>\n",
       "      <td>4</td>\n",
       "      <td>1</td>\n",
       "    </tr>\n",
       "    <tr>\n",
       "      <th>96</th>\n",
       "      <td>3</td>\n",
       "      <td>3</td>\n",
       "      <td>2008/2009</td>\n",
       "      <td>1</td>\n",
       "      <td>2008-08-17 00:00:00</td>\n",
       "      <td>65</td>\n",
       "      <td>126</td>\n",
       "      <td>0</td>\n",
       "      <td>2</td>\n",
       "      <td>2.350000</td>\n",
       "      <td>3.300000</td>\n",
       "      <td>3.000000</td>\n",
       "      <td>2.250000</td>\n",
       "      <td>3.250000</td>\n",
       "      <td>2.880000</td>\n",
       "      <td>-2</td>\n",
       "      <td>1</td>\n",
       "    </tr>\n",
       "    <tr>\n",
       "      <th>97</th>\n",
       "      <td>3</td>\n",
       "      <td>3</td>\n",
       "      <td>2008/2009</td>\n",
       "      <td>1</td>\n",
       "      <td>2008-08-17 00:00:00</td>\n",
       "      <td>35</td>\n",
       "      <td>275</td>\n",
       "      <td>1</td>\n",
       "      <td>3</td>\n",
       "      <td>2.750000</td>\n",
       "      <td>3.300000</td>\n",
       "      <td>2.500000</td>\n",
       "      <td>2.620000</td>\n",
       "      <td>3.100000</td>\n",
       "      <td>2.500000</td>\n",
       "      <td>-2</td>\n",
       "      <td>1</td>\n",
       "    </tr>\n",
       "    <tr>\n",
       "      <th>98</th>\n",
       "      <td>6</td>\n",
       "      <td>6</td>\n",
       "      <td>2008/2009</td>\n",
       "      <td>2</td>\n",
       "      <td>2008-08-17 00:00:00</td>\n",
       "      <td>178</td>\n",
       "      <td>153</td>\n",
       "      <td>2</td>\n",
       "      <td>0</td>\n",
       "      <td>2.628818</td>\n",
       "      <td>3.839684</td>\n",
       "      <td>4.662222</td>\n",
       "      <td>2.497894</td>\n",
       "      <td>3.660742</td>\n",
       "      <td>4.405663</td>\n",
       "      <td>2</td>\n",
       "      <td>1</td>\n",
       "    </tr>\n",
       "    <tr>\n",
       "      <th>99</th>\n",
       "      <td>6</td>\n",
       "      <td>6</td>\n",
       "      <td>2008/2009</td>\n",
       "      <td>2</td>\n",
       "      <td>2008-08-17 00:00:00</td>\n",
       "      <td>132</td>\n",
       "      <td>151</td>\n",
       "      <td>0</td>\n",
       "      <td>3</td>\n",
       "      <td>2.628818</td>\n",
       "      <td>3.839684</td>\n",
       "      <td>4.662222</td>\n",
       "      <td>2.497894</td>\n",
       "      <td>3.660742</td>\n",
       "      <td>4.405663</td>\n",
       "      <td>-3</td>\n",
       "      <td>1</td>\n",
       "    </tr>\n",
       "  </tbody>\n",
       "</table>\n",
       "<p>100 rows × 17 columns</p>\n",
       "</div>"
      ],
      "text/plain": [
       "    country_name  league_name     season  stage                 date  \\\n",
       "0             10           10  2008/2009      1  2008-07-18 00:00:00   \n",
       "1             10           10  2008/2009      1  2008-07-19 00:00:00   \n",
       "2             10           10  2008/2009      1  2008-07-20 00:00:00   \n",
       "3             10           10  2008/2009      1  2008-07-20 00:00:00   \n",
       "4             10           10  2008/2009      2  2008-07-23 00:00:00   \n",
       "..           ...          ...        ...    ...                  ...   \n",
       "95             2            2  2008/2009      2  2008-08-17 00:00:00   \n",
       "96             3            3  2008/2009      1  2008-08-17 00:00:00   \n",
       "97             3            3  2008/2009      1  2008-08-17 00:00:00   \n",
       "98             6            6  2008/2009      2  2008-08-17 00:00:00   \n",
       "99             6            6  2008/2009      2  2008-08-17 00:00:00   \n",
       "\n",
       "    home_team  away_team  home_team_goal  away_team_goal     B365H     B365D  \\\n",
       "0          24         76               1               2  2.628818  3.839684   \n",
       "1          72         91               3               1  2.628818  3.839684   \n",
       "2          84         98               1               2  2.628818  3.839684   \n",
       "3         173        100               1               2  2.628818  3.839684   \n",
       "4          76        117               1               0  2.628818  3.839684   \n",
       "..        ...        ...             ...             ...       ...       ...   \n",
       "95        180          8               4               0  1.570000  3.600000   \n",
       "96         65        126               0               2  2.350000  3.300000   \n",
       "97         35        275               1               3  2.750000  3.300000   \n",
       "98        178        153               2               0  2.628818  3.839684   \n",
       "99        132        151               0               3  2.628818  3.839684   \n",
       "\n",
       "       B365A       BSH       BSD       BSA  diff_goals  target  \n",
       "0   4.662222  2.497894  3.660742  4.405663          -1       1  \n",
       "1   4.662222  2.497894  3.660742  4.405663           2       1  \n",
       "2   4.662222  2.497894  3.660742  4.405663          -1       1  \n",
       "3   4.662222  2.497894  3.660742  4.405663          -1       1  \n",
       "4   4.662222  2.497894  3.660742  4.405663           1       1  \n",
       "..       ...       ...       ...       ...         ...     ...  \n",
       "95  6.500000  1.570000  3.300000  6.000000           4       1  \n",
       "96  3.000000  2.250000  3.250000  2.880000          -2       1  \n",
       "97  2.500000  2.620000  3.100000  2.500000          -2       1  \n",
       "98  4.662222  2.497894  3.660742  4.405663           2       1  \n",
       "99  4.662222  2.497894  3.660742  4.405663          -3       1  \n",
       "\n",
       "[100 rows x 17 columns]"
      ]
     },
     "execution_count": 97,
     "metadata": {},
     "output_type": "execute_result"
    }
   ],
   "source": [
    "le.fit(data['home_team'])\n",
    "data['home_team'] = le.transform(data['home_team'])\n",
    "\n",
    "le.fit(data['away_team'])\n",
    "data['away_team'] = le.transform(data['away_team'])\n",
    "\n",
    "data.head(100)"
   ]
  },
  {
   "cell_type": "code",
   "execution_count": 98,
   "metadata": {},
   "outputs": [
    {
     "data": {
      "text/plain": [
       "<Axes: ylabel='B365H'>"
      ]
     },
     "execution_count": 98,
     "metadata": {},
     "output_type": "execute_result"
    },
    {
     "data": {
      "image/png": "[encoded data removed]",
      "text/plain": [
       "<Figure size 640x480 with 1 Axes>"
      ]
     },
     "metadata": {},
     "output_type": "display_data"
    }
   ],
   "source": [
    "sns.boxplot( y='B365H', data=data)"
   ]
  },
  {
   "cell_type": "code",
   "execution_count": 99,
   "metadata": {},
   "outputs": [
    {
     "name": "stdout",
     "output_type": "stream",
     "text": [
      "0.43000000000000016\n",
      "3.9499999999999997\n"
     ]
    }
   ],
   "source": [
    "IQR1 = data[\"B365H\"].quantile(0.75) - data[\"B365H\"].quantile(0.25)\n",
    "\n",
    "lower_B365H_limit = data[\"B365H\"].quantile(0.25) - (IQR1 * 1.5)\n",
    "upper_B365H_limit = data[\"B365H\"].quantile(0.75) + (IQR1 * 1.5)\n",
    "\n",
    "print(lower_B365H_limit)\n",
    "print(upper_B365H_limit)"
   ]
  },
  {
   "cell_type": "code",
   "execution_count": 100,
   "metadata": {},
   "outputs": [],
   "source": [
    "data[\"B365H\"]= np.where(data[\"B365H\"] > upper_B365H_limit, upper_B365H_limit,\n",
    "            np.where(data[\"B365H\"] < lower_B365H_limit, lower_B365H_limit, data[\"B365H\"]))\n",
    "\n"
   ]
  },
  {
   "cell_type": "code",
   "execution_count": 101,
   "metadata": {},
   "outputs": [
    {
     "data": {
      "text/plain": [
       "<Axes: ylabel='B365H'>"
      ]
     },
     "execution_count": 101,
     "metadata": {},
     "output_type": "execute_result"
    },
    {
     "data": {
      "image/png": "[encoded data removed]",
      "text/plain": [
       "<Figure size 640x480 with 1 Axes>"
      ]
     },
     "metadata": {},
     "output_type": "display_data"
    }
   ],
   "source": [
    "sns.boxplot( y='B365H', data=data)"
   ]
  },
  {
   "cell_type": "code",
   "execution_count": 102,
   "metadata": {},
   "outputs": [
    {
     "data": {
      "text/plain": [
       "<Axes: ylabel='B365A'>"
      ]
     },
     "execution_count": 102,
     "metadata": {},
     "output_type": "execute_result"
    },
    {
     "data": {
      "image/png": "[encoded data removed]",
      "text/plain": [
       "<Figure size 640x480 with 1 Axes>"
      ]
     },
     "metadata": {},
     "output_type": "display_data"
    }
   ],
   "source": [
    "sns.boxplot( y='B365A', data=data)"
   ]
  },
  {
   "cell_type": "code",
   "execution_count": 103,
   "metadata": {},
   "outputs": [
    {
     "name": "stdout",
     "output_type": "stream",
     "text": [
      "-0.37499999999999956\n",
      "7.824999999999999\n"
     ]
    }
   ],
   "source": [
    "IQR2 = data[\"B365A\"].quantile(0.75) - data[\"B365A\"].quantile(0.25)\n",
    "\n",
    "lower_B365A_limit = data[\"B365A\"].quantile(0.25) - (IQR2 * 1.5)\n",
    "upper_B365A_limit = data[\"B365A\"].quantile(0.75) + (IQR2 * 1.5)\n",
    "\n",
    "print(lower_B365A_limit)\n",
    "print(upper_B365A_limit)"
   ]
  },
  {
   "cell_type": "code",
   "execution_count": 104,
   "metadata": {},
   "outputs": [],
   "source": [
    "data[\"B365A\"]= np.where(data[\"B365A\"] > upper_B365A_limit, upper_B365A_limit,\n",
    "            np.where(data[\"B365A\"] < lower_B365A_limit, lower_B365A_limit, data[\"B365A\"]))\n",
    "\n"
   ]
  },
  {
   "cell_type": "code",
   "execution_count": 105,
   "metadata": {},
   "outputs": [
    {
     "data": {
      "text/plain": [
       "<Axes: ylabel='B365A'>"
      ]
     },
     "execution_count": 105,
     "metadata": {},
     "output_type": "execute_result"
    },
    {
     "data": {
      "image/png": "[encoded data removed]",
      "text/plain": [
       "<Figure size 640x480 with 1 Axes>"
      ]
     },
     "metadata": {},
     "output_type": "display_data"
    }
   ],
   "source": [
    "sns.boxplot( y='B365A', data=data)"
   ]
  },
  {
   "cell_type": "code",
   "execution_count": 106,
   "metadata": {},
   "outputs": [
    {
     "data": {
      "text/plain": [
       "<Axes: ylabel='B365D'>"
      ]
     },
     "execution_count": 106,
     "metadata": {},
     "output_type": "execute_result"
    },
    {
     "data": {
      "image/png": "[encoded data removed]",
      "text/plain": [
       "<Figure size 640x480 with 1 Axes>"
      ]
     },
     "metadata": {},
     "output_type": "display_data"
    }
   ],
   "source": [
    "sns.boxplot( y='B365D', data=data)"
   ]
  },
  {
   "cell_type": "code",
   "execution_count": 107,
   "metadata": {},
   "outputs": [
    {
     "name": "stdout",
     "output_type": "stream",
     "text": [
      "2.490474061614731\n",
      "4.649209897308782\n"
     ]
    }
   ],
   "source": [
    "IQR3 = data[\"B365D\"].quantile(0.75) - data[\"B365D\"].quantile(0.25)\n",
    "\n",
    "lower_B365D_limit = data[\"B365D\"].quantile(0.25) - (IQR3 * 1.5)\n",
    "upper_B365D_limit = data[\"B365D\"].quantile(0.75) + (IQR3 * 1.5)\n",
    "\n",
    "print(lower_B365D_limit)\n",
    "print(upper_B365D_limit)"
   ]
  },
  {
   "cell_type": "code",
   "execution_count": 108,
   "metadata": {},
   "outputs": [],
   "source": [
    "data[\"B365D\"]= np.where(data[\"B365D\"] > upper_B365D_limit, upper_B365D_limit,\n",
    "            np.where(data[\"B365D\"] < lower_B365D_limit, lower_B365D_limit, data[\"B365D\"]))\n",
    "\n"
   ]
  },
  {
   "cell_type": "code",
   "execution_count": 109,
   "metadata": {},
   "outputs": [
    {
     "data": {
      "text/plain": [
       "<Axes: ylabel='B365D'>"
      ]
     },
     "execution_count": 109,
     "metadata": {},
     "output_type": "execute_result"
    },
    {
     "data": {
      "image/png": "[encoded data removed]",
      "text/plain": [
       "<Figure size 640x480 with 1 Axes>"
      ]
     },
     "metadata": {},
     "output_type": "display_data"
    }
   ],
   "source": [
    "sns.boxplot( y='B365D', data=data)"
   ]
  },
  {
   "cell_type": "code",
   "execution_count": 110,
   "metadata": {},
   "outputs": [
    {
     "data": {
      "text/plain": [
       "<Axes: ylabel='BSH'>"
      ]
     },
     "execution_count": 110,
     "metadata": {},
     "output_type": "execute_result"
    },
    {
     "data": {
      "image/png": "[encoded data removed]",
      "text/plain": [
       "<Figure size 640x480 with 1 Axes>"
      ]
     },
     "metadata": {},
     "output_type": "display_data"
    }
   ],
   "source": [
    "sns.boxplot( y='BSH', data=data)"
   ]
  },
  {
   "cell_type": "code",
   "execution_count": 111,
   "metadata": {},
   "outputs": [
    {
     "name": "stdout",
     "output_type": "stream",
     "text": [
      "1.3781586752347987\n",
      "3.169735541275335\n"
     ]
    }
   ],
   "source": [
    "IQR4 = data[\"BSH\"].quantile(0.75) - data[\"BSH\"].quantile(0.25)\n",
    "\n",
    "lower_BSH_limit = data[\"BSH\"].quantile(0.25) - (IQR4 * 1.5)\n",
    "upper_BSH_limit = data[\"BSH\"].quantile(0.75) + (IQR4 * 1.5)\n",
    "\n",
    "print(lower_BSH_limit)\n",
    "print(upper_BSH_limit)"
   ]
  },
  {
   "cell_type": "code",
   "execution_count": 112,
   "metadata": {},
   "outputs": [],
   "source": [
    "data[\"BSH\"]= np.where(data[\"BSH\"] > upper_BSH_limit, upper_BSH_limit,\n",
    "            np.where(data[\"BSH\"] < lower_BSH_limit, lower_BSH_limit, data[\"BSH\"]))\n",
    "\n"
   ]
  },
  {
   "cell_type": "code",
   "execution_count": 113,
   "metadata": {},
   "outputs": [
    {
     "data": {
      "text/plain": [
       "<Axes: ylabel='BSH'>"
      ]
     },
     "execution_count": 113,
     "metadata": {},
     "output_type": "execute_result"
    },
    {
     "data": {
      "image/png": "[encoded data removed]",
      "text/plain": [
       "<Figure size 640x480 with 1 Axes>"
      ]
     },
     "metadata": {},
     "output_type": "display_data"
    }
   ],
   "source": [
    "sns.boxplot( y='BSH', data=data)"
   ]
  },
  {
   "cell_type": "code",
   "execution_count": 114,
   "metadata": {},
   "outputs": [
    {
     "data": {
      "text/plain": [
       "<Axes: ylabel='BSD'>"
      ]
     },
     "execution_count": 114,
     "metadata": {},
     "output_type": "execute_result"
    },
    {
     "data": {
      "image/png": "[encoded data removed]",
      "text/plain": [
       "<Figure size 640x480 with 1 Axes>"
      ]
     },
     "metadata": {},
     "output_type": "display_data"
    }
   ],
   "source": [
    "sns.boxplot( y='BSD', data=data)"
   ]
  },
  {
   "cell_type": "code",
   "execution_count": 115,
   "metadata": {},
   "outputs": [
    {
     "name": "stdout",
     "output_type": "stream",
     "text": [
      "2.7588867311630536\n",
      "4.201855448061577\n"
     ]
    }
   ],
   "source": [
    "IQR5 = data[\"BSD\"].quantile(0.75) - data[\"BSD\"].quantile(0.25)\n",
    "\n",
    "lower_BSD_limit = data[\"BSD\"].quantile(0.25) - (IQR5 * 1.5)\n",
    "upper_BSD_limit = data[\"BSD\"].quantile(0.75) + (IQR5 * 1.5)\n",
    "\n",
    "print(lower_BSD_limit)\n",
    "print(upper_BSD_limit)"
   ]
  },
  {
   "cell_type": "code",
   "execution_count": 116,
   "metadata": {},
   "outputs": [],
   "source": [
    "data[\"BSD\"]= np.where(data[\"BSD\"] > upper_BSD_limit, upper_BSD_limit,\n",
    "            np.where(data[\"BSD\"] < lower_BSD_limit, lower_BSD_limit, data[\"BSD\"]))\n",
    "\n"
   ]
  },
  {
   "cell_type": "code",
   "execution_count": 117,
   "metadata": {},
   "outputs": [
    {
     "data": {
      "text/plain": [
       "<Axes: ylabel='BSD'>"
      ]
     },
     "execution_count": 117,
     "metadata": {},
     "output_type": "execute_result"
    },
    {
     "data": {
      "image/png": "[encoded data removed]",
      "text/plain": [
       "<Figure size 640x480 with 1 Axes>"
      ]
     },
     "metadata": {},
     "output_type": "display_data"
    }
   ],
   "source": [
    "sns.boxplot( y='BSD', data=data)"
   ]
  },
  {
   "cell_type": "code",
   "execution_count": 118,
   "metadata": {},
   "outputs": [
    {
     "data": {
      "text/plain": [
       "<Axes: ylabel='BSA'>"
      ]
     },
     "execution_count": 118,
     "metadata": {},
     "output_type": "execute_result"
    },
    {
     "data": {
      "image/png": "[encoded data removed]",
      "text/plain": [
       "<Figure size 640x480 with 1 Axes>"
      ]
     },
     "metadata": {},
     "output_type": "display_data"
    }
   ],
   "source": [
    "sns.boxplot( y='BSA', data=data)"
   ]
  },
  {
   "cell_type": "code",
   "execution_count": 119,
   "metadata": {},
   "outputs": [
    {
     "name": "stdout",
     "output_type": "stream",
     "text": [
      "1.3915058964762381\n",
      "6.21415683920627\n"
     ]
    }
   ],
   "source": [
    "IQR6 = data[\"BSA\"].quantile(0.75) - data[\"BSA\"].quantile(0.25)\n",
    "\n",
    "lower_BSA_limit = data[\"BSA\"].quantile(0.25) - (IQR6 * 1.5)\n",
    "upper_BSA_limit = data[\"BSA\"].quantile(0.75) + (IQR6 * 1.5)\n",
    "\n",
    "print(lower_BSA_limit)\n",
    "print(upper_BSA_limit)"
   ]
  },
  {
   "cell_type": "code",
   "execution_count": 120,
   "metadata": {},
   "outputs": [],
   "source": [
    "data[\"BSA\"]= np.where(data[\"BSA\"] > upper_BSA_limit, upper_BSA_limit,\n",
    "            np.where(data[\"BSA\"] < lower_BSA_limit, lower_BSA_limit, data[\"BSA\"]))\n",
    "\n"
   ]
  },
  {
   "cell_type": "code",
   "execution_count": 121,
   "metadata": {},
   "outputs": [
    {
     "data": {
      "text/plain": [
       "<Axes: ylabel='BSA'>"
      ]
     },
     "execution_count": 121,
     "metadata": {},
     "output_type": "execute_result"
    },
    {
     "data": {
      "image/png": "[encoded data removed]",
      "text/plain": [
       "<Figure size 640x480 with 1 Axes>"
      ]
     },
     "metadata": {},
     "output_type": "display_data"
    }
   ],
   "source": [
    "sns.boxplot( y='BSA', data=data)"
   ]
  },
  {
   "cell_type": "code",
   "execution_count": 122,
   "metadata": {},
   "outputs": [],
   "source": [
    "data['date'] = pd.to_datetime(data['date'])"
   ]
  },
  {
   "cell_type": "code",
   "execution_count": 123,
   "metadata": {},
   "outputs": [],
   "source": [
    "data['hour'] = data['date'].dt.hour\n",
    "data['min'] = data['date'].dt.minute"
   ]
  },
  {
   "cell_type": "code",
   "execution_count": 124,
   "metadata": {},
   "outputs": [],
   "source": [
    "data['date'].dt.isocalendar()\n",
    "data['month'] = data['date'].dt.month\n",
    "data['day_month'] = data['date'].dt.day\n",
    "data['year']= data['date'].dt.year\n",
    "data.drop(columns=['date'], inplace=True)"
   ]
  },
  {
   "cell_type": "code",
   "execution_count": 125,
   "metadata": {},
   "outputs": [
    {
     "data": {
      "text/html": [
       "<div>\n",
       "<style scoped>\n",
       "    .dataframe tbody tr th:only-of-type {\n",
       "        vertical-align: middle;\n",
       "    }\n",
       "\n",
       "    .dataframe tbody tr th {\n",
       "        vertical-align: top;\n",
       "    }\n",
       "\n",
       "    .dataframe thead th {\n",
       "        text-align: right;\n",
       "    }\n",
       "</style>\n",
       "<table border=\"1\" class=\"dataframe\">\n",
       "  <thead>\n",
       "    <tr style=\"text-align: right;\">\n",
       "      <th></th>\n",
       "      <th>country_name</th>\n",
       "      <th>league_name</th>\n",
       "      <th>season</th>\n",
       "      <th>stage</th>\n",
       "      <th>home_team</th>\n",
       "      <th>away_team</th>\n",
       "      <th>home_team_goal</th>\n",
       "      <th>away_team_goal</th>\n",
       "      <th>B365H</th>\n",
       "      <th>B365D</th>\n",
       "      <th>...</th>\n",
       "      <th>BSH</th>\n",
       "      <th>BSD</th>\n",
       "      <th>BSA</th>\n",
       "      <th>diff_goals</th>\n",
       "      <th>target</th>\n",
       "      <th>hour</th>\n",
       "      <th>min</th>\n",
       "      <th>month</th>\n",
       "      <th>day_month</th>\n",
       "      <th>year</th>\n",
       "    </tr>\n",
       "  </thead>\n",
       "  <tbody>\n",
       "    <tr>\n",
       "      <th>0</th>\n",
       "      <td>10</td>\n",
       "      <td>10</td>\n",
       "      <td>2008/2009</td>\n",
       "      <td>1</td>\n",
       "      <td>24</td>\n",
       "      <td>76</td>\n",
       "      <td>1</td>\n",
       "      <td>2</td>\n",
       "      <td>2.628818</td>\n",
       "      <td>3.839684</td>\n",
       "      <td>...</td>\n",
       "      <td>2.497894</td>\n",
       "      <td>3.660742</td>\n",
       "      <td>4.405663</td>\n",
       "      <td>-1</td>\n",
       "      <td>1</td>\n",
       "      <td>0</td>\n",
       "      <td>0</td>\n",
       "      <td>7</td>\n",
       "      <td>18</td>\n",
       "      <td>2008</td>\n",
       "    </tr>\n",
       "    <tr>\n",
       "      <th>1</th>\n",
       "      <td>10</td>\n",
       "      <td>10</td>\n",
       "      <td>2008/2009</td>\n",
       "      <td>1</td>\n",
       "      <td>72</td>\n",
       "      <td>91</td>\n",
       "      <td>3</td>\n",
       "      <td>1</td>\n",
       "      <td>2.628818</td>\n",
       "      <td>3.839684</td>\n",
       "      <td>...</td>\n",
       "      <td>2.497894</td>\n",
       "      <td>3.660742</td>\n",
       "      <td>4.405663</td>\n",
       "      <td>2</td>\n",
       "      <td>1</td>\n",
       "      <td>0</td>\n",
       "      <td>0</td>\n",
       "      <td>7</td>\n",
       "      <td>19</td>\n",
       "      <td>2008</td>\n",
       "    </tr>\n",
       "    <tr>\n",
       "      <th>2</th>\n",
       "      <td>10</td>\n",
       "      <td>10</td>\n",
       "      <td>2008/2009</td>\n",
       "      <td>1</td>\n",
       "      <td>84</td>\n",
       "      <td>98</td>\n",
       "      <td>1</td>\n",
       "      <td>2</td>\n",
       "      <td>2.628818</td>\n",
       "      <td>3.839684</td>\n",
       "      <td>...</td>\n",
       "      <td>2.497894</td>\n",
       "      <td>3.660742</td>\n",
       "      <td>4.405663</td>\n",
       "      <td>-1</td>\n",
       "      <td>1</td>\n",
       "      <td>0</td>\n",
       "      <td>0</td>\n",
       "      <td>7</td>\n",
       "      <td>20</td>\n",
       "      <td>2008</td>\n",
       "    </tr>\n",
       "    <tr>\n",
       "      <th>3</th>\n",
       "      <td>10</td>\n",
       "      <td>10</td>\n",
       "      <td>2008/2009</td>\n",
       "      <td>1</td>\n",
       "      <td>173</td>\n",
       "      <td>100</td>\n",
       "      <td>1</td>\n",
       "      <td>2</td>\n",
       "      <td>2.628818</td>\n",
       "      <td>3.839684</td>\n",
       "      <td>...</td>\n",
       "      <td>2.497894</td>\n",
       "      <td>3.660742</td>\n",
       "      <td>4.405663</td>\n",
       "      <td>-1</td>\n",
       "      <td>1</td>\n",
       "      <td>0</td>\n",
       "      <td>0</td>\n",
       "      <td>7</td>\n",
       "      <td>20</td>\n",
       "      <td>2008</td>\n",
       "    </tr>\n",
       "    <tr>\n",
       "      <th>4</th>\n",
       "      <td>10</td>\n",
       "      <td>10</td>\n",
       "      <td>2008/2009</td>\n",
       "      <td>2</td>\n",
       "      <td>76</td>\n",
       "      <td>117</td>\n",
       "      <td>1</td>\n",
       "      <td>0</td>\n",
       "      <td>2.628818</td>\n",
       "      <td>3.839684</td>\n",
       "      <td>...</td>\n",
       "      <td>2.497894</td>\n",
       "      <td>3.660742</td>\n",
       "      <td>4.405663</td>\n",
       "      <td>1</td>\n",
       "      <td>1</td>\n",
       "      <td>0</td>\n",
       "      <td>0</td>\n",
       "      <td>7</td>\n",
       "      <td>23</td>\n",
       "      <td>2008</td>\n",
       "    </tr>\n",
       "  </tbody>\n",
       "</table>\n",
       "<p>5 rows × 21 columns</p>\n",
       "</div>"
      ],
      "text/plain": [
       "   country_name  league_name     season  stage  home_team  away_team  \\\n",
       "0            10           10  2008/2009      1         24         76   \n",
       "1            10           10  2008/2009      1         72         91   \n",
       "2            10           10  2008/2009      1         84         98   \n",
       "3            10           10  2008/2009      1        173        100   \n",
       "4            10           10  2008/2009      2         76        117   \n",
       "\n",
       "   home_team_goal  away_team_goal     B365H     B365D  ...       BSH  \\\n",
       "0               1               2  2.628818  3.839684  ...  2.497894   \n",
       "1               3               1  2.628818  3.839684  ...  2.497894   \n",
       "2               1               2  2.628818  3.839684  ...  2.497894   \n",
       "3               1               2  2.628818  3.839684  ...  2.497894   \n",
       "4               1               0  2.628818  3.839684  ...  2.497894   \n",
       "\n",
       "        BSD       BSA  diff_goals  target  hour  min  month  day_month  year  \n",
       "0  3.660742  4.405663          -1       1     0    0      7         18  2008  \n",
       "1  3.660742  4.405663           2       1     0    0      7         19  2008  \n",
       "2  3.660742  4.405663          -1       1     0    0      7         20  2008  \n",
       "3  3.660742  4.405663          -1       1     0    0      7         20  2008  \n",
       "4  3.660742  4.405663           1       1     0    0      7         23  2008  \n",
       "\n",
       "[5 rows x 21 columns]"
      ]
     },
     "execution_count": 125,
     "metadata": {},
     "output_type": "execute_result"
    }
   ],
   "source": [
    "data.head()"
   ]
  },
  {
   "cell_type": "code",
   "execution_count": 126,
   "metadata": {},
   "outputs": [
    {
     "name": "stdout",
     "output_type": "stream",
     "text": [
      "<class 'pandas.core.frame.DataFrame'>\n",
      "RangeIndex: 25979 entries, 0 to 25978\n",
      "Data columns (total 21 columns):\n",
      " #   Column          Non-Null Count  Dtype  \n",
      "---  ------          --------------  -----  \n",
      " 0   country_name    25979 non-null  int32  \n",
      " 1   league_name     25979 non-null  int32  \n",
      " 2   season          25979 non-null  object \n",
      " 3   stage           25979 non-null  int64  \n",
      " 4   home_team       25979 non-null  int32  \n",
      " 5   away_team       25979 non-null  int32  \n",
      " 6   home_team_goal  25979 non-null  int64  \n",
      " 7   away_team_goal  25979 non-null  int64  \n",
      " 8   B365H           25979 non-null  float64\n",
      " 9   B365D           25979 non-null  float64\n",
      " 10  B365A           25979 non-null  float64\n",
      " 11  BSH             25979 non-null  float64\n",
      " 12  BSD             25979 non-null  float64\n",
      " 13  BSA             25979 non-null  float64\n",
      " 14  diff_goals      25979 non-null  int64  \n",
      " 15  target          25979 non-null  int64  \n",
      " 16  hour            25979 non-null  int32  \n",
      " 17  min             25979 non-null  int32  \n",
      " 18  month           25979 non-null  int32  \n",
      " 19  day_month       25979 non-null  int32  \n",
      " 20  year            25979 non-null  int32  \n",
      "dtypes: float64(6), int32(9), int64(5), object(1)\n",
      "memory usage: 3.3+ MB\n"
     ]
    }
   ],
   "source": [
    "data.info()"
   ]
  },
  {
   "cell_type": "code",
   "execution_count": 127,
   "metadata": {},
   "outputs": [],
   "source": [
    "data['season'] = data['season'].astype(str)\n",
    "data[['start', 'end']] = data['season'].str.split('/', expand=True)\n",
    "data['start_season'] = pd.to_numeric(data['start'])\n",
    "data['end_season'] = pd.to_numeric(data['end'])\n",
    "data.drop(columns=['season'], inplace=True)"
   ]
  },
  {
   "cell_type": "code",
   "execution_count": 128,
   "metadata": {},
   "outputs": [
    {
     "data": {
      "text/html": [
       "<div>\n",
       "<style scoped>\n",
       "    .dataframe tbody tr th:only-of-type {\n",
       "        vertical-align: middle;\n",
       "    }\n",
       "\n",
       "    .dataframe tbody tr th {\n",
       "        vertical-align: top;\n",
       "    }\n",
       "\n",
       "    .dataframe thead th {\n",
       "        text-align: right;\n",
       "    }\n",
       "</style>\n",
       "<table border=\"1\" class=\"dataframe\">\n",
       "  <thead>\n",
       "    <tr style=\"text-align: right;\">\n",
       "      <th></th>\n",
       "      <th>country_name</th>\n",
       "      <th>league_name</th>\n",
       "      <th>stage</th>\n",
       "      <th>home_team</th>\n",
       "      <th>away_team</th>\n",
       "      <th>home_team_goal</th>\n",
       "      <th>away_team_goal</th>\n",
       "      <th>B365H</th>\n",
       "      <th>B365D</th>\n",
       "      <th>B365A</th>\n",
       "      <th>...</th>\n",
       "      <th>target</th>\n",
       "      <th>hour</th>\n",
       "      <th>min</th>\n",
       "      <th>month</th>\n",
       "      <th>day_month</th>\n",
       "      <th>year</th>\n",
       "      <th>start</th>\n",
       "      <th>end</th>\n",
       "      <th>start_season</th>\n",
       "      <th>end_season</th>\n",
       "    </tr>\n",
       "  </thead>\n",
       "  <tbody>\n",
       "    <tr>\n",
       "      <th>0</th>\n",
       "      <td>10</td>\n",
       "      <td>10</td>\n",
       "      <td>1</td>\n",
       "      <td>24</td>\n",
       "      <td>76</td>\n",
       "      <td>1</td>\n",
       "      <td>2</td>\n",
       "      <td>2.628818</td>\n",
       "      <td>3.839684</td>\n",
       "      <td>4.662222</td>\n",
       "      <td>...</td>\n",
       "      <td>1</td>\n",
       "      <td>0</td>\n",
       "      <td>0</td>\n",
       "      <td>7</td>\n",
       "      <td>18</td>\n",
       "      <td>2008</td>\n",
       "      <td>2008</td>\n",
       "      <td>2009</td>\n",
       "      <td>2008</td>\n",
       "      <td>2009</td>\n",
       "    </tr>\n",
       "    <tr>\n",
       "      <th>1</th>\n",
       "      <td>10</td>\n",
       "      <td>10</td>\n",
       "      <td>1</td>\n",
       "      <td>72</td>\n",
       "      <td>91</td>\n",
       "      <td>3</td>\n",
       "      <td>1</td>\n",
       "      <td>2.628818</td>\n",
       "      <td>3.839684</td>\n",
       "      <td>4.662222</td>\n",
       "      <td>...</td>\n",
       "      <td>1</td>\n",
       "      <td>0</td>\n",
       "      <td>0</td>\n",
       "      <td>7</td>\n",
       "      <td>19</td>\n",
       "      <td>2008</td>\n",
       "      <td>2008</td>\n",
       "      <td>2009</td>\n",
       "      <td>2008</td>\n",
       "      <td>2009</td>\n",
       "    </tr>\n",
       "    <tr>\n",
       "      <th>2</th>\n",
       "      <td>10</td>\n",
       "      <td>10</td>\n",
       "      <td>1</td>\n",
       "      <td>84</td>\n",
       "      <td>98</td>\n",
       "      <td>1</td>\n",
       "      <td>2</td>\n",
       "      <td>2.628818</td>\n",
       "      <td>3.839684</td>\n",
       "      <td>4.662222</td>\n",
       "      <td>...</td>\n",
       "      <td>1</td>\n",
       "      <td>0</td>\n",
       "      <td>0</td>\n",
       "      <td>7</td>\n",
       "      <td>20</td>\n",
       "      <td>2008</td>\n",
       "      <td>2008</td>\n",
       "      <td>2009</td>\n",
       "      <td>2008</td>\n",
       "      <td>2009</td>\n",
       "    </tr>\n",
       "    <tr>\n",
       "      <th>3</th>\n",
       "      <td>10</td>\n",
       "      <td>10</td>\n",
       "      <td>1</td>\n",
       "      <td>173</td>\n",
       "      <td>100</td>\n",
       "      <td>1</td>\n",
       "      <td>2</td>\n",
       "      <td>2.628818</td>\n",
       "      <td>3.839684</td>\n",
       "      <td>4.662222</td>\n",
       "      <td>...</td>\n",
       "      <td>1</td>\n",
       "      <td>0</td>\n",
       "      <td>0</td>\n",
       "      <td>7</td>\n",
       "      <td>20</td>\n",
       "      <td>2008</td>\n",
       "      <td>2008</td>\n",
       "      <td>2009</td>\n",
       "      <td>2008</td>\n",
       "      <td>2009</td>\n",
       "    </tr>\n",
       "    <tr>\n",
       "      <th>4</th>\n",
       "      <td>10</td>\n",
       "      <td>10</td>\n",
       "      <td>2</td>\n",
       "      <td>76</td>\n",
       "      <td>117</td>\n",
       "      <td>1</td>\n",
       "      <td>0</td>\n",
       "      <td>2.628818</td>\n",
       "      <td>3.839684</td>\n",
       "      <td>4.662222</td>\n",
       "      <td>...</td>\n",
       "      <td>1</td>\n",
       "      <td>0</td>\n",
       "      <td>0</td>\n",
       "      <td>7</td>\n",
       "      <td>23</td>\n",
       "      <td>2008</td>\n",
       "      <td>2008</td>\n",
       "      <td>2009</td>\n",
       "      <td>2008</td>\n",
       "      <td>2009</td>\n",
       "    </tr>\n",
       "  </tbody>\n",
       "</table>\n",
       "<p>5 rows × 24 columns</p>\n",
       "</div>"
      ],
      "text/plain": [
       "   country_name  league_name  stage  home_team  away_team  home_team_goal  \\\n",
       "0            10           10      1         24         76               1   \n",
       "1            10           10      1         72         91               3   \n",
       "2            10           10      1         84         98               1   \n",
       "3            10           10      1        173        100               1   \n",
       "4            10           10      2         76        117               1   \n",
       "\n",
       "   away_team_goal     B365H     B365D     B365A  ...  target  hour  min  \\\n",
       "0               2  2.628818  3.839684  4.662222  ...       1     0    0   \n",
       "1               1  2.628818  3.839684  4.662222  ...       1     0    0   \n",
       "2               2  2.628818  3.839684  4.662222  ...       1     0    0   \n",
       "3               2  2.628818  3.839684  4.662222  ...       1     0    0   \n",
       "4               0  2.628818  3.839684  4.662222  ...       1     0    0   \n",
       "\n",
       "   month  day_month  year  start   end  start_season  end_season  \n",
       "0      7         18  2008   2008  2009          2008        2009  \n",
       "1      7         19  2008   2008  2009          2008        2009  \n",
       "2      7         20  2008   2008  2009          2008        2009  \n",
       "3      7         20  2008   2008  2009          2008        2009  \n",
       "4      7         23  2008   2008  2009          2008        2009  \n",
       "\n",
       "[5 rows x 24 columns]"
      ]
     },
     "execution_count": 128,
     "metadata": {},
     "output_type": "execute_result"
    }
   ],
   "source": [
    "data.head()"
   ]
  },
  {
   "cell_type": "code",
   "execution_count": 129,
   "metadata": {},
   "outputs": [
    {
     "name": "stdout",
     "output_type": "stream",
     "text": [
      "<class 'pandas.core.frame.DataFrame'>\n",
      "RangeIndex: 25979 entries, 0 to 25978\n",
      "Data columns (total 24 columns):\n",
      " #   Column          Non-Null Count  Dtype  \n",
      "---  ------          --------------  -----  \n",
      " 0   country_name    25979 non-null  int32  \n",
      " 1   league_name     25979 non-null  int32  \n",
      " 2   stage           25979 non-null  int64  \n",
      " 3   home_team       25979 non-null  int32  \n",
      " 4   away_team       25979 non-null  int32  \n",
      " 5   home_team_goal  25979 non-null  int64  \n",
      " 6   away_team_goal  25979 non-null  int64  \n",
      " 7   B365H           25979 non-null  float64\n",
      " 8   B365D           25979 non-null  float64\n",
      " 9   B365A           25979 non-null  float64\n",
      " 10  BSH             25979 non-null  float64\n",
      " 11  BSD             25979 non-null  float64\n",
      " 12  BSA             25979 non-null  float64\n",
      " 13  diff_goals      25979 non-null  int64  \n",
      " 14  target          25979 non-null  int64  \n",
      " 15  hour            25979 non-null  int32  \n",
      " 16  min             25979 non-null  int32  \n",
      " 17  month           25979 non-null  int32  \n",
      " 18  day_month       25979 non-null  int32  \n",
      " 19  year            25979 non-null  int32  \n",
      " 20  start           25979 non-null  object \n",
      " 21  end             25979 non-null  object \n",
      " 22  start_season    25979 non-null  int64  \n",
      " 23  end_season      25979 non-null  int64  \n",
      "dtypes: float64(6), int32(9), int64(7), object(2)\n",
      "memory usage: 3.9+ MB\n"
     ]
    }
   ],
   "source": [
    "data.info()"
   ]
  },
  {
   "cell_type": "code",
   "execution_count": 130,
   "metadata": {},
   "outputs": [
    {
     "data": {
      "text/plain": [
       "<Axes: xlabel='target', ylabel='count'>"
      ]
     },
     "execution_count": 130,
     "metadata": {},
     "output_type": "execute_result"
    },
    {
     "data": {
      "image/png": "[encoded data removed]",
      "text/plain": [
       "<Figure size 640x480 with 1 Axes>"
      ]
     },
     "metadata": {},
     "output_type": "display_data"
    }
   ],
   "source": [
    "sns.countplot(x='target',data=data)"
   ]
  },
  {
   "cell_type": "code",
   "execution_count": 131,
   "metadata": {},
   "outputs": [],
   "source": [
    "X = data.drop('target', axis=1)\n",
    "y = data[['target']]\n"
   ]
  },
  {
   "cell_type": "code",
   "execution_count": 132,
   "metadata": {},
   "outputs": [
    {
     "data": {
      "text/plain": [
       "target\n",
       "1    19383\n",
       "0     6596\n",
       "Name: count, dtype: int64"
      ]
     },
     "execution_count": 132,
     "metadata": {},
     "output_type": "execute_result"
    }
   ],
   "source": [
    "y[\"target\"].value_counts()"
   ]
  },
  {
   "cell_type": "code",
   "execution_count": 133,
   "metadata": {},
   "outputs": [],
   "source": [
    "# install imblearn using the following pip command\n",
    "# pip install imbalanced-learn\n",
    "\n",
    "from imblearn.over_sampling import SMOTE\n",
    "\n",
    "sm = SMOTE(random_state=2)\n",
    "X_us, y_us = sm.fit_resample(X, y)"
   ]
  },
  {
   "cell_type": "code",
   "execution_count": 134,
   "metadata": {},
   "outputs": [
    {
     "data": {
      "text/plain": [
       "target\n",
       "1    19383\n",
       "0    19383\n",
       "Name: count, dtype: int64"
      ]
     },
     "execution_count": 134,
     "metadata": {},
     "output_type": "execute_result"
    }
   ],
   "source": [
    "y_us[\"target\"].value_counts()"
   ]
  },
  {
   "cell_type": "code",
   "execution_count": 135,
   "metadata": {},
   "outputs": [
    {
     "data": {
      "text/plain": [
       "<Axes: xlabel='target', ylabel='count'>"
      ]
     },
     "execution_count": 135,
     "metadata": {},
     "output_type": "execute_result"
    },
    {
     "data": {
      "image/png": "[encoded data removed]",
      "text/plain": [
       "<Figure size 640x480 with 1 Axes>"
      ]
     },
     "metadata": {},
     "output_type": "display_data"
    }
   ],
   "source": [
    "sns.countplot(x='target',data=y_us)"
   ]
  },
  {
   "cell_type": "code",
   "execution_count": 136,
   "metadata": {},
   "outputs": [],
   "source": [
    "X_train, X_test, y_train, y_test = train_test_split(X_us, y_us, test_size=0.3, random_state=42)"
   ]
  },
  {
   "cell_type": "code",
   "execution_count": 137,
   "metadata": {},
   "outputs": [],
   "source": [
    "from sklearn.preprocessing import StandardScaler\n",
    "scaler = StandardScaler()\n",
    "X_train_scaled = scaler.fit_transform(X_train)\n",
    "X_test_scaled = scaler.transform(X_test)"
   ]
  },
  {
   "cell_type": "code",
   "execution_count": 138,
   "metadata": {},
   "outputs": [
    {
     "name": "stdout",
     "output_type": "stream",
     "text": [
      "(27136, 23)\n",
      "(11630, 23)\n",
      "(27136, 1)\n",
      "(11630, 1)\n"
     ]
    }
   ],
   "source": [
    "print(X_train.shape)\n",
    "print(X_test.shape)\n",
    "print(y_train.shape)\n",
    "print(y_test.shape)"
   ]
  },
  {
   "cell_type": "code",
   "execution_count": 139,
   "metadata": {},
   "outputs": [
    {
     "name": "stdout",
     "output_type": "stream",
     "text": [
      "Accuracy: 0.77\n",
      "              precision    recall  f1-score   support\n",
      "\n",
      "           0       0.84      0.68      0.75      5867\n",
      "           1       0.73      0.87      0.79      5763\n",
      "\n",
      "    accuracy                           0.77     11630\n",
      "   macro avg       0.78      0.77      0.77     11630\n",
      "weighted avg       0.78      0.77      0.77     11630\n",
      "\n"
     ]
    }
   ],
   "source": [
    "# Create a logistic regression model\n",
    "model = LogisticRegression(max_iter=1000)\n",
    "\n",
    "# Train the model\n",
    "model.fit(X_train_scaled, y_train)\n",
    "\n",
    "# Make predictions\n",
    "y_pred = model.predict(X_test_scaled)\n",
    "\n",
    "accuracy = accuracy_score(y_test, y_pred)\n",
    "report = classification_report(y_test, y_pred)\n",
    "\n",
    "print(f'Accuracy: {accuracy:.2f}')\n",
    "print(report)"
   ]
  },
  {
   "cell_type": "code",
   "execution_count": 140,
   "metadata": {},
   "outputs": [],
   "source": [
    "from tkinter import *\n",
    "from tkinter import messagebox\n",
    "from tkinter import ttk\n",
    "import warnings"
   ]
  },
  {
   "cell_type": "code",
   "execution_count": 141,
   "metadata": {},
   "outputs": [],
   "source": [
    "# Form\n",
    "form = Tk()\n",
    "form.title(\"DỰ ĐOÁN PHÂN LỚP TRẬN BÓNG ĐÁ\")\n",
    "form.geometry(\"900x850\") # khởi tạo cửa sổ \n",
    "form.configure(background=\"#D3E3D3\")\n",
    "warnings.filterwarnings(\"ignore\", category=UserWarning)"
   ]
  },
  {
   "cell_type": "code",
   "execution_count": 142,
   "metadata": {},
   "outputs": [],
   "source": [
    "leagueOptions = countryOptions = ['0','1', '2','3','4','5','6','7','8','9','10']\n",
    "stageOptions = ['1', '2','3','4','5','6','7','8','9','10','11','12','13','14','15','16','17','18','19','20','21','22','23','24','25','26','27','28','29','30','31','32','33','34','35','36','37','38']\n",
    "homegoalOptions = awaygoalOptions = ['0','1', '2','3','4','5','6','7','8','9','10']\n",
    "diffgoalOptions = ['-9','-8','-7','-6','-5','-4','-3','-2','-1','0','1', '2','3','4','5','6','7','8','9','10']"
   ]
  },
  {
   "cell_type": "code",
   "execution_count": 143,
   "metadata": {},
   "outputs": [],
   "source": [
    "# Information\n",
    "lable_ten = Label(form, text = \"Nhập thông tin trận bóng:\", font=(\"Times New Roman\", 12,\"bold\"), fg=\"red\",background=\"#D3E3D3\")\n",
    "# Tạo 1 label có text là ...., font là Aria Bold, size là 10px và có màu chữ là đỏ\n",
    "lable_ten.grid(row = 1, column = 1, padx = 40, pady = 10) # gán vị trí cho label, thêm độ đệm theo trục X(ngang) là 40px là theo trục y(dọc) là 10px\n"
   ]
  },
  {
   "cell_type": "code",
   "execution_count": 144,
   "metadata": {},
   "outputs": [],
   "source": [
    "# country_name\n",
    "lable_country_name = Label(form, text = \"Country Name\",font=(\"Times New Roman\", 12),background=\"#D3E3D3\")\n",
    "lable_country_name.grid(row = 2, column = 1, padx = 40, pady = 10)\n",
    "comboBox_country_name = ttk.Combobox(form, values=countryOptions)\n",
    "comboBox_country_name.grid(row = 2, column = 2)"
   ]
  },
  {
   "cell_type": "code",
   "execution_count": 145,
   "metadata": {},
   "outputs": [],
   "source": [
    "# league_name\n",
    "lable_league_name = Label(form, text = \"League Name\",font=(\"Times New Roman\", 12),background=\"#D3E3D3\")\n",
    "lable_league_name.grid(row = 2, column = 3, pady = 10, padx = 40)\n",
    "comboBox_league_name = ttk.Combobox(form, values=leagueOptions)\n",
    "comboBox_league_name.grid(row=2, column=4)"
   ]
  },
  {
   "cell_type": "code",
   "execution_count": 146,
   "metadata": {},
   "outputs": [],
   "source": [
    "# stage\n",
    "lable_stage = Label(form, text = \"Stage\",font=(\"Times New Roman\", 12),background=\"#D3E3D3\")\n",
    "lable_stage.grid(row = 3, column = 1,pady = 10, padx = 40)\n",
    "comboBox_stage = ttk.Combobox(form, values=stageOptions)\n",
    "comboBox_stage.grid(row=3, column=2)"
   ]
  },
  {
   "cell_type": "code",
   "execution_count": 147,
   "metadata": {},
   "outputs": [],
   "source": [
    "# home_team\n",
    "lable_home_team = Label(form, text = \"Home Team\",font=(\"Times New Roman\", 12),background=\"#D3E3D3\")\n",
    "lable_home_team.grid(row = 3, column = 3, pady = 10, padx = 40)\n",
    "textbox_home_team = Entry(form)\n",
    "textbox_home_team.grid(row=3, column=4)"
   ]
  },
  {
   "cell_type": "code",
   "execution_count": 148,
   "metadata": {},
   "outputs": [],
   "source": [
    "# away_team\n",
    "lable_away_team = Label(form, text = \"Away Team\",font=(\"Times New Roman\", 12),background=\"#D3E3D3\")\n",
    "lable_away_team.grid(row = 4, column = 1, pady = 10, padx = 40 )\n",
    "textbox_away_team = Entry(form)\n",
    "textbox_away_team.grid(row = 4, column = 2)"
   ]
  },
  {
   "cell_type": "code",
   "execution_count": 149,
   "metadata": {},
   "outputs": [],
   "source": [
    "# home_team_goal\n",
    "lable_home_team_goal = Label(form, text = \"Home Team Goal\",font=(\"Times New Roman\", 12),background=\"#D3E3D3\")\n",
    "lable_home_team_goal.grid(row = 4, column = 3, pady = 10, padx = 40 )\n",
    "comboBox_home_team_goal = ttk.Combobox(form, values=homegoalOptions)\n",
    "comboBox_home_team_goal.grid(row=4, column=4)"
   ]
  },
  {
   "cell_type": "code",
   "execution_count": 150,
   "metadata": {},
   "outputs": [],
   "source": [
    "# away_team_goal\n",
    "lable_away_team_goal = Label(form, text = \"Away Team Goal\",font=(\"Times New Roman\", 12),background=\"#D3E3D3\")\n",
    "lable_away_team_goal.grid(row = 5, column = 1, pady = 10, padx = 40 )\n",
    "comboBox_away_team_goal = ttk.Combobox(form, values=awaygoalOptions)\n",
    "comboBox_away_team_goal.grid(row = 5, column = 2)"
   ]
  },
  {
   "cell_type": "code",
   "execution_count": 151,
   "metadata": {},
   "outputs": [],
   "source": [
    "# B365H\n",
    "lable_B365H = Label(form, text = \"B365H\",font=(\"Times New Roman\", 12),background=\"#D3E3D3\")\n",
    "lable_B365H.grid(row = 5, column = 3, pady = 10, padx = 40 )\n",
    "textbox_B365H = Entry(form)\n",
    "textbox_B365H.grid(row = 5, column = 4)"
   ]
  },
  {
   "cell_type": "code",
   "execution_count": 152,
   "metadata": {},
   "outputs": [],
   "source": [
    "# B365D\n",
    "lable_B365D = Label(form, text = \"B365D\",font=(\"Times New Roman\", 12),background=\"#D3E3D3\")\n",
    "lable_B365D.grid(row = 6, column = 1, pady = 10, padx = 40 )\n",
    "textbox_B365D = Entry(form)\n",
    "textbox_B365D.grid(row = 6, column = 2)"
   ]
  },
  {
   "cell_type": "code",
   "execution_count": 153,
   "metadata": {},
   "outputs": [],
   "source": [
    "# B365A\n",
    "lable_B365A = Label(form, text = \"B365A\",font=(\"Times New Roman\", 12),background=\"#D3E3D3\")\n",
    "lable_B365A.grid(row = 6, column = 3, pady = 10, padx = 40 )\n",
    "textbox_B365A = Entry(form)\n",
    "textbox_B365A.grid(row = 6, column = 4)"
   ]
  },
  {
   "cell_type": "code",
   "execution_count": 154,
   "metadata": {},
   "outputs": [],
   "source": [
    "# BSH\n",
    "lable_BSH = Label(form, text = \"BSH\",font=(\"Times New Roman\", 12),background=\"#D3E3D3\")\n",
    "lable_BSH.grid(row = 7, column = 1, pady = 10, padx = 40 )\n",
    "textbox_BSH = Entry(form)\n",
    "textbox_BSH.grid(row = 7, column = 2)"
   ]
  },
  {
   "cell_type": "code",
   "execution_count": 155,
   "metadata": {},
   "outputs": [],
   "source": [
    "# BSD\n",
    "lable_BSD = Label(form, text = \"BSD\",font=(\"Times New Roman\", 12),background=\"#D3E3D3\")\n",
    "lable_BSD.grid(row = 7, column = 3, pady = 10, padx = 40 )\n",
    "textbox_BSD = Entry(form)\n",
    "textbox_BSD.grid(row = 7, column = 4)"
   ]
  },
  {
   "cell_type": "code",
   "execution_count": 156,
   "metadata": {},
   "outputs": [],
   "source": [
    "# BSA\n",
    "lable_BSA = Label(form, text = \"BSA\",font=(\"Times New Roman\", 12),background=\"#D3E3D3\")\n",
    "lable_BSA.grid(row = 8, column = 1, pady = 10, padx = 40 )\n",
    "textbox_BSA = Entry(form)\n",
    "textbox_BSA.grid(row = 8, column = 2)"
   ]
  },
  {
   "cell_type": "code",
   "execution_count": 157,
   "metadata": {},
   "outputs": [],
   "source": [
    "# diff_goals\n",
    "lable_diff_goals = Label(form, text = \"Diff Goals\",font=(\"Times New Roman\", 12),background=\"#D3E3D3\")\n",
    "lable_diff_goals.grid(row = 8, column = 3, pady = 10, padx = 40 )\n",
    "comboBox_diff_goals = ttk.Combobox(form, values=diffgoalOptions)\n",
    "comboBox_diff_goals.grid(row = 8, column = 4)"
   ]
  },
  {
   "cell_type": "code",
   "execution_count": 158,
   "metadata": {},
   "outputs": [],
   "source": [
    "# target\n",
    "lable_target = Label(form, text = \"Target\",font=(\"Times New Roman\", 12),background=\"#D3E3D3\")\n",
    "lable_target.grid(row = 9, column = 1, pady = 10, padx = 40 )\n",
    "textbox_target = Entry(form)\n",
    "textbox_target.grid(row = 9, column = 2)"
   ]
  },
  {
   "cell_type": "code",
   "execution_count": 159,
   "metadata": {},
   "outputs": [
    {
     "name": "stdout",
     "output_type": "stream",
     "text": [
      "-9\n",
      "10\n"
     ]
    }
   ],
   "source": [
    "print(data['diff_goals'].min())\n",
    "print(data['diff_goals'].max())"
   ]
  },
  {
   "cell_type": "code",
   "execution_count": 160,
   "metadata": {},
   "outputs": [],
   "source": [
    "def dudoan():\n",
    "    Country_Name = comboBox_country_name.get()\n",
    "    League_Name = comboBox_league_name.get()\n",
    "    Stage = comboBox_stage.get()\n",
    "    Home_team = textbox_home_team.get()\n",
    "    Away_team = textbox_away_team.get()\n",
    "    Home_Team_Goal = comboBox_home_team_goal.get()\n",
    "    Away_Team_Goal = comboBox_away_team_goal.get()\n",
    "    B365Hp = textbox_B365H.get()\n",
    "    B365Dp = textbox_B365D.get()\n",
    "    B365Ap = textbox_B365A.get()\n",
    "    BSHp = textbox_BSH.get()\n",
    "    BSDp = textbox_BSD.get()\n",
    "    BSAp = textbox_BSA.get()\n",
    "    Diff_Goal = comboBox_diff_goals.get()\n",
    "    Target = textbox_target.get()\n",
    "    if ((Country_Name == '') or (League_Name == '') or (Stage == '') or (Home_team  == '') or (Away_team == '') or (Home_Team_Goal == '') or (Away_Team_Goal == '') or (B365Hp == '') or (B365Dp == '') or (B365Ap == '') or (BSHp == '') or (BSDp == '') or (BSAp == '') or (Diff_Goal =='')):\n",
    "        messagebox.showinfo(\"Error\", \"Bạn cần nhập đầy đủ thông tin !\")\n",
    "    else:\n",
    "        country_Name = int(Country_Name)\n",
    "        league_Name = int(League_Name)\n",
    "        stage = int(Stage)\n",
    "        home_team = int(Home_team)\n",
    "        away_team = int(Away_team)\n",
    "        home_Team_Goal = int(Home_Team_Goal)\n",
    "        away_Team_Goal = int(Away_Team_Goal)\n",
    "        b365Hp = float(B365Hp)\n",
    "        b365Dp = float(B365Dp)\n",
    "        b365Ap = float(B365Ap)\n",
    "        bSHp = float(BSHp)\n",
    "        bSDp = float(BSDp)\n",
    "        bSAp = float(BSAp)\n",
    "        diff_Goal = int(Diff_Goal)\n",
    "        targeT = int(Target)\n",
    "\n",
    "        #nhan = bagging_logislic_model.predict([float(Arae), float(Perimeter), float(Compactness), float(Kernel_length), float(Kernel_width), float(Asymmetry_coefficient), float(Groove_length), float(Species)])\n",
    "        #predict =np.array([area, perimeter, compactness, kernel_length, kernel_width, asymmetry_coefficient, groove_length, species]).reshape(1,-1)\n",
    "        predict = np.array([int(Country_Name), int(League_Name), int(Stage), int(Home_team), int(Away_team), int(Home_Team_Goal), int(Away_Team_Goal), float(B365Hp), float(B365Dp),float(B365Ap),float(BSHp),float(BSDp),float(BSAp),int(Diff_Goal),int(Target)]).reshape(1, -1)\n",
    "        #y_kqua = bagging_logislic_model.predict(predict)\n",
    "        y_kqua = model.predict(X_test_scaled)\n",
    "        #y_kqua = bagging_PLA_model.predict(predict)\n",
    "        lbl.configure(text=y_kqua[0])\n",
    "\n",
    "acc = Label(form, text=\"Độ đo đánh giá chất lượng mô hình: \", font=(\"Times New Roman\", 12,\"bold\"), fg=\"red\", pady=20,background=\"#D3E3D3\")\n",
    "acc.grid(column=1, row=10)\n",
    "\n",
    "# Accuracy\n",
    "Accuracy = Label(form, text=\"Accuracy: \",font=(\"Times New Roman\", 14,\"bold\"),anchor='w',background=\"#D3E3D3\")# anchor='w' đặt văn bản bên trái, anchor='e' đặt văn bản bên phải\n",
    "Accuracy.grid(column=2, row=11)\n",
    "Label(form, text=accuracy,anchor='e',font=(\"Times New Roman\", 12,\"bold\"),background=\"#D3E3D3\").grid(column=3, row=11)\n",
    "\n",
    "# Report\n",
    "Report = Label(form, text=\"Report: \",font=(\"Times New Roman\", 14,\"bold\"),anchor='w',background=\"#D3E3D3\")# anchor='w' đặt văn bản bên trái, anchor='e' đặt văn bản bên phải\n",
    "Report.grid(column=2, row=12)\n",
    "Label(form, text=report,anchor='e',font=(\"Times New Roman\", 12,\"bold\"),background=\"#D3E3D3\").grid(column=3, row=12)\n",
    "\n",
    "# Click\n",
    "button_cart = Button(form, text = 'Kết quả dự đoán theo MLP',font=(\"Times New Roman\", 12,\"bold\"), command = dudoan)\n",
    "button_cart.grid(row = 15, column = 1, pady = 20)\n",
    "lbl = Label(form, text=\".....\",font=(\"Times New Roman\", 16,\"bold\"),background=\"#D3E3D3\", pady=10)\n",
    "lbl.grid(column=2, row=15)\n",
    "form.mainloop()"
   ]
  }
 ],
 "metadata": {
  "kernelspec": {
   "display_name": "Python 3",
   "language": "python",
   "name": "python3"
  },
  "language_info": {
   "codemirror_mode": {
    "name": "ipython",
    "version": 3
   },
   "file_extension": ".py",
   "mimetype": "text/x-python",
   "name": "python",
   "nbconvert_exporter": "python",
   "pygments_lexer": "ipython3",
   "version": "3.12.0"
  }
 },
 "nbformat": 4,
 "nbformat_minor": 2
}
